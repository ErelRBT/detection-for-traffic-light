{
 "cells": [
  {
   "cell_type": "code",
   "execution_count": 2,
   "metadata": {
    "collapsed": true
   },
   "outputs": [],
   "source": [
    "import os\n",
    "import cv2\n",
    "import random\n",
    "import pandas as pd\n",
    "import matplotlib.pyplot as plt\n",
    "import time\n",
    "from ultralytics import YOLO\n",
    "import threading\n",
    "random.seed(int(time.time()))"
   ]
  },
  {
   "cell_type": "markdown",
   "source": [],
   "metadata": {
    "collapsed": false
   }
  },
  {
   "cell_type": "code",
   "execution_count": 3,
   "outputs": [],
   "source": [
    "# Set the path to your dataset directory\n",
    "dataset_dir = \"C:\\ECE\\Inge_3\\S1\\IR\\Traffic1\\\\archive2\\Car-Person-v2-Roboflow-Owais-Ahmad\"\n",
    "\n",
    "# Specify the directory containing the train and val images\n",
    "train_dir = os.path.join(dataset_dir, \"train\\images\")\n",
    "label_dir_train = os.path.join(dataset_dir, \"train\\labels\")\n",
    "val_dir = os.path.join(dataset_dir, \"val\\images\")\n",
    "label_dir_val = os.path.join(dataset_dir, \"val\\labels\")\n",
    "\n",
    "# Get a list of all image files in the train directory\n",
    "image_files = [f for f in os.listdir(train_dir) if f.endswith((\".jpg\", \".jpeg\"))]"
   ],
   "metadata": {
    "collapsed": false
   }
  },
  {
   "cell_type": "code",
   "execution_count": null,
   "outputs": [],
   "source": [],
   "metadata": {
    "collapsed": false,
    "pycharm": {
     "is_executing": true
    }
   }
  },
  {
   "cell_type": "code",
   "execution_count": 5,
   "outputs": [
    {
     "name": "stdout",
     "output_type": "stream",
     "text": [
      "Ultralytics 8.3.35  Python-3.10.11 torch-2.5.1+cpu CPU (11th Gen Intel Core(TM) i7-1165G7 2.80GHz)\n",
      "\u001B[34m\u001B[1mengine\\trainer: \u001B[0mtask=detect, mode=train, model=yolov8n.yaml, data=config.yaml, epochs=100, time=None, patience=100, batch=16, imgsz=640, save=True, save_period=-1, cache=False, device=None, workers=8, project=None, name=train, exist_ok=False, pretrained=True, optimizer=auto, verbose=True, seed=0, deterministic=True, single_cls=False, rect=False, cos_lr=False, close_mosaic=10, resume=False, amp=True, fraction=1.0, profile=False, freeze=None, multi_scale=False, overlap_mask=True, mask_ratio=4, dropout=0.0, val=True, split=val, save_json=False, save_hybrid=False, conf=None, iou=0.7, max_det=300, half=False, dnn=False, plots=True, source=None, vid_stride=1, stream_buffer=False, visualize=False, augment=False, agnostic_nms=False, classes=None, retina_masks=False, embed=None, show=False, save_frames=False, save_txt=False, save_conf=False, save_crop=False, show_labels=True, show_conf=True, show_boxes=True, line_width=None, format=torchscript, keras=False, optimize=False, int8=False, dynamic=False, simplify=True, opset=None, workspace=4, nms=False, lr0=0.01, lrf=0.01, momentum=0.937, weight_decay=0.0005, warmup_epochs=3.0, warmup_momentum=0.8, warmup_bias_lr=0.1, box=7.5, cls=0.5, dfl=1.5, pose=12.0, kobj=1.0, label_smoothing=0.0, nbs=64, hsv_h=0.015, hsv_s=0.7, hsv_v=0.4, degrees=0.0, translate=0.1, scale=0.5, shear=0.0, perspective=0.0, flipud=0.0, fliplr=0.5, bgr=0.0, mosaic=1.0, mixup=0.0, copy_paste=0.0, copy_paste_mode=flip, auto_augment=randaugment, erasing=0.4, crop_fraction=1.0, cfg=None, tracker=botsort.yaml, save_dir=runs\\detect\\train\n",
      "Overriding model.yaml nc=80 with nc=2\n",
      "\n",
      "                   from  n    params  module                                       arguments                     \n",
      "  0                  -1  1       464  ultralytics.nn.modules.conv.Conv             [3, 16, 3, 2]                 \n",
      "  1                  -1  1      4672  ultralytics.nn.modules.conv.Conv             [16, 32, 3, 2]                \n",
      "  2                  -1  1      7360  ultralytics.nn.modules.block.C2f             [32, 32, 1, True]             \n",
      "  3                  -1  1     18560  ultralytics.nn.modules.conv.Conv             [32, 64, 3, 2]                \n",
      "  4                  -1  2     49664  ultralytics.nn.modules.block.C2f             [64, 64, 2, True]             \n",
      "  5                  -1  1     73984  ultralytics.nn.modules.conv.Conv             [64, 128, 3, 2]               \n",
      "  6                  -1  2    197632  ultralytics.nn.modules.block.C2f             [128, 128, 2, True]           \n",
      "  7                  -1  1    295424  ultralytics.nn.modules.conv.Conv             [128, 256, 3, 2]              \n",
      "  8                  -1  1    460288  ultralytics.nn.modules.block.C2f             [256, 256, 1, True]           \n",
      "  9                  -1  1    164608  ultralytics.nn.modules.block.SPPF            [256, 256, 5]                 \n",
      " 10                  -1  1         0  torch.nn.modules.upsampling.Upsample         [None, 2, 'nearest']          \n",
      " 11             [-1, 6]  1         0  ultralytics.nn.modules.conv.Concat           [1]                           \n",
      " 12                  -1  1    148224  ultralytics.nn.modules.block.C2f             [384, 128, 1]                 \n",
      " 13                  -1  1         0  torch.nn.modules.upsampling.Upsample         [None, 2, 'nearest']          \n",
      " 14             [-1, 4]  1         0  ultralytics.nn.modules.conv.Concat           [1]                           \n",
      " 15                  -1  1     37248  ultralytics.nn.modules.block.C2f             [192, 64, 1]                  \n",
      " 16                  -1  1     36992  ultralytics.nn.modules.conv.Conv             [64, 64, 3, 2]                \n",
      " 17            [-1, 12]  1         0  ultralytics.nn.modules.conv.Concat           [1]                           \n",
      " 18                  -1  1    123648  ultralytics.nn.modules.block.C2f             [192, 128, 1]                 \n",
      " 19                  -1  1    147712  ultralytics.nn.modules.conv.Conv             [128, 128, 3, 2]              \n",
      " 20             [-1, 9]  1         0  ultralytics.nn.modules.conv.Concat           [1]                           \n",
      " 21                  -1  1    493056  ultralytics.nn.modules.block.C2f             [384, 256, 1]                 \n",
      " 22        [15, 18, 21]  1    751702  ultralytics.nn.modules.head.Detect           [2, [64, 128, 256]]           \n",
      "YOLOv8n summary: 225 layers, 3,011,238 parameters, 3,011,222 gradients, 8.2 GFLOPs\n",
      "\n",
      "Freezing layer 'model.22.dfl.conv.weight'\n"
     ]
    },
    {
     "name": "stderr",
     "output_type": "stream",
     "text": [
      "\u001B[34m\u001B[1mtrain: \u001B[0mScanning C:\\ECE\\Inge_3\\S1\\IR\\Traffic1\\dataset\\labels\\train.cache... 1571 images, 0 backgrounds, 0 corrupt: 100%|██████████| 1571/1571 [00:00<?, ?it/s]\n",
      "\u001B[34m\u001B[1mval: \u001B[0mScanning C:\\ECE\\Inge_3\\S1\\IR\\Traffic1\\dataset\\labels\\val.cache... 672 images, 0 backgrounds, 0 corrupt: 100%|██████████| 672/672 [00:00<?, ?it/s]\n"
     ]
    },
    {
     "name": "stdout",
     "output_type": "stream",
     "text": [
      "Plotting labels to runs\\detect\\train\\labels.jpg... \n",
      "\u001B[34m\u001B[1moptimizer:\u001B[0m 'optimizer=auto' found, ignoring 'lr0=0.01' and 'momentum=0.937' and determining best 'optimizer', 'lr0' and 'momentum' automatically... \n",
      "\u001B[34m\u001B[1moptimizer:\u001B[0m AdamW(lr=0.001667, momentum=0.9) with parameter groups 57 weight(decay=0.0), 64 weight(decay=0.0005), 63 bias(decay=0.0)\n",
      "Image sizes 640 train, 640 val\n",
      "Using 0 dataloader workers\n",
      "Logging results to \u001B[1mruns\\detect\\train\u001B[0m\n",
      "Starting training for 100 epochs...\n",
      "\n",
      "      Epoch    GPU_mem   box_loss   cls_loss   dfl_loss  Instances       Size\n"
     ]
    },
    {
     "name": "stderr",
     "output_type": "stream",
     "text": [
      "      1/100         0G      3.743      3.685      4.062         39        640: 100%|██████████| 99/99 [06:31<00:00,  3.95s/it]\n",
      "                 Class     Images  Instances      Box(P          R      mAP50  mAP50-95): 100%|██████████| 21/21 [01:10<00:00,  3.36s/it]"
     ]
    },
    {
     "name": "stdout",
     "output_type": "stream",
     "text": [
      "                   all        672       5027    0.00347      0.185     0.0069    0.00248\n"
     ]
    },
    {
     "name": "stderr",
     "output_type": "stream",
     "text": [
      "\n"
     ]
    },
    {
     "name": "stdout",
     "output_type": "stream",
     "text": [
      "\n",
      "      Epoch    GPU_mem   box_loss   cls_loss   dfl_loss  Instances       Size\n"
     ]
    },
    {
     "name": "stderr",
     "output_type": "stream",
     "text": [
      "      2/100         0G      3.242      3.365      3.418         40        640: 100%|██████████| 99/99 [06:33<00:00,  3.98s/it]\n",
      "                 Class     Images  Instances      Box(P          R      mAP50  mAP50-95): 100%|██████████| 21/21 [01:48<00:00,  5.17s/it]"
     ]
    },
    {
     "name": "stdout",
     "output_type": "stream",
     "text": [
      "                   all        672       5027     0.0374     0.0778      0.018    0.00466\n"
     ]
    },
    {
     "name": "stderr",
     "output_type": "stream",
     "text": [
      "\n"
     ]
    },
    {
     "name": "stdout",
     "output_type": "stream",
     "text": [
      "\n",
      "      Epoch    GPU_mem   box_loss   cls_loss   dfl_loss  Instances       Size\n"
     ]
    },
    {
     "name": "stderr",
     "output_type": "stream",
     "text": [
      "      3/100         0G      2.966      3.188      3.038         40        640: 100%|██████████| 99/99 [06:33<00:00,  3.97s/it]\n",
      "                 Class     Images  Instances      Box(P          R      mAP50  mAP50-95): 100%|██████████| 21/21 [02:05<00:00,  5.97s/it]"
     ]
    },
    {
     "name": "stdout",
     "output_type": "stream",
     "text": [
      "                   all        672       5027     0.0625      0.084      0.028    0.00889\n"
     ]
    },
    {
     "name": "stderr",
     "output_type": "stream",
     "text": [
      "\n"
     ]
    },
    {
     "name": "stdout",
     "output_type": "stream",
     "text": [
      "\n",
      "      Epoch    GPU_mem   box_loss   cls_loss   dfl_loss  Instances       Size\n"
     ]
    },
    {
     "name": "stderr",
     "output_type": "stream",
     "text": [
      "      4/100         0G      2.743      3.039      2.796         12        640: 100%|██████████| 99/99 [06:37<00:00,  4.02s/it]\n",
      "                 Class     Images  Instances      Box(P          R      mAP50  mAP50-95): 100%|██████████| 21/21 [01:28<00:00,  4.19s/it]"
     ]
    },
    {
     "name": "stdout",
     "output_type": "stream",
     "text": [
      "                   all        672       5027      0.128      0.123     0.0572     0.0172\n"
     ]
    },
    {
     "name": "stderr",
     "output_type": "stream",
     "text": [
      "\n"
     ]
    },
    {
     "name": "stdout",
     "output_type": "stream",
     "text": [
      "\n",
      "      Epoch    GPU_mem   box_loss   cls_loss   dfl_loss  Instances       Size\n"
     ]
    },
    {
     "name": "stderr",
     "output_type": "stream",
     "text": [
      "      5/100         0G      2.627      2.876      2.639         34        640: 100%|██████████| 99/99 [07:17<00:00,  4.42s/it]\n",
      "                 Class     Images  Instances      Box(P          R      mAP50  mAP50-95): 100%|██████████| 21/21 [01:50<00:00,  5.28s/it]"
     ]
    },
    {
     "name": "stdout",
     "output_type": "stream",
     "text": [
      "                   all        672       5027      0.115      0.133     0.0543     0.0161\n"
     ]
    },
    {
     "name": "stderr",
     "output_type": "stream",
     "text": [
      "\n"
     ]
    },
    {
     "name": "stdout",
     "output_type": "stream",
     "text": [
      "\n",
      "      Epoch    GPU_mem   box_loss   cls_loss   dfl_loss  Instances       Size\n"
     ]
    },
    {
     "name": "stderr",
     "output_type": "stream",
     "text": [
      "      6/100         0G      2.506      2.815      2.539         24        640: 100%|██████████| 99/99 [07:25<00:00,  4.50s/it]\n",
      "                 Class     Images  Instances      Box(P          R      mAP50  mAP50-95): 100%|██████████| 21/21 [01:20<00:00,  3.83s/it]"
     ]
    },
    {
     "name": "stdout",
     "output_type": "stream",
     "text": [
      "                   all        672       5027      0.266      0.168      0.105      0.035\n"
     ]
    },
    {
     "name": "stderr",
     "output_type": "stream",
     "text": [
      "\n"
     ]
    },
    {
     "name": "stdout",
     "output_type": "stream",
     "text": [
      "\n",
      "      Epoch    GPU_mem   box_loss   cls_loss   dfl_loss  Instances       Size\n"
     ]
    },
    {
     "name": "stderr",
     "output_type": "stream",
     "text": [
      "      7/100         0G        2.4      2.688      2.439         30        640: 100%|██████████| 99/99 [07:30<00:00,  4.55s/it]\n",
      "                 Class     Images  Instances      Box(P          R      mAP50  mAP50-95): 100%|██████████| 21/21 [01:15<00:00,  3.62s/it]\n"
     ]
    },
    {
     "name": "stdout",
     "output_type": "stream",
     "text": [
      "                   all        672       5027      0.277      0.165      0.126     0.0444\n",
      "\n",
      "      Epoch    GPU_mem   box_loss   cls_loss   dfl_loss  Instances       Size\n"
     ]
    },
    {
     "name": "stderr",
     "output_type": "stream",
     "text": [
      "      8/100         0G      2.322      2.593      2.377         33        640: 100%|██████████| 99/99 [07:26<00:00,  4.51s/it]\n",
      "                 Class     Images  Instances      Box(P          R      mAP50  mAP50-95): 100%|██████████| 21/21 [01:27<00:00,  4.16s/it]"
     ]
    },
    {
     "name": "stdout",
     "output_type": "stream",
     "text": [
      "                   all        672       5027      0.266      0.228      0.161     0.0595\n"
     ]
    },
    {
     "name": "stderr",
     "output_type": "stream",
     "text": [
      "\n"
     ]
    },
    {
     "name": "stdout",
     "output_type": "stream",
     "text": [
      "\n",
      "      Epoch    GPU_mem   box_loss   cls_loss   dfl_loss  Instances       Size\n"
     ]
    },
    {
     "name": "stderr",
     "output_type": "stream",
     "text": [
      "      9/100         0G      2.259       2.49      2.298         46        640: 100%|██████████| 99/99 [07:37<00:00,  4.62s/it]\n",
      "                 Class     Images  Instances      Box(P          R      mAP50  mAP50-95): 100%|██████████| 21/21 [01:23<00:00,  3.96s/it]"
     ]
    },
    {
     "name": "stdout",
     "output_type": "stream",
     "text": [
      "                   all        672       5027      0.287      0.222      0.171     0.0652\n"
     ]
    },
    {
     "name": "stderr",
     "output_type": "stream",
     "text": [
      "\n"
     ]
    },
    {
     "name": "stdout",
     "output_type": "stream",
     "text": [
      "\n",
      "      Epoch    GPU_mem   box_loss   cls_loss   dfl_loss  Instances       Size\n"
     ]
    },
    {
     "name": "stderr",
     "output_type": "stream",
     "text": [
      "     10/100         0G      2.227      2.442      2.283         44        640: 100%|██████████| 99/99 [07:24<00:00,  4.49s/it]\n",
      "                 Class     Images  Instances      Box(P          R      mAP50  mAP50-95): 100%|██████████| 21/21 [01:21<00:00,  3.87s/it]\n"
     ]
    },
    {
     "name": "stdout",
     "output_type": "stream",
     "text": [
      "                   all        672       5027      0.315      0.241      0.197     0.0764\n",
      "\n",
      "      Epoch    GPU_mem   box_loss   cls_loss   dfl_loss  Instances       Size\n"
     ]
    },
    {
     "name": "stderr",
     "output_type": "stream",
     "text": [
      "     11/100         0G      2.191      2.387       2.22         26        640: 100%|██████████| 99/99 [07:34<00:00,  4.59s/it]\n",
      "                 Class     Images  Instances      Box(P          R      mAP50  mAP50-95): 100%|██████████| 21/21 [01:16<00:00,  3.66s/it]\n"
     ]
    },
    {
     "name": "stdout",
     "output_type": "stream",
     "text": [
      "                   all        672       5027      0.357      0.269      0.224     0.0895\n",
      "\n",
      "      Epoch    GPU_mem   box_loss   cls_loss   dfl_loss  Instances       Size\n"
     ]
    },
    {
     "name": "stderr",
     "output_type": "stream",
     "text": [
      "     12/100         0G      2.154      2.372      2.215         32        640: 100%|██████████| 99/99 [07:23<00:00,  4.48s/it]\n",
      "                 Class     Images  Instances      Box(P          R      mAP50  mAP50-95): 100%|██████████| 21/21 [01:24<00:00,  4.02s/it]\n"
     ]
    },
    {
     "name": "stdout",
     "output_type": "stream",
     "text": [
      "                   all        672       5027      0.329      0.259      0.218     0.0904\n",
      "\n",
      "      Epoch    GPU_mem   box_loss   cls_loss   dfl_loss  Instances       Size\n"
     ]
    },
    {
     "name": "stderr",
     "output_type": "stream",
     "text": [
      "     13/100         0G      2.118      2.308      2.167         31        640: 100%|██████████| 99/99 [07:24<00:00,  4.49s/it]\n",
      "                 Class     Images  Instances      Box(P          R      mAP50  mAP50-95): 100%|██████████| 21/21 [01:21<00:00,  3.88s/it]\n"
     ]
    },
    {
     "name": "stdout",
     "output_type": "stream",
     "text": [
      "                   all        672       5027      0.415      0.282      0.262      0.113\n",
      "\n",
      "      Epoch    GPU_mem   box_loss   cls_loss   dfl_loss  Instances       Size\n"
     ]
    },
    {
     "name": "stderr",
     "output_type": "stream",
     "text": [
      "     14/100         0G      2.117      2.301      2.161         31        640: 100%|██████████| 99/99 [07:23<00:00,  4.48s/it]\n",
      "                 Class     Images  Instances      Box(P          R      mAP50  mAP50-95): 100%|██████████| 21/21 [01:18<00:00,  3.75s/it]\n"
     ]
    },
    {
     "name": "stdout",
     "output_type": "stream",
     "text": [
      "                   all        672       5027      0.382      0.312      0.281       0.12\n",
      "\n",
      "      Epoch    GPU_mem   box_loss   cls_loss   dfl_loss  Instances       Size\n"
     ]
    },
    {
     "name": "stderr",
     "output_type": "stream",
     "text": [
      "     15/100         0G      2.098      2.233      2.113         41        640: 100%|██████████| 99/99 [07:23<00:00,  4.48s/it]\n",
      "                 Class     Images  Instances      Box(P          R      mAP50  mAP50-95): 100%|██████████| 21/21 [01:18<00:00,  3.73s/it]\n"
     ]
    },
    {
     "name": "stdout",
     "output_type": "stream",
     "text": [
      "                   all        672       5027      0.423      0.292      0.284      0.119\n",
      "\n",
      "      Epoch    GPU_mem   box_loss   cls_loss   dfl_loss  Instances       Size\n"
     ]
    },
    {
     "name": "stderr",
     "output_type": "stream",
     "text": [
      "     16/100         0G      2.063      2.227      2.093         23        640: 100%|██████████| 99/99 [07:19<00:00,  4.44s/it]\n",
      "                 Class     Images  Instances      Box(P          R      mAP50  mAP50-95): 100%|██████████| 21/21 [01:14<00:00,  3.54s/it]\n"
     ]
    },
    {
     "name": "stdout",
     "output_type": "stream",
     "text": [
      "                   all        672       5027      0.419      0.317      0.287      0.123\n",
      "\n",
      "      Epoch    GPU_mem   box_loss   cls_loss   dfl_loss  Instances       Size\n"
     ]
    },
    {
     "name": "stderr",
     "output_type": "stream",
     "text": [
      "     17/100         0G       2.03      2.164      2.071         18        640: 100%|██████████| 99/99 [07:22<00:00,  4.47s/it]\n",
      "                 Class     Images  Instances      Box(P          R      mAP50  mAP50-95): 100%|██████████| 21/21 [01:15<00:00,  3.59s/it]"
     ]
    },
    {
     "name": "stdout",
     "output_type": "stream",
     "text": [
      "                   all        672       5027      0.447      0.318      0.317      0.141\n"
     ]
    },
    {
     "name": "stderr",
     "output_type": "stream",
     "text": [
      "\n"
     ]
    },
    {
     "name": "stdout",
     "output_type": "stream",
     "text": [
      "\n",
      "      Epoch    GPU_mem   box_loss   cls_loss   dfl_loss  Instances       Size\n"
     ]
    },
    {
     "name": "stderr",
     "output_type": "stream",
     "text": [
      "     18/100         0G      2.039      2.153      2.052         74        640: 100%|██████████| 99/99 [07:21<00:00,  4.46s/it]\n",
      "                 Class     Images  Instances      Box(P          R      mAP50  mAP50-95): 100%|██████████| 21/21 [01:13<00:00,  3.52s/it]"
     ]
    },
    {
     "name": "stdout",
     "output_type": "stream",
     "text": [
      "                   all        672       5027      0.447      0.311      0.315      0.141\n"
     ]
    },
    {
     "name": "stderr",
     "output_type": "stream",
     "text": [
      "\n"
     ]
    },
    {
     "name": "stdout",
     "output_type": "stream",
     "text": [
      "\n",
      "      Epoch    GPU_mem   box_loss   cls_loss   dfl_loss  Instances       Size\n"
     ]
    },
    {
     "name": "stderr",
     "output_type": "stream",
     "text": [
      "     19/100         0G      2.026      2.129      2.033         37        640: 100%|██████████| 99/99 [07:23<00:00,  4.48s/it]\n",
      "                 Class     Images  Instances      Box(P          R      mAP50  mAP50-95): 100%|██████████| 21/21 [01:19<00:00,  3.76s/it]\n"
     ]
    },
    {
     "name": "stdout",
     "output_type": "stream",
     "text": [
      "                   all        672       5027      0.456      0.332      0.332      0.152\n",
      "\n",
      "      Epoch    GPU_mem   box_loss   cls_loss   dfl_loss  Instances       Size\n"
     ]
    },
    {
     "name": "stderr",
     "output_type": "stream",
     "text": [
      "     20/100         0G      1.989      2.106      2.012         14        640: 100%|██████████| 99/99 [07:20<00:00,  4.45s/it]\n",
      "                 Class     Images  Instances      Box(P          R      mAP50  mAP50-95): 100%|██████████| 21/21 [01:16<00:00,  3.65s/it]\n"
     ]
    },
    {
     "name": "stdout",
     "output_type": "stream",
     "text": [
      "                   all        672       5027      0.505      0.336      0.353      0.159\n",
      "\n",
      "      Epoch    GPU_mem   box_loss   cls_loss   dfl_loss  Instances       Size\n"
     ]
    },
    {
     "name": "stderr",
     "output_type": "stream",
     "text": [
      "     21/100         0G      1.964      2.098      2.005         19        640: 100%|██████████| 99/99 [07:24<00:00,  4.49s/it]\n",
      "                 Class     Images  Instances      Box(P          R      mAP50  mAP50-95): 100%|██████████| 21/21 [01:14<00:00,  3.55s/it]\n"
     ]
    },
    {
     "name": "stdout",
     "output_type": "stream",
     "text": [
      "                   all        672       5027       0.44      0.306      0.299      0.127\n",
      "\n",
      "      Epoch    GPU_mem   box_loss   cls_loss   dfl_loss  Instances       Size\n"
     ]
    },
    {
     "name": "stderr",
     "output_type": "stream",
     "text": [
      "     22/100         0G      1.986      2.077      2.013         70        640: 100%|██████████| 99/99 [07:22<00:00,  4.47s/it]\n",
      "                 Class     Images  Instances      Box(P          R      mAP50  mAP50-95): 100%|██████████| 21/21 [01:17<00:00,  3.69s/it]\n"
     ]
    },
    {
     "name": "stdout",
     "output_type": "stream",
     "text": [
      "                   all        672       5027      0.518      0.356      0.367       0.17\n",
      "\n",
      "      Epoch    GPU_mem   box_loss   cls_loss   dfl_loss  Instances       Size\n"
     ]
    },
    {
     "name": "stderr",
     "output_type": "stream",
     "text": [
      "     23/100         0G      1.955      2.044      1.987         28        640: 100%|██████████| 99/99 [07:28<00:00,  4.53s/it]\n",
      "                 Class     Images  Instances      Box(P          R      mAP50  mAP50-95): 100%|██████████| 21/21 [01:17<00:00,  3.68s/it]"
     ]
    },
    {
     "name": "stdout",
     "output_type": "stream",
     "text": [
      "                   all        672       5027      0.504      0.353      0.363      0.166\n"
     ]
    },
    {
     "name": "stderr",
     "output_type": "stream",
     "text": [
      "\n"
     ]
    },
    {
     "name": "stdout",
     "output_type": "stream",
     "text": [
      "\n",
      "      Epoch    GPU_mem   box_loss   cls_loss   dfl_loss  Instances       Size\n"
     ]
    },
    {
     "name": "stderr",
     "output_type": "stream",
     "text": [
      "     24/100         0G      1.948      2.021      1.967         20        640: 100%|██████████| 99/99 [07:25<00:00,  4.50s/it]\n",
      "                 Class     Images  Instances      Box(P          R      mAP50  mAP50-95): 100%|██████████| 21/21 [01:17<00:00,  3.70s/it]\n"
     ]
    },
    {
     "name": "stdout",
     "output_type": "stream",
     "text": [
      "                   all        672       5027       0.51      0.351      0.368      0.167\n",
      "\n",
      "      Epoch    GPU_mem   box_loss   cls_loss   dfl_loss  Instances       Size\n"
     ]
    },
    {
     "name": "stderr",
     "output_type": "stream",
     "text": [
      "     25/100         0G      1.936      2.016      1.955         15        640: 100%|██████████| 99/99 [07:22<00:00,  4.47s/it]\n",
      "                 Class     Images  Instances      Box(P          R      mAP50  mAP50-95): 100%|██████████| 21/21 [01:18<00:00,  3.75s/it]\n"
     ]
    },
    {
     "name": "stdout",
     "output_type": "stream",
     "text": [
      "                   all        672       5027      0.504      0.333      0.355      0.165\n",
      "\n",
      "      Epoch    GPU_mem   box_loss   cls_loss   dfl_loss  Instances       Size\n"
     ]
    },
    {
     "name": "stderr",
     "output_type": "stream",
     "text": [
      "     26/100         0G      1.931      2.003      1.961         18        640: 100%|██████████| 99/99 [07:21<00:00,  4.46s/it]\n",
      "                 Class     Images  Instances      Box(P          R      mAP50  mAP50-95): 100%|██████████| 21/21 [01:15<00:00,  3.60s/it]"
     ]
    },
    {
     "name": "stdout",
     "output_type": "stream",
     "text": [
      "                   all        672       5027       0.51      0.377      0.386      0.182\n"
     ]
    },
    {
     "name": "stderr",
     "output_type": "stream",
     "text": [
      "\n"
     ]
    },
    {
     "name": "stdout",
     "output_type": "stream",
     "text": [
      "\n",
      "      Epoch    GPU_mem   box_loss   cls_loss   dfl_loss  Instances       Size\n"
     ]
    },
    {
     "name": "stderr",
     "output_type": "stream",
     "text": [
      "     27/100         0G      1.921      1.993      1.937         96        640: 100%|██████████| 99/99 [07:21<00:00,  4.46s/it]\n",
      "                 Class     Images  Instances      Box(P          R      mAP50  mAP50-95): 100%|██████████| 21/21 [01:13<00:00,  3.51s/it]\n"
     ]
    },
    {
     "name": "stdout",
     "output_type": "stream",
     "text": [
      "                   all        672       5027      0.523      0.363      0.382      0.182\n",
      "\n",
      "      Epoch    GPU_mem   box_loss   cls_loss   dfl_loss  Instances       Size\n"
     ]
    },
    {
     "name": "stderr",
     "output_type": "stream",
     "text": [
      "     28/100         0G      1.918      1.944      1.925         49        640: 100%|██████████| 99/99 [07:23<00:00,  4.48s/it]\n",
      "                 Class     Images  Instances      Box(P          R      mAP50  mAP50-95): 100%|██████████| 21/21 [01:17<00:00,  3.71s/it]\n"
     ]
    },
    {
     "name": "stdout",
     "output_type": "stream",
     "text": [
      "                   all        672       5027      0.521      0.369      0.388      0.183\n",
      "\n",
      "      Epoch    GPU_mem   box_loss   cls_loss   dfl_loss  Instances       Size\n"
     ]
    },
    {
     "name": "stderr",
     "output_type": "stream",
     "text": [
      "     29/100         0G      1.917      1.947      1.909         35        640: 100%|██████████| 99/99 [07:21<00:00,  4.46s/it]\n",
      "                 Class     Images  Instances      Box(P          R      mAP50  mAP50-95): 100%|██████████| 21/21 [01:13<00:00,  3.50s/it]"
     ]
    },
    {
     "name": "stdout",
     "output_type": "stream",
     "text": [
      "                   all        672       5027      0.532       0.38      0.394      0.188\n"
     ]
    },
    {
     "name": "stderr",
     "output_type": "stream",
     "text": [
      "\n"
     ]
    },
    {
     "name": "stdout",
     "output_type": "stream",
     "text": [
      "\n",
      "      Epoch    GPU_mem   box_loss   cls_loss   dfl_loss  Instances       Size\n"
     ]
    },
    {
     "name": "stderr",
     "output_type": "stream",
     "text": [
      "     30/100         0G       1.88      1.935       1.91         40        640: 100%|██████████| 99/99 [07:20<00:00,  4.45s/it]\n",
      "                 Class     Images  Instances      Box(P          R      mAP50  mAP50-95): 100%|██████████| 21/21 [01:12<00:00,  3.46s/it]"
     ]
    },
    {
     "name": "stdout",
     "output_type": "stream",
     "text": [
      "                   all        672       5027      0.518      0.358      0.382      0.179\n"
     ]
    },
    {
     "name": "stderr",
     "output_type": "stream",
     "text": [
      "\n"
     ]
    },
    {
     "name": "stdout",
     "output_type": "stream",
     "text": [
      "\n",
      "      Epoch    GPU_mem   box_loss   cls_loss   dfl_loss  Instances       Size\n"
     ]
    },
    {
     "name": "stderr",
     "output_type": "stream",
     "text": [
      "     31/100         0G      1.867      1.914      1.902         32        640: 100%|██████████| 99/99 [07:22<00:00,  4.46s/it]\n",
      "                 Class     Images  Instances      Box(P          R      mAP50  mAP50-95): 100%|██████████| 21/21 [01:13<00:00,  3.51s/it]\n"
     ]
    },
    {
     "name": "stdout",
     "output_type": "stream",
     "text": [
      "                   all        672       5027      0.535      0.368        0.4      0.195\n",
      "\n",
      "      Epoch    GPU_mem   box_loss   cls_loss   dfl_loss  Instances       Size\n"
     ]
    },
    {
     "name": "stderr",
     "output_type": "stream",
     "text": [
      "     32/100         0G      1.878      1.935      1.902         33        640: 100%|██████████| 99/99 [07:20<00:00,  4.45s/it]\n",
      "                 Class     Images  Instances      Box(P          R      mAP50  mAP50-95): 100%|██████████| 21/21 [01:15<00:00,  3.59s/it]\n"
     ]
    },
    {
     "name": "stdout",
     "output_type": "stream",
     "text": [
      "                   all        672       5027      0.563      0.385      0.413      0.198\n",
      "\n",
      "      Epoch    GPU_mem   box_loss   cls_loss   dfl_loss  Instances       Size\n"
     ]
    },
    {
     "name": "stderr",
     "output_type": "stream",
     "text": [
      "     33/100         0G      1.878      1.907      1.902         23        640: 100%|██████████| 99/99 [07:21<00:00,  4.46s/it]\n",
      "                 Class     Images  Instances      Box(P          R      mAP50  mAP50-95): 100%|██████████| 21/21 [01:13<00:00,  3.51s/it]"
     ]
    },
    {
     "name": "stdout",
     "output_type": "stream",
     "text": [
      "                   all        672       5027      0.521      0.371       0.39      0.182\n"
     ]
    },
    {
     "name": "stderr",
     "output_type": "stream",
     "text": [
      "\n"
     ]
    },
    {
     "name": "stdout",
     "output_type": "stream",
     "text": [
      "\n",
      "      Epoch    GPU_mem   box_loss   cls_loss   dfl_loss  Instances       Size\n"
     ]
    },
    {
     "name": "stderr",
     "output_type": "stream",
     "text": [
      "     34/100         0G      1.871      1.905      1.888          6        640: 100%|██████████| 99/99 [07:22<00:00,  4.47s/it]\n",
      "                 Class     Images  Instances      Box(P          R      mAP50  mAP50-95): 100%|██████████| 21/21 [01:14<00:00,  3.56s/it]\n"
     ]
    },
    {
     "name": "stdout",
     "output_type": "stream",
     "text": [
      "                   all        672       5027      0.551      0.402      0.422      0.201\n",
      "\n",
      "      Epoch    GPU_mem   box_loss   cls_loss   dfl_loss  Instances       Size\n"
     ]
    },
    {
     "name": "stderr",
     "output_type": "stream",
     "text": [
      "     35/100         0G       1.84      1.859      1.867         40        640: 100%|██████████| 99/99 [07:22<00:00,  4.47s/it]\n",
      "                 Class     Images  Instances      Box(P          R      mAP50  mAP50-95): 100%|██████████| 21/21 [01:14<00:00,  3.55s/it]"
     ]
    },
    {
     "name": "stdout",
     "output_type": "stream",
     "text": [
      "                   all        672       5027       0.53      0.394      0.409      0.197\n"
     ]
    },
    {
     "name": "stderr",
     "output_type": "stream",
     "text": [
      "\n"
     ]
    },
    {
     "name": "stdout",
     "output_type": "stream",
     "text": [
      "\n",
      "      Epoch    GPU_mem   box_loss   cls_loss   dfl_loss  Instances       Size\n"
     ]
    },
    {
     "name": "stderr",
     "output_type": "stream",
     "text": [
      "     36/100         0G      1.858      1.862      1.878         47        640: 100%|██████████| 99/99 [08:10<00:00,  4.95s/it]\n",
      "                 Class     Images  Instances      Box(P          R      mAP50  mAP50-95): 100%|██████████| 21/21 [01:33<00:00,  4.45s/it]\n"
     ]
    },
    {
     "name": "stdout",
     "output_type": "stream",
     "text": [
      "                   all        672       5027      0.566      0.394      0.424      0.209\n",
      "\n",
      "      Epoch    GPU_mem   box_loss   cls_loss   dfl_loss  Instances       Size\n"
     ]
    },
    {
     "name": "stderr",
     "output_type": "stream",
     "text": [
      "     37/100         0G      1.821      1.848       1.86         38        640: 100%|██████████| 99/99 [07:57<00:00,  4.82s/it]\n",
      "                 Class     Images  Instances      Box(P          R      mAP50  mAP50-95): 100%|██████████| 21/21 [01:12<00:00,  3.46s/it]"
     ]
    },
    {
     "name": "stdout",
     "output_type": "stream",
     "text": [
      "                   all        672       5027       0.57      0.394      0.425      0.211\n"
     ]
    },
    {
     "name": "stderr",
     "output_type": "stream",
     "text": [
      "\n"
     ]
    },
    {
     "name": "stdout",
     "output_type": "stream",
     "text": [
      "\n",
      "      Epoch    GPU_mem   box_loss   cls_loss   dfl_loss  Instances       Size\n"
     ]
    },
    {
     "name": "stderr",
     "output_type": "stream",
     "text": [
      "     38/100         0G      1.833      1.835      1.859         23        640: 100%|██████████| 99/99 [07:13<00:00,  4.38s/it]\n",
      "                 Class     Images  Instances      Box(P          R      mAP50  mAP50-95): 100%|██████████| 21/21 [01:07<00:00,  3.21s/it]"
     ]
    },
    {
     "name": "stdout",
     "output_type": "stream",
     "text": [
      "                   all        672       5027       0.58      0.399      0.433      0.211\n"
     ]
    },
    {
     "name": "stderr",
     "output_type": "stream",
     "text": [
      "\n"
     ]
    },
    {
     "name": "stdout",
     "output_type": "stream",
     "text": [
      "\n",
      "      Epoch    GPU_mem   box_loss   cls_loss   dfl_loss  Instances       Size\n"
     ]
    },
    {
     "name": "stderr",
     "output_type": "stream",
     "text": [
      "     39/100         0G      1.834       1.82      1.847         44        640: 100%|██████████| 99/99 [07:42<00:00,  4.67s/it]\n",
      "                 Class     Images  Instances      Box(P          R      mAP50  mAP50-95): 100%|██████████| 21/21 [01:07<00:00,  3.21s/it]"
     ]
    },
    {
     "name": "stdout",
     "output_type": "stream",
     "text": [
      "                   all        672       5027      0.576      0.409       0.44      0.218\n"
     ]
    },
    {
     "name": "stderr",
     "output_type": "stream",
     "text": [
      "\n"
     ]
    },
    {
     "name": "stdout",
     "output_type": "stream",
     "text": [
      "\n",
      "      Epoch    GPU_mem   box_loss   cls_loss   dfl_loss  Instances       Size\n"
     ]
    },
    {
     "name": "stderr",
     "output_type": "stream",
     "text": [
      "     40/100         0G      1.805      1.811      1.848         44        640: 100%|██████████| 99/99 [06:44<00:00,  4.08s/it]\n",
      "                 Class     Images  Instances      Box(P          R      mAP50  mAP50-95): 100%|██████████| 21/21 [01:08<00:00,  3.28s/it]"
     ]
    },
    {
     "name": "stdout",
     "output_type": "stream",
     "text": [
      "                   all        672       5027      0.588       0.41      0.448      0.221\n"
     ]
    },
    {
     "name": "stderr",
     "output_type": "stream",
     "text": [
      "\n"
     ]
    },
    {
     "name": "stdout",
     "output_type": "stream",
     "text": [
      "\n",
      "      Epoch    GPU_mem   box_loss   cls_loss   dfl_loss  Instances       Size\n"
     ]
    },
    {
     "name": "stderr",
     "output_type": "stream",
     "text": [
      "     41/100         0G      1.786      1.801       1.82         38        640: 100%|██████████| 99/99 [06:42<00:00,  4.07s/it]\n",
      "                 Class     Images  Instances      Box(P          R      mAP50  mAP50-95): 100%|██████████| 21/21 [01:07<00:00,  3.24s/it]"
     ]
    },
    {
     "name": "stdout",
     "output_type": "stream",
     "text": [
      "                   all        672       5027      0.581      0.417      0.451      0.221\n"
     ]
    },
    {
     "name": "stderr",
     "output_type": "stream",
     "text": [
      "\n"
     ]
    },
    {
     "name": "stdout",
     "output_type": "stream",
     "text": [
      "\n",
      "      Epoch    GPU_mem   box_loss   cls_loss   dfl_loss  Instances       Size\n"
     ]
    },
    {
     "name": "stderr",
     "output_type": "stream",
     "text": [
      "     42/100         0G      1.812      1.803      1.837         37        640: 100%|██████████| 99/99 [07:13<00:00,  4.37s/it]\n",
      "                 Class     Images  Instances      Box(P          R      mAP50  mAP50-95): 100%|██████████| 21/21 [01:12<00:00,  3.44s/it]"
     ]
    },
    {
     "name": "stdout",
     "output_type": "stream",
     "text": [
      "                   all        672       5027      0.573      0.411      0.443      0.221\n"
     ]
    },
    {
     "name": "stderr",
     "output_type": "stream",
     "text": [
      "\n"
     ]
    },
    {
     "name": "stdout",
     "output_type": "stream",
     "text": [
      "\n",
      "      Epoch    GPU_mem   box_loss   cls_loss   dfl_loss  Instances       Size\n"
     ]
    },
    {
     "name": "stderr",
     "output_type": "stream",
     "text": [
      "     43/100         0G      1.796      1.794      1.834         23        640: 100%|██████████| 99/99 [07:21<00:00,  4.46s/it]\n",
      "                 Class     Images  Instances      Box(P          R      mAP50  mAP50-95): 100%|██████████| 21/21 [01:13<00:00,  3.50s/it]\n"
     ]
    },
    {
     "name": "stdout",
     "output_type": "stream",
     "text": [
      "                   all        672       5027      0.562      0.443      0.455      0.226\n",
      "\n",
      "      Epoch    GPU_mem   box_loss   cls_loss   dfl_loss  Instances       Size\n"
     ]
    },
    {
     "name": "stderr",
     "output_type": "stream",
     "text": [
      "     44/100         0G       1.79      1.778      1.822         22        640: 100%|██████████| 99/99 [07:25<00:00,  4.50s/it]\n",
      "                 Class     Images  Instances      Box(P          R      mAP50  mAP50-95): 100%|██████████| 21/21 [01:13<00:00,  3.49s/it]\n"
     ]
    },
    {
     "name": "stdout",
     "output_type": "stream",
     "text": [
      "                   all        672       5027      0.565      0.411      0.443      0.217\n",
      "\n",
      "      Epoch    GPU_mem   box_loss   cls_loss   dfl_loss  Instances       Size\n"
     ]
    },
    {
     "name": "stderr",
     "output_type": "stream",
     "text": [
      "     45/100         0G      1.779      1.757      1.811         34        640: 100%|██████████| 99/99 [07:19<00:00,  4.44s/it]\n",
      "                 Class     Images  Instances      Box(P          R      mAP50  mAP50-95): 100%|██████████| 21/21 [01:15<00:00,  3.58s/it]"
     ]
    },
    {
     "name": "stdout",
     "output_type": "stream",
     "text": [
      "                   all        672       5027      0.579       0.43      0.457      0.229\n"
     ]
    },
    {
     "name": "stderr",
     "output_type": "stream",
     "text": [
      "\n"
     ]
    },
    {
     "name": "stdout",
     "output_type": "stream",
     "text": [
      "\n",
      "      Epoch    GPU_mem   box_loss   cls_loss   dfl_loss  Instances       Size\n"
     ]
    },
    {
     "name": "stderr",
     "output_type": "stream",
     "text": [
      "     46/100         0G      1.762      1.751      1.809         28        640: 100%|██████████| 99/99 [07:21<00:00,  4.46s/it]\n",
      "                 Class     Images  Instances      Box(P          R      mAP50  mAP50-95): 100%|██████████| 21/21 [01:12<00:00,  3.46s/it]"
     ]
    },
    {
     "name": "stdout",
     "output_type": "stream",
     "text": [
      "                   all        672       5027      0.612      0.427      0.467      0.237\n"
     ]
    },
    {
     "name": "stderr",
     "output_type": "stream",
     "text": [
      "\n"
     ]
    },
    {
     "name": "stdout",
     "output_type": "stream",
     "text": [
      "\n",
      "      Epoch    GPU_mem   box_loss   cls_loss   dfl_loss  Instances       Size\n"
     ]
    },
    {
     "name": "stderr",
     "output_type": "stream",
     "text": [
      "     47/100         0G       1.76      1.744      1.802         14        640: 100%|██████████| 99/99 [07:24<00:00,  4.49s/it]\n",
      "                 Class     Images  Instances      Box(P          R      mAP50  mAP50-95): 100%|██████████| 21/21 [01:13<00:00,  3.48s/it]"
     ]
    },
    {
     "name": "stdout",
     "output_type": "stream",
     "text": [
      "                   all        672       5027      0.584      0.428      0.466      0.233\n"
     ]
    },
    {
     "name": "stderr",
     "output_type": "stream",
     "text": [
      "\n"
     ]
    },
    {
     "name": "stdout",
     "output_type": "stream",
     "text": [
      "\n",
      "      Epoch    GPU_mem   box_loss   cls_loss   dfl_loss  Instances       Size\n"
     ]
    },
    {
     "name": "stderr",
     "output_type": "stream",
     "text": [
      "     48/100         0G      1.776      1.737      1.802         52        640: 100%|██████████| 99/99 [07:24<00:00,  4.49s/it]\n",
      "                 Class     Images  Instances      Box(P          R      mAP50  mAP50-95): 100%|██████████| 21/21 [01:13<00:00,  3.52s/it]"
     ]
    },
    {
     "name": "stdout",
     "output_type": "stream",
     "text": [
      "                   all        672       5027      0.591      0.434      0.464      0.233\n"
     ]
    },
    {
     "name": "stderr",
     "output_type": "stream",
     "text": [
      "\n"
     ]
    },
    {
     "name": "stdout",
     "output_type": "stream",
     "text": [
      "\n",
      "      Epoch    GPU_mem   box_loss   cls_loss   dfl_loss  Instances       Size\n"
     ]
    },
    {
     "name": "stderr",
     "output_type": "stream",
     "text": [
      "     49/100         0G      1.767      1.733        1.8         58        640: 100%|██████████| 99/99 [07:25<00:00,  4.50s/it]\n",
      "                 Class     Images  Instances      Box(P          R      mAP50  mAP50-95): 100%|██████████| 21/21 [01:11<00:00,  3.41s/it]"
     ]
    },
    {
     "name": "stdout",
     "output_type": "stream",
     "text": [
      "                   all        672       5027      0.586      0.431       0.47      0.237\n"
     ]
    },
    {
     "name": "stderr",
     "output_type": "stream",
     "text": [
      "\n"
     ]
    },
    {
     "name": "stdout",
     "output_type": "stream",
     "text": [
      "\n",
      "      Epoch    GPU_mem   box_loss   cls_loss   dfl_loss  Instances       Size\n"
     ]
    },
    {
     "name": "stderr",
     "output_type": "stream",
     "text": [
      "     50/100         0G      1.749      1.725      1.795         39        640: 100%|██████████| 99/99 [07:26<00:00,  4.51s/it]\n",
      "                 Class     Images  Instances      Box(P          R      mAP50  mAP50-95): 100%|██████████| 21/21 [01:11<00:00,  3.42s/it]"
     ]
    },
    {
     "name": "stdout",
     "output_type": "stream",
     "text": [
      "                   all        672       5027      0.617       0.42      0.475      0.241\n"
     ]
    },
    {
     "name": "stderr",
     "output_type": "stream",
     "text": [
      "\n"
     ]
    },
    {
     "name": "stdout",
     "output_type": "stream",
     "text": [
      "\n",
      "      Epoch    GPU_mem   box_loss   cls_loss   dfl_loss  Instances       Size\n"
     ]
    },
    {
     "name": "stderr",
     "output_type": "stream",
     "text": [
      "     51/100         0G      1.757      1.708      1.797         52        640: 100%|██████████| 99/99 [07:21<00:00,  4.46s/it]\n",
      "                 Class     Images  Instances      Box(P          R      mAP50  mAP50-95): 100%|██████████| 21/21 [01:12<00:00,  3.45s/it]"
     ]
    },
    {
     "name": "stdout",
     "output_type": "stream",
     "text": [
      "                   all        672       5027      0.591      0.432      0.466      0.233\n"
     ]
    },
    {
     "name": "stderr",
     "output_type": "stream",
     "text": [
      "\n"
     ]
    },
    {
     "name": "stdout",
     "output_type": "stream",
     "text": [
      "\n",
      "      Epoch    GPU_mem   box_loss   cls_loss   dfl_loss  Instances       Size\n"
     ]
    },
    {
     "name": "stderr",
     "output_type": "stream",
     "text": [
      "     52/100         0G      1.761       1.71      1.789         21        640: 100%|██████████| 99/99 [07:26<00:00,  4.51s/it]\n",
      "                 Class     Images  Instances      Box(P          R      mAP50  mAP50-95): 100%|██████████| 21/21 [01:16<00:00,  3.65s/it]"
     ]
    },
    {
     "name": "stdout",
     "output_type": "stream",
     "text": [
      "                   all        672       5027      0.598      0.442      0.477      0.241\n"
     ]
    },
    {
     "name": "stderr",
     "output_type": "stream",
     "text": [
      "\n"
     ]
    },
    {
     "name": "stdout",
     "output_type": "stream",
     "text": [
      "\n",
      "      Epoch    GPU_mem   box_loss   cls_loss   dfl_loss  Instances       Size\n"
     ]
    },
    {
     "name": "stderr",
     "output_type": "stream",
     "text": [
      "     53/100         0G       1.76      1.727      1.793         22        640: 100%|██████████| 99/99 [07:44<00:00,  4.69s/it]\n",
      "                 Class     Images  Instances      Box(P          R      mAP50  mAP50-95): 100%|██████████| 21/21 [01:20<00:00,  3.82s/it]\n"
     ]
    },
    {
     "name": "stdout",
     "output_type": "stream",
     "text": [
      "                   all        672       5027      0.586      0.428       0.46       0.23\n",
      "\n",
      "      Epoch    GPU_mem   box_loss   cls_loss   dfl_loss  Instances       Size\n"
     ]
    },
    {
     "name": "stderr",
     "output_type": "stream",
     "text": [
      "     54/100         0G      1.724      1.696      1.778         57        640: 100%|██████████| 99/99 [07:37<00:00,  4.62s/it]\n",
      "                 Class     Images  Instances      Box(P          R      mAP50  mAP50-95): 100%|██████████| 21/21 [01:13<00:00,  3.48s/it]\n"
     ]
    },
    {
     "name": "stdout",
     "output_type": "stream",
     "text": [
      "                   all        672       5027      0.616      0.437      0.483      0.246\n",
      "\n",
      "      Epoch    GPU_mem   box_loss   cls_loss   dfl_loss  Instances       Size\n"
     ]
    },
    {
     "name": "stderr",
     "output_type": "stream",
     "text": [
      "     55/100         0G      1.731      1.689      1.773         46        640: 100%|██████████| 99/99 [07:24<00:00,  4.49s/it]\n",
      "                 Class     Images  Instances      Box(P          R      mAP50  mAP50-95): 100%|██████████| 21/21 [01:12<00:00,  3.47s/it]"
     ]
    },
    {
     "name": "stdout",
     "output_type": "stream",
     "text": [
      "                   all        672       5027      0.627      0.438       0.49      0.251\n"
     ]
    },
    {
     "name": "stderr",
     "output_type": "stream",
     "text": [
      "\n"
     ]
    },
    {
     "name": "stdout",
     "output_type": "stream",
     "text": [
      "\n",
      "      Epoch    GPU_mem   box_loss   cls_loss   dfl_loss  Instances       Size\n"
     ]
    },
    {
     "name": "stderr",
     "output_type": "stream",
     "text": [
      "     56/100         0G      1.723      1.682      1.765         19        640: 100%|██████████| 99/99 [07:23<00:00,  4.48s/it]\n",
      "                 Class     Images  Instances      Box(P          R      mAP50  mAP50-95): 100%|██████████| 21/21 [01:13<00:00,  3.52s/it]"
     ]
    },
    {
     "name": "stdout",
     "output_type": "stream",
     "text": [
      "                   all        672       5027      0.632       0.45      0.496      0.254\n"
     ]
    },
    {
     "name": "stderr",
     "output_type": "stream",
     "text": [
      "\n"
     ]
    },
    {
     "name": "stdout",
     "output_type": "stream",
     "text": [
      "\n",
      "      Epoch    GPU_mem   box_loss   cls_loss   dfl_loss  Instances       Size\n"
     ]
    },
    {
     "name": "stderr",
     "output_type": "stream",
     "text": [
      "     57/100         0G      1.719       1.67      1.759         72        640: 100%|██████████| 99/99 [07:24<00:00,  4.49s/it]\n",
      "                 Class     Images  Instances      Box(P          R      mAP50  mAP50-95): 100%|██████████| 21/21 [01:12<00:00,  3.46s/it]"
     ]
    },
    {
     "name": "stdout",
     "output_type": "stream",
     "text": [
      "                   all        672       5027      0.633      0.437      0.487      0.247\n"
     ]
    },
    {
     "name": "stderr",
     "output_type": "stream",
     "text": [
      "\n"
     ]
    },
    {
     "name": "stdout",
     "output_type": "stream",
     "text": [
      "\n",
      "      Epoch    GPU_mem   box_loss   cls_loss   dfl_loss  Instances       Size\n"
     ]
    },
    {
     "name": "stderr",
     "output_type": "stream",
     "text": [
      "     58/100         0G      1.713      1.689      1.761         39        640: 100%|██████████| 99/99 [07:23<00:00,  4.48s/it]\n",
      "                 Class     Images  Instances      Box(P          R      mAP50  mAP50-95): 100%|██████████| 21/21 [01:12<00:00,  3.46s/it]"
     ]
    },
    {
     "name": "stdout",
     "output_type": "stream",
     "text": [
      "                   all        672       5027      0.616      0.448      0.497      0.257\n"
     ]
    },
    {
     "name": "stderr",
     "output_type": "stream",
     "text": [
      "\n"
     ]
    },
    {
     "name": "stdout",
     "output_type": "stream",
     "text": [
      "\n",
      "      Epoch    GPU_mem   box_loss   cls_loss   dfl_loss  Instances       Size\n"
     ]
    },
    {
     "name": "stderr",
     "output_type": "stream",
     "text": [
      "     59/100         0G      1.703      1.655      1.764         20        640: 100%|██████████| 99/99 [07:24<00:00,  4.49s/it]\n",
      "                 Class     Images  Instances      Box(P          R      mAP50  mAP50-95): 100%|██████████| 21/21 [01:14<00:00,  3.56s/it]\n"
     ]
    },
    {
     "name": "stdout",
     "output_type": "stream",
     "text": [
      "                   all        672       5027      0.614      0.461      0.496      0.256\n",
      "\n",
      "      Epoch    GPU_mem   box_loss   cls_loss   dfl_loss  Instances       Size\n"
     ]
    },
    {
     "name": "stderr",
     "output_type": "stream",
     "text": [
      "     60/100         0G      1.715      1.656      1.746         57        640: 100%|██████████| 99/99 [07:25<00:00,  4.50s/it]\n",
      "                 Class     Images  Instances      Box(P          R      mAP50  mAP50-95): 100%|██████████| 21/21 [01:13<00:00,  3.52s/it]"
     ]
    },
    {
     "name": "stdout",
     "output_type": "stream",
     "text": [
      "                   all        672       5027      0.622      0.444      0.493      0.253\n"
     ]
    },
    {
     "name": "stderr",
     "output_type": "stream",
     "text": [
      "\n"
     ]
    },
    {
     "name": "stdout",
     "output_type": "stream",
     "text": [
      "\n",
      "      Epoch    GPU_mem   box_loss   cls_loss   dfl_loss  Instances       Size\n"
     ]
    },
    {
     "name": "stderr",
     "output_type": "stream",
     "text": [
      "     61/100         0G      1.702      1.638      1.736         19        640: 100%|██████████| 99/99 [07:29<00:00,  4.54s/it]\n",
      "                 Class     Images  Instances      Box(P          R      mAP50  mAP50-95): 100%|██████████| 21/21 [01:12<00:00,  3.45s/it]"
     ]
    },
    {
     "name": "stdout",
     "output_type": "stream",
     "text": [
      "                   all        672       5027      0.621      0.455      0.495      0.257\n"
     ]
    },
    {
     "name": "stderr",
     "output_type": "stream",
     "text": [
      "\n"
     ]
    },
    {
     "name": "stdout",
     "output_type": "stream",
     "text": [
      "\n",
      "      Epoch    GPU_mem   box_loss   cls_loss   dfl_loss  Instances       Size\n"
     ]
    },
    {
     "name": "stderr",
     "output_type": "stream",
     "text": [
      "     62/100         0G      1.709      1.638      1.736         33        640: 100%|██████████| 99/99 [07:24<00:00,  4.49s/it]\n",
      "                 Class     Images  Instances      Box(P          R      mAP50  mAP50-95): 100%|██████████| 21/21 [01:13<00:00,  3.52s/it]"
     ]
    },
    {
     "name": "stdout",
     "output_type": "stream",
     "text": [
      "                   all        672       5027      0.628      0.455      0.498      0.254\n"
     ]
    },
    {
     "name": "stderr",
     "output_type": "stream",
     "text": [
      "\n"
     ]
    },
    {
     "name": "stdout",
     "output_type": "stream",
     "text": [
      "\n",
      "      Epoch    GPU_mem   box_loss   cls_loss   dfl_loss  Instances       Size\n"
     ]
    },
    {
     "name": "stderr",
     "output_type": "stream",
     "text": [
      "     63/100         0G      1.683      1.631      1.741         35        640: 100%|██████████| 99/99 [07:24<00:00,  4.49s/it]\n",
      "                 Class     Images  Instances      Box(P          R      mAP50  mAP50-95): 100%|██████████| 21/21 [01:12<00:00,  3.46s/it]"
     ]
    },
    {
     "name": "stdout",
     "output_type": "stream",
     "text": [
      "                   all        672       5027      0.631      0.451      0.498      0.257\n"
     ]
    },
    {
     "name": "stderr",
     "output_type": "stream",
     "text": [
      "\n"
     ]
    },
    {
     "name": "stdout",
     "output_type": "stream",
     "text": [
      "\n",
      "      Epoch    GPU_mem   box_loss   cls_loss   dfl_loss  Instances       Size\n"
     ]
    },
    {
     "name": "stderr",
     "output_type": "stream",
     "text": [
      "     64/100         0G      1.686      1.633      1.741         31        640: 100%|██████████| 99/99 [07:22<00:00,  4.47s/it]\n",
      "                 Class     Images  Instances      Box(P          R      mAP50  mAP50-95): 100%|██████████| 21/21 [01:14<00:00,  3.53s/it]"
     ]
    },
    {
     "name": "stdout",
     "output_type": "stream",
     "text": [
      "                   all        672       5027      0.636      0.455      0.501      0.254\n"
     ]
    },
    {
     "name": "stderr",
     "output_type": "stream",
     "text": [
      "\n"
     ]
    },
    {
     "name": "stdout",
     "output_type": "stream",
     "text": [
      "\n",
      "      Epoch    GPU_mem   box_loss   cls_loss   dfl_loss  Instances       Size\n"
     ]
    },
    {
     "name": "stderr",
     "output_type": "stream",
     "text": [
      "     65/100         0G      1.701      1.619      1.738         61        640: 100%|██████████| 99/99 [07:26<00:00,  4.51s/it]\n",
      "                 Class     Images  Instances      Box(P          R      mAP50  mAP50-95): 100%|██████████| 21/21 [01:13<00:00,  3.48s/it]"
     ]
    },
    {
     "name": "stdout",
     "output_type": "stream",
     "text": [
      "                   all        672       5027      0.632      0.448      0.494      0.254\n"
     ]
    },
    {
     "name": "stderr",
     "output_type": "stream",
     "text": [
      "\n"
     ]
    },
    {
     "name": "stdout",
     "output_type": "stream",
     "text": [
      "\n",
      "      Epoch    GPU_mem   box_loss   cls_loss   dfl_loss  Instances       Size\n"
     ]
    },
    {
     "name": "stderr",
     "output_type": "stream",
     "text": [
      "     66/100         0G      1.687      1.615      1.734         16        640: 100%|██████████| 99/99 [07:25<00:00,  4.50s/it]\n",
      "                 Class     Images  Instances      Box(P          R      mAP50  mAP50-95): 100%|██████████| 21/21 [01:12<00:00,  3.47s/it]"
     ]
    },
    {
     "name": "stdout",
     "output_type": "stream",
     "text": [
      "                   all        672       5027      0.628      0.453      0.501      0.261\n"
     ]
    },
    {
     "name": "stderr",
     "output_type": "stream",
     "text": [
      "\n"
     ]
    },
    {
     "name": "stdout",
     "output_type": "stream",
     "text": [
      "\n",
      "      Epoch    GPU_mem   box_loss   cls_loss   dfl_loss  Instances       Size\n"
     ]
    },
    {
     "name": "stderr",
     "output_type": "stream",
     "text": [
      "     67/100         0G      1.667      1.609      1.727         34        640: 100%|██████████| 99/99 [07:25<00:00,  4.50s/it]\n",
      "                 Class     Images  Instances      Box(P          R      mAP50  mAP50-95): 100%|██████████| 21/21 [01:12<00:00,  3.44s/it]"
     ]
    },
    {
     "name": "stdout",
     "output_type": "stream",
     "text": [
      "                   all        672       5027      0.637       0.46      0.507      0.264\n"
     ]
    },
    {
     "name": "stderr",
     "output_type": "stream",
     "text": [
      "\n"
     ]
    },
    {
     "name": "stdout",
     "output_type": "stream",
     "text": [
      "\n",
      "      Epoch    GPU_mem   box_loss   cls_loss   dfl_loss  Instances       Size\n"
     ]
    },
    {
     "name": "stderr",
     "output_type": "stream",
     "text": [
      "     68/100         0G      1.666      1.587      1.715         41        640: 100%|██████████| 99/99 [07:22<00:00,  4.47s/it]\n",
      "                 Class     Images  Instances      Box(P          R      mAP50  mAP50-95): 100%|██████████| 21/21 [01:15<00:00,  3.58s/it]"
     ]
    },
    {
     "name": "stdout",
     "output_type": "stream",
     "text": [
      "                   all        672       5027      0.636      0.465       0.51      0.267\n"
     ]
    },
    {
     "name": "stderr",
     "output_type": "stream",
     "text": [
      "\n"
     ]
    },
    {
     "name": "stdout",
     "output_type": "stream",
     "text": [
      "\n",
      "      Epoch    GPU_mem   box_loss   cls_loss   dfl_loss  Instances       Size\n"
     ]
    },
    {
     "name": "stderr",
     "output_type": "stream",
     "text": [
      "     69/100         0G      1.673      1.599       1.72         37        640: 100%|██████████| 99/99 [07:29<00:00,  4.54s/it]\n",
      "                 Class     Images  Instances      Box(P          R      mAP50  mAP50-95): 100%|██████████| 21/21 [01:12<00:00,  3.47s/it]"
     ]
    },
    {
     "name": "stdout",
     "output_type": "stream",
     "text": [
      "                   all        672       5027      0.631      0.458      0.507      0.263\n"
     ]
    },
    {
     "name": "stderr",
     "output_type": "stream",
     "text": [
      "\n"
     ]
    },
    {
     "name": "stdout",
     "output_type": "stream",
     "text": [
      "\n",
      "      Epoch    GPU_mem   box_loss   cls_loss   dfl_loss  Instances       Size\n"
     ]
    },
    {
     "name": "stderr",
     "output_type": "stream",
     "text": [
      "     70/100         0G      1.661      1.589      1.716         24        640: 100%|██████████| 99/99 [07:22<00:00,  4.47s/it]\n",
      "                 Class     Images  Instances      Box(P          R      mAP50  mAP50-95): 100%|██████████| 21/21 [01:12<00:00,  3.44s/it]"
     ]
    },
    {
     "name": "stdout",
     "output_type": "stream",
     "text": [
      "                   all        672       5027      0.626      0.473      0.512      0.269\n"
     ]
    },
    {
     "name": "stderr",
     "output_type": "stream",
     "text": [
      "\n"
     ]
    },
    {
     "name": "stdout",
     "output_type": "stream",
     "text": [
      "\n",
      "      Epoch    GPU_mem   box_loss   cls_loss   dfl_loss  Instances       Size\n"
     ]
    },
    {
     "name": "stderr",
     "output_type": "stream",
     "text": [
      "     71/100         0G      1.678      1.574      1.709         39        640: 100%|██████████| 99/99 [07:26<00:00,  4.51s/it]\n",
      "                 Class     Images  Instances      Box(P          R      mAP50  mAP50-95): 100%|██████████| 21/21 [01:12<00:00,  3.46s/it]"
     ]
    },
    {
     "name": "stdout",
     "output_type": "stream",
     "text": [
      "                   all        672       5027      0.641       0.46      0.513      0.268\n"
     ]
    },
    {
     "name": "stderr",
     "output_type": "stream",
     "text": [
      "\n"
     ]
    },
    {
     "name": "stdout",
     "output_type": "stream",
     "text": [
      "\n",
      "      Epoch    GPU_mem   box_loss   cls_loss   dfl_loss  Instances       Size\n"
     ]
    },
    {
     "name": "stderr",
     "output_type": "stream",
     "text": [
      "     72/100         0G      1.661      1.564      1.707         37        640: 100%|██████████| 99/99 [07:23<00:00,  4.48s/it]\n",
      "                 Class     Images  Instances      Box(P          R      mAP50  mAP50-95): 100%|██████████| 21/21 [01:14<00:00,  3.54s/it]"
     ]
    },
    {
     "name": "stdout",
     "output_type": "stream",
     "text": [
      "                   all        672       5027      0.636      0.465      0.516      0.269\n"
     ]
    },
    {
     "name": "stderr",
     "output_type": "stream",
     "text": [
      "\n"
     ]
    },
    {
     "name": "stdout",
     "output_type": "stream",
     "text": [
      "\n",
      "      Epoch    GPU_mem   box_loss   cls_loss   dfl_loss  Instances       Size\n"
     ]
    },
    {
     "name": "stderr",
     "output_type": "stream",
     "text": [
      "     73/100         0G      1.656      1.559      1.701         36        640: 100%|██████████| 99/99 [07:27<00:00,  4.52s/it]\n",
      "                 Class     Images  Instances      Box(P          R      mAP50  mAP50-95): 100%|██████████| 21/21 [01:12<00:00,  3.45s/it]\n"
     ]
    },
    {
     "name": "stdout",
     "output_type": "stream",
     "text": [
      "                   all        672       5027      0.635      0.478      0.522      0.277\n",
      "\n",
      "      Epoch    GPU_mem   box_loss   cls_loss   dfl_loss  Instances       Size\n"
     ]
    },
    {
     "name": "stderr",
     "output_type": "stream",
     "text": [
      "     74/100         0G      1.665      1.546      1.694         41        640: 100%|██████████| 99/99 [07:31<00:00,  4.56s/it]\n",
      "                 Class     Images  Instances      Box(P          R      mAP50  mAP50-95): 100%|██████████| 21/21 [01:11<00:00,  3.43s/it]"
     ]
    },
    {
     "name": "stdout",
     "output_type": "stream",
     "text": [
      "                   all        672       5027      0.638      0.462      0.513      0.268\n"
     ]
    },
    {
     "name": "stderr",
     "output_type": "stream",
     "text": [
      "\n"
     ]
    },
    {
     "name": "stdout",
     "output_type": "stream",
     "text": [
      "\n",
      "      Epoch    GPU_mem   box_loss   cls_loss   dfl_loss  Instances       Size\n"
     ]
    },
    {
     "name": "stderr",
     "output_type": "stream",
     "text": [
      "     75/100         0G      1.655      1.555      1.701         24        640: 100%|██████████| 99/99 [07:26<00:00,  4.51s/it]\n",
      "                 Class     Images  Instances      Box(P          R      mAP50  mAP50-95): 100%|██████████| 21/21 [01:12<00:00,  3.45s/it]"
     ]
    },
    {
     "name": "stdout",
     "output_type": "stream",
     "text": [
      "                   all        672       5027       0.65      0.478      0.525      0.273\n"
     ]
    },
    {
     "name": "stderr",
     "output_type": "stream",
     "text": [
      "\n"
     ]
    },
    {
     "name": "stdout",
     "output_type": "stream",
     "text": [
      "\n",
      "      Epoch    GPU_mem   box_loss   cls_loss   dfl_loss  Instances       Size\n"
     ]
    },
    {
     "name": "stderr",
     "output_type": "stream",
     "text": [
      "     76/100         0G      1.649      1.554      1.702         20        640: 100%|██████████| 99/99 [07:24<00:00,  4.49s/it]\n",
      "                 Class     Images  Instances      Box(P          R      mAP50  mAP50-95): 100%|██████████| 21/21 [01:13<00:00,  3.51s/it]"
     ]
    },
    {
     "name": "stdout",
     "output_type": "stream",
     "text": [
      "                   all        672       5027       0.64      0.476      0.519      0.274\n"
     ]
    },
    {
     "name": "stderr",
     "output_type": "stream",
     "text": [
      "\n"
     ]
    },
    {
     "name": "stdout",
     "output_type": "stream",
     "text": [
      "\n",
      "      Epoch    GPU_mem   box_loss   cls_loss   dfl_loss  Instances       Size\n"
     ]
    },
    {
     "name": "stderr",
     "output_type": "stream",
     "text": [
      "     77/100         0G      1.646      1.541      1.696         49        640: 100%|██████████| 99/99 [07:27<00:00,  4.52s/it]\n",
      "                 Class     Images  Instances      Box(P          R      mAP50  mAP50-95): 100%|██████████| 21/21 [01:12<00:00,  3.45s/it]"
     ]
    },
    {
     "name": "stdout",
     "output_type": "stream",
     "text": [
      "                   all        672       5027      0.641      0.474      0.517      0.271\n"
     ]
    },
    {
     "name": "stderr",
     "output_type": "stream",
     "text": [
      "\n"
     ]
    },
    {
     "name": "stdout",
     "output_type": "stream",
     "text": [
      "\n",
      "      Epoch    GPU_mem   box_loss   cls_loss   dfl_loss  Instances       Size\n"
     ]
    },
    {
     "name": "stderr",
     "output_type": "stream",
     "text": [
      "     78/100         0G      1.647      1.541      1.692         36        640: 100%|██████████| 99/99 [07:32<00:00,  4.57s/it]\n",
      "                 Class     Images  Instances      Box(P          R      mAP50  mAP50-95): 100%|██████████| 21/21 [01:13<00:00,  3.49s/it]"
     ]
    },
    {
     "name": "stdout",
     "output_type": "stream",
     "text": [
      "                   all        672       5027      0.665      0.465       0.52      0.273\n"
     ]
    },
    {
     "name": "stderr",
     "output_type": "stream",
     "text": [
      "\n"
     ]
    },
    {
     "name": "stdout",
     "output_type": "stream",
     "text": [
      "\n",
      "      Epoch    GPU_mem   box_loss   cls_loss   dfl_loss  Instances       Size\n"
     ]
    },
    {
     "name": "stderr",
     "output_type": "stream",
     "text": [
      "     79/100         0G      1.652      1.542      1.706         57        640: 100%|██████████| 99/99 [07:25<00:00,  4.50s/it]\n",
      "                 Class     Images  Instances      Box(P          R      mAP50  mAP50-95): 100%|██████████| 21/21 [01:12<00:00,  3.45s/it]\n"
     ]
    },
    {
     "name": "stdout",
     "output_type": "stream",
     "text": [
      "                   all        672       5027      0.649      0.472      0.522      0.275\n",
      "\n",
      "      Epoch    GPU_mem   box_loss   cls_loss   dfl_loss  Instances       Size\n"
     ]
    },
    {
     "name": "stderr",
     "output_type": "stream",
     "text": [
      "     80/100         0G      1.618      1.528      1.683         36        640: 100%|██████████| 99/99 [07:22<00:00,  4.47s/it]\n",
      "                 Class     Images  Instances      Box(P          R      mAP50  mAP50-95): 100%|██████████| 21/21 [01:13<00:00,  3.48s/it]"
     ]
    },
    {
     "name": "stdout",
     "output_type": "stream",
     "text": [
      "                   all        672       5027      0.636      0.473      0.522      0.273\n"
     ]
    },
    {
     "name": "stderr",
     "output_type": "stream",
     "text": [
      "\n"
     ]
    },
    {
     "name": "stdout",
     "output_type": "stream",
     "text": [
      "\n",
      "      Epoch    GPU_mem   box_loss   cls_loss   dfl_loss  Instances       Size\n"
     ]
    },
    {
     "name": "stderr",
     "output_type": "stream",
     "text": [
      "     81/100         0G      1.631      1.513      1.681         39        640: 100%|██████████| 99/99 [07:26<00:00,  4.51s/it]\n",
      "                 Class     Images  Instances      Box(P          R      mAP50  mAP50-95): 100%|██████████| 21/21 [01:12<00:00,  3.44s/it]"
     ]
    },
    {
     "name": "stdout",
     "output_type": "stream",
     "text": [
      "                   all        672       5027      0.655      0.472      0.526      0.277\n"
     ]
    },
    {
     "name": "stderr",
     "output_type": "stream",
     "text": [
      "\n"
     ]
    },
    {
     "name": "stdout",
     "output_type": "stream",
     "text": [
      "\n",
      "      Epoch    GPU_mem   box_loss   cls_loss   dfl_loss  Instances       Size\n"
     ]
    },
    {
     "name": "stderr",
     "output_type": "stream",
     "text": [
      "     82/100         0G      1.621      1.517      1.687         31        640: 100%|██████████| 99/99 [07:25<00:00,  4.50s/it]\n",
      "                 Class     Images  Instances      Box(P          R      mAP50  mAP50-95): 100%|██████████| 21/21 [01:12<00:00,  3.45s/it]"
     ]
    },
    {
     "name": "stdout",
     "output_type": "stream",
     "text": [
      "                   all        672       5027      0.666      0.475      0.524      0.275\n"
     ]
    },
    {
     "name": "stderr",
     "output_type": "stream",
     "text": [
      "\n"
     ]
    },
    {
     "name": "stdout",
     "output_type": "stream",
     "text": [
      "\n",
      "      Epoch    GPU_mem   box_loss   cls_loss   dfl_loss  Instances       Size\n"
     ]
    },
    {
     "name": "stderr",
     "output_type": "stream",
     "text": [
      "     83/100         0G      1.638       1.51      1.683         17        640: 100%|██████████| 99/99 [07:27<00:00,  4.52s/it]\n",
      "                 Class     Images  Instances      Box(P          R      mAP50  mAP50-95): 100%|██████████| 21/21 [01:13<00:00,  3.48s/it]"
     ]
    },
    {
     "name": "stdout",
     "output_type": "stream",
     "text": [
      "                   all        672       5027      0.654      0.482      0.529      0.279\n"
     ]
    },
    {
     "name": "stderr",
     "output_type": "stream",
     "text": [
      "\n"
     ]
    },
    {
     "name": "stdout",
     "output_type": "stream",
     "text": [
      "\n",
      "      Epoch    GPU_mem   box_loss   cls_loss   dfl_loss  Instances       Size\n"
     ]
    },
    {
     "name": "stderr",
     "output_type": "stream",
     "text": [
      "     84/100         0G       1.61       1.51      1.663         42        640: 100%|██████████| 99/99 [07:25<00:00,  4.50s/it]\n",
      "                 Class     Images  Instances      Box(P          R      mAP50  mAP50-95): 100%|██████████| 21/21 [01:14<00:00,  3.53s/it]"
     ]
    },
    {
     "name": "stdout",
     "output_type": "stream",
     "text": [
      "                   all        672       5027      0.651      0.475       0.53       0.28\n"
     ]
    },
    {
     "name": "stderr",
     "output_type": "stream",
     "text": [
      "\n"
     ]
    },
    {
     "name": "stdout",
     "output_type": "stream",
     "text": [
      "\n",
      "      Epoch    GPU_mem   box_loss   cls_loss   dfl_loss  Instances       Size\n"
     ]
    },
    {
     "name": "stderr",
     "output_type": "stream",
     "text": [
      "     85/100         0G      1.607      1.518      1.668         18        640: 100%|██████████| 99/99 [07:34<00:00,  4.59s/it]\n",
      "                 Class     Images  Instances      Box(P          R      mAP50  mAP50-95): 100%|██████████| 21/21 [01:12<00:00,  3.46s/it]"
     ]
    },
    {
     "name": "stdout",
     "output_type": "stream",
     "text": [
      "                   all        672       5027      0.652      0.474      0.528      0.278\n"
     ]
    },
    {
     "name": "stderr",
     "output_type": "stream",
     "text": [
      "\n"
     ]
    },
    {
     "name": "stdout",
     "output_type": "stream",
     "text": [
      "\n",
      "      Epoch    GPU_mem   box_loss   cls_loss   dfl_loss  Instances       Size\n"
     ]
    },
    {
     "name": "stderr",
     "output_type": "stream",
     "text": [
      "     86/100         0G      1.607      1.501      1.668         53        640: 100%|██████████| 99/99 [07:26<00:00,  4.51s/it]\n",
      "                 Class     Images  Instances      Box(P          R      mAP50  mAP50-95): 100%|██████████| 21/21 [01:12<00:00,  3.46s/it]"
     ]
    },
    {
     "name": "stdout",
     "output_type": "stream",
     "text": [
      "                   all        672       5027      0.655      0.483      0.528      0.278\n"
     ]
    },
    {
     "name": "stderr",
     "output_type": "stream",
     "text": [
      "\n"
     ]
    },
    {
     "name": "stdout",
     "output_type": "stream",
     "text": [
      "\n",
      "      Epoch    GPU_mem   box_loss   cls_loss   dfl_loss  Instances       Size\n"
     ]
    },
    {
     "name": "stderr",
     "output_type": "stream",
     "text": [
      "     87/100         0G      1.606      1.496       1.67         25        640: 100%|██████████| 99/99 [07:29<00:00,  4.54s/it]\n",
      "                 Class     Images  Instances      Box(P          R      mAP50  mAP50-95): 100%|██████████| 21/21 [01:12<00:00,  3.47s/it]"
     ]
    },
    {
     "name": "stdout",
     "output_type": "stream",
     "text": [
      "                   all        672       5027      0.658      0.483      0.535      0.283\n"
     ]
    },
    {
     "name": "stderr",
     "output_type": "stream",
     "text": [
      "\n"
     ]
    },
    {
     "name": "stdout",
     "output_type": "stream",
     "text": [
      "\n",
      "      Epoch    GPU_mem   box_loss   cls_loss   dfl_loss  Instances       Size\n"
     ]
    },
    {
     "name": "stderr",
     "output_type": "stream",
     "text": [
      "     88/100         0G       1.62      1.507      1.675         72        640: 100%|██████████| 99/99 [07:29<00:00,  4.54s/it]\n",
      "                 Class     Images  Instances      Box(P          R      mAP50  mAP50-95): 100%|██████████| 21/21 [01:13<00:00,  3.52s/it]"
     ]
    },
    {
     "name": "stdout",
     "output_type": "stream",
     "text": [
      "                   all        672       5027      0.651      0.489      0.535      0.282\n"
     ]
    },
    {
     "name": "stderr",
     "output_type": "stream",
     "text": [
      "\n"
     ]
    },
    {
     "name": "stdout",
     "output_type": "stream",
     "text": [
      "\n",
      "      Epoch    GPU_mem   box_loss   cls_loss   dfl_loss  Instances       Size\n"
     ]
    },
    {
     "name": "stderr",
     "output_type": "stream",
     "text": [
      "     89/100         0G       1.61      1.488      1.665         45        640: 100%|██████████| 99/99 [07:29<00:00,  4.54s/it]\n",
      "                 Class     Images  Instances      Box(P          R      mAP50  mAP50-95): 100%|██████████| 21/21 [01:12<00:00,  3.44s/it]"
     ]
    },
    {
     "name": "stdout",
     "output_type": "stream",
     "text": [
      "                   all        672       5027      0.664       0.48      0.535      0.284\n"
     ]
    },
    {
     "name": "stderr",
     "output_type": "stream",
     "text": [
      "\n"
     ]
    },
    {
     "name": "stdout",
     "output_type": "stream",
     "text": [
      "\n",
      "      Epoch    GPU_mem   box_loss   cls_loss   dfl_loss  Instances       Size\n"
     ]
    },
    {
     "name": "stderr",
     "output_type": "stream",
     "text": [
      "     90/100         0G      1.597      1.468      1.663         26        640: 100%|██████████| 99/99 [07:25<00:00,  4.50s/it]\n",
      "                 Class     Images  Instances      Box(P          R      mAP50  mAP50-95): 100%|██████████| 21/21 [01:13<00:00,  3.50s/it]"
     ]
    },
    {
     "name": "stdout",
     "output_type": "stream",
     "text": [
      "                   all        672       5027      0.667      0.487      0.539      0.287\n"
     ]
    },
    {
     "name": "stderr",
     "output_type": "stream",
     "text": [
      "\n"
     ]
    },
    {
     "name": "stdout",
     "output_type": "stream",
     "text": [
      "Closing dataloader mosaic\n",
      "\n",
      "      Epoch    GPU_mem   box_loss   cls_loss   dfl_loss  Instances       Size\n"
     ]
    },
    {
     "name": "stderr",
     "output_type": "stream",
     "text": [
      "     91/100         0G      1.649      1.491      1.706         32        640: 100%|██████████| 99/99 [07:18<00:00,  4.42s/it]\n",
      "                 Class     Images  Instances      Box(P          R      mAP50  mAP50-95): 100%|██████████| 21/21 [01:12<00:00,  3.47s/it]"
     ]
    },
    {
     "name": "stdout",
     "output_type": "stream",
     "text": [
      "                   all        672       5027      0.671       0.48      0.533      0.283\n"
     ]
    },
    {
     "name": "stderr",
     "output_type": "stream",
     "text": [
      "\n"
     ]
    },
    {
     "name": "stdout",
     "output_type": "stream",
     "text": [
      "\n",
      "      Epoch    GPU_mem   box_loss   cls_loss   dfl_loss  Instances       Size\n"
     ]
    },
    {
     "name": "stderr",
     "output_type": "stream",
     "text": [
      "     92/100         0G       1.63      1.451      1.699         15        640: 100%|██████████| 99/99 [07:19<00:00,  4.44s/it]\n",
      "                 Class     Images  Instances      Box(P          R      mAP50  mAP50-95): 100%|██████████| 21/21 [01:13<00:00,  3.52s/it]"
     ]
    },
    {
     "name": "stdout",
     "output_type": "stream",
     "text": [
      "                   all        672       5027      0.667      0.488      0.537      0.286\n"
     ]
    },
    {
     "name": "stderr",
     "output_type": "stream",
     "text": [
      "\n"
     ]
    },
    {
     "name": "stdout",
     "output_type": "stream",
     "text": [
      "\n",
      "      Epoch    GPU_mem   box_loss   cls_loss   dfl_loss  Instances       Size\n"
     ]
    },
    {
     "name": "stderr",
     "output_type": "stream",
     "text": [
      "     93/100         0G      1.624      1.428      1.693         25        640: 100%|██████████| 99/99 [07:14<00:00,  4.39s/it]\n",
      "                 Class     Images  Instances      Box(P          R      mAP50  mAP50-95): 100%|██████████| 21/21 [01:12<00:00,  3.45s/it]"
     ]
    },
    {
     "name": "stdout",
     "output_type": "stream",
     "text": [
      "                   all        672       5027       0.66      0.491      0.539      0.287\n"
     ]
    },
    {
     "name": "stderr",
     "output_type": "stream",
     "text": [
      "\n"
     ]
    },
    {
     "name": "stdout",
     "output_type": "stream",
     "text": [
      "\n",
      "      Epoch    GPU_mem   box_loss   cls_loss   dfl_loss  Instances       Size\n"
     ]
    },
    {
     "name": "stderr",
     "output_type": "stream",
     "text": [
      "     94/100         0G      1.613      1.427      1.684          7        640: 100%|██████████| 99/99 [07:12<00:00,  4.37s/it]\n",
      "                 Class     Images  Instances      Box(P          R      mAP50  mAP50-95): 100%|██████████| 21/21 [01:12<00:00,  3.43s/it]"
     ]
    },
    {
     "name": "stdout",
     "output_type": "stream",
     "text": [
      "                   all        672       5027      0.674      0.485       0.54      0.287\n"
     ]
    },
    {
     "name": "stderr",
     "output_type": "stream",
     "text": [
      "\n"
     ]
    },
    {
     "name": "stdout",
     "output_type": "stream",
     "text": [
      "\n",
      "      Epoch    GPU_mem   box_loss   cls_loss   dfl_loss  Instances       Size\n"
     ]
    },
    {
     "name": "stderr",
     "output_type": "stream",
     "text": [
      "     95/100         0G       1.61      1.407      1.674         18        640: 100%|██████████| 99/99 [07:14<00:00,  4.39s/it]\n",
      "                 Class     Images  Instances      Box(P          R      mAP50  mAP50-95): 100%|██████████| 21/21 [01:12<00:00,  3.44s/it]"
     ]
    },
    {
     "name": "stdout",
     "output_type": "stream",
     "text": [
      "                   all        672       5027      0.664      0.489      0.541      0.289\n"
     ]
    },
    {
     "name": "stderr",
     "output_type": "stream",
     "text": [
      "\n"
     ]
    },
    {
     "name": "stdout",
     "output_type": "stream",
     "text": [
      "\n",
      "      Epoch    GPU_mem   box_loss   cls_loss   dfl_loss  Instances       Size\n"
     ]
    },
    {
     "name": "stderr",
     "output_type": "stream",
     "text": [
      "     96/100         0G      1.601      1.406      1.675         20        640: 100%|██████████| 99/99 [07:16<00:00,  4.41s/it]\n",
      "                 Class     Images  Instances      Box(P          R      mAP50  mAP50-95): 100%|██████████| 21/21 [01:13<00:00,  3.50s/it]"
     ]
    },
    {
     "name": "stdout",
     "output_type": "stream",
     "text": [
      "                   all        672       5027      0.683      0.485      0.542      0.289\n"
     ]
    },
    {
     "name": "stderr",
     "output_type": "stream",
     "text": [
      "\n"
     ]
    },
    {
     "name": "stdout",
     "output_type": "stream",
     "text": [
      "\n",
      "      Epoch    GPU_mem   box_loss   cls_loss   dfl_loss  Instances       Size\n"
     ]
    },
    {
     "name": "stderr",
     "output_type": "stream",
     "text": [
      "     97/100         0G        1.6      1.404      1.674         14        640: 100%|██████████| 99/99 [07:13<00:00,  4.38s/it]\n",
      "                 Class     Images  Instances      Box(P          R      mAP50  mAP50-95): 100%|██████████| 21/21 [01:12<00:00,  3.45s/it]"
     ]
    },
    {
     "name": "stdout",
     "output_type": "stream",
     "text": [
      "                   all        672       5027      0.678      0.492      0.543      0.289\n"
     ]
    },
    {
     "name": "stderr",
     "output_type": "stream",
     "text": [
      "\n"
     ]
    },
    {
     "name": "stdout",
     "output_type": "stream",
     "text": [
      "\n",
      "      Epoch    GPU_mem   box_loss   cls_loss   dfl_loss  Instances       Size\n"
     ]
    },
    {
     "name": "stderr",
     "output_type": "stream",
     "text": [
      "     98/100         0G      1.592      1.399      1.672         34        640: 100%|██████████| 99/99 [07:11<00:00,  4.36s/it]\n",
      "                 Class     Images  Instances      Box(P          R      mAP50  mAP50-95): 100%|██████████| 21/21 [01:12<00:00,  3.44s/it]"
     ]
    },
    {
     "name": "stdout",
     "output_type": "stream",
     "text": [
      "                   all        672       5027      0.675      0.488      0.542      0.289\n"
     ]
    },
    {
     "name": "stderr",
     "output_type": "stream",
     "text": [
      "\n"
     ]
    },
    {
     "name": "stdout",
     "output_type": "stream",
     "text": [
      "\n",
      "      Epoch    GPU_mem   box_loss   cls_loss   dfl_loss  Instances       Size\n"
     ]
    },
    {
     "name": "stderr",
     "output_type": "stream",
     "text": [
      "     99/100         0G      1.591      1.396       1.67         18        640: 100%|██████████| 99/99 [07:13<00:00,  4.38s/it]\n",
      "                 Class     Images  Instances      Box(P          R      mAP50  mAP50-95): 100%|██████████| 21/21 [01:12<00:00,  3.46s/it]\n"
     ]
    },
    {
     "name": "stdout",
     "output_type": "stream",
     "text": [
      "                   all        672       5027      0.674      0.488      0.543       0.29\n",
      "\n",
      "      Epoch    GPU_mem   box_loss   cls_loss   dfl_loss  Instances       Size\n"
     ]
    },
    {
     "name": "stderr",
     "output_type": "stream",
     "text": [
      "    100/100         0G      1.587      1.389      1.659         17        640: 100%|██████████| 99/99 [07:09<00:00,  4.34s/it]\n",
      "                 Class     Images  Instances      Box(P          R      mAP50  mAP50-95): 100%|██████████| 21/21 [01:13<00:00,  3.50s/it]"
     ]
    },
    {
     "name": "stdout",
     "output_type": "stream",
     "text": [
      "                   all        672       5027      0.676      0.486      0.544       0.29\n"
     ]
    },
    {
     "name": "stderr",
     "output_type": "stream",
     "text": [
      "\n"
     ]
    },
    {
     "name": "stdout",
     "output_type": "stream",
     "text": [
      "\n",
      "100 epochs completed in 14.404 hours.\n",
      "Optimizer stripped from runs\\detect\\train\\weights\\last.pt, 6.3MB\n",
      "Optimizer stripped from runs\\detect\\train\\weights\\best.pt, 6.3MB\n",
      "\n",
      "Validating runs\\detect\\train\\weights\\best.pt...\n",
      "WARNING  validating an untrained model YAML will result in 0 mAP.\n",
      "Ultralytics 8.3.35  Python-3.10.11 torch-2.5.1+cpu CPU (11th Gen Intel Core(TM) i7-1165G7 2.80GHz)\n",
      "YOLOv8n summary (fused): 168 layers, 3,006,038 parameters, 0 gradients, 8.1 GFLOPs\n"
     ]
    },
    {
     "name": "stderr",
     "output_type": "stream",
     "text": [
      "                 Class     Images  Instances      Box(P          R      mAP50  mAP50-95): 100%|██████████| 21/21 [01:01<00:00,  2.92s/it]\n"
     ]
    },
    {
     "name": "stdout",
     "output_type": "stream",
     "text": [
      "                   all        672       5027      0.676      0.486      0.543       0.29\n",
      "                person        672       3164      0.649      0.422       0.49      0.215\n",
      "                   car        672       1863      0.702       0.55      0.597      0.366\n",
      "Speed: 1.5ms preprocess, 74.9ms inference, 0.0ms loss, 2.6ms postprocess per image\n",
      "Results saved to \u001B[1mruns\\detect\\train\u001B[0m\n"
     ]
    }
   ],
   "source": [
    "#load a model\n",
    "model = YOLO(\"yolov8n.yaml\")  # build a new model from scratch\n",
    "\n",
    "#use the model\n",
    "result = model.train(data=\"config.yaml\", epochs=100) #train the model\n"
   ],
   "metadata": {
    "collapsed": false
   }
  },
  {
   "cell_type": "code",
   "execution_count": 125,
   "outputs": [],
   "source": [
    "# Charger le modèle entraîné\n",
    "model = YOLO('runs/detect/train/weights/best.pt')"
   ],
   "metadata": {
    "collapsed": false
   }
  },
  {
   "cell_type": "code",
   "execution_count": 134,
   "outputs": [],
   "source": [
    "\n",
    "model = YOLO(\"yolov8n.pt\")"
   ],
   "metadata": {
    "collapsed": false
   }
  },
  {
   "cell_type": "code",
   "execution_count": 126,
   "outputs": [],
   "source": [
    "model = YOLO("train13/weights/best.pt")"
   ],
   "metadata": {
    "collapsed": false
   }
  },
  {
   "cell_type": "code",
   "execution_count": 157,
   "outputs": [
    {
     "name": "stdout",
     "output_type": "stream",
     "text": [
      "\n",
      "0: 640x640 2 cars, 1 parking meter, 73.8ms\n",
      "Speed: 0.0ms preprocess, 73.8ms inference, 0.0ms postprocess per image at shape (1, 3, 640, 640)\n"
     ]
    }
   ],
   "source": [
    "random.seed(int(time.time()))\n",
    "# Chemin du dossier contenant les images\n",
    "image_folder = \"C:\\\\ECE\\\\Inge_3\\\\S1\\\\IR\\\\Traffic\\\\archive1\\\\train\\\\images\"  # Remplace par le chemin de ton dossier\n",
    "\n",
    "# Vérifier si le dossier existe et contient des images\n",
    "if not os.path.exists(image_folder):\n",
    "    print(\"Erreur : Le dossier d'images n'existe pas.\")\n",
    "    exit()\n",
    "\n",
    "image_files = [f for f in os.listdir(image_folder) if f.endswith(('.jpg', '.png', '.jpeg'))]\n",
    "\n",
    "if not image_files:\n",
    "    print(\"Erreur : Aucun fichier image trouvé dans le dossier.\")\n",
    "    exit()\n",
    "\n",
    "# Sélectionner une image aléatoire\n",
    "random_image_path = os.path.join(image_folder, random.choice(image_files))\n",
    "\n",
    "# Charger l'image avec OpenCV\n",
    "image = cv2.imread(random_image_path)\n",
    "\n",
    "# Vérifier si l'image a été correctement chargée\n",
    "if image is None:\n",
    "    print(f\"Erreur : Impossible de charger l'image {random_image_path}.\")\n",
    "    exit()\n",
    "\n",
    "# Appliquer le modèle YOLOv8 sur l'image\n",
    "results = model(image)\n",
    "\n",
    "# Annoter l'image avec les résultats\n",
    "vehicle_classes = [2, 3, 5, 7]  # Classes représentant des véhicules\n",
    "showing_classes = [0] + vehicle_classes  # Personnes et véhicules\n",
    "detected_vehicles = 0\n",
    "detected_persons = 0\n",
    "\n",
    "# Annoter uniquement les bounding boxes des objets pertinents\n",
    "annotated_image = image.copy()  # Crée une copie pour annoter\n",
    "\n",
    "for box in results[0].boxes:\n",
    "    # Extraire les coordonnées et le score\n",
    "    x1, y1, x2, y2 = map(int, box.xyxy[0])  # Coordonnées de la bounding box\n",
    "    confidence = box.conf[0]  # Confiance\n",
    "    class_id = int(box.cls)  # ID de la classe\n",
    "\n",
    "    if class_id == 0:  # Classe \"personnes\"\n",
    "        color = (255, 0, 0)  # Bleu\n",
    "        detected_persons += 1\n",
    "        label = f\"person {confidence:.2f}\"\n",
    "    elif class_id in vehicle_classes:  # Classes \"véhicules\"\n",
    "        color = (0, 255, 0)  # Vert\n",
    "        detected_vehicles += 1\n",
    "        label = f\"car {confidence:.2f}\"  # Forcer le label à \"car\"\n",
    "    else:\n",
    "        continue  # Ignorer les autres classes\n",
    "\n",
    "    # Dessiner la bounding box et le label\n",
    "    cv2.rectangle(annotated_image, (x1, y1), (x2, y2), color, 2)  # Bounding box\n",
    "    cv2.putText(annotated_image, label, (x1, y1 - 10), cv2.FONT_HERSHEY_SIMPLEX, 0.5, color, 2)\n",
    "\n",
    "# Ajouter le compteur de véhicules et de personnes sur l'image\n",
    "cv2.putText(annotated_image, f\"nbr car: {detected_vehicles}\", (50, 50), cv2.FONT_HERSHEY_SIMPLEX, 1, (0, 0, 255), 2,\n",
    "            cv2.LINE_AA)\n",
    "cv2.putText(annotated_image, f\"nbr pers: {detected_persons}\", (50, 150), cv2.FONT_HERSHEY_SIMPLEX, 1, (0, 0, 255), 2,\n",
    "            cv2.LINE_AA)\n",
    "\n",
    "# Afficher l'image annotée\n",
    "cv2.imshow(\"YOLOv8 Detection\", annotated_image)\n",
    "cv2.waitKey(0)\n",
    "cv2.destroyAllWindows()"
   ],
   "metadata": {
    "collapsed": false
   }
  },
  {
   "cell_type": "code",
   "execution_count": 161,
   "outputs": [
    {
     "name": "stdout",
     "output_type": "stream",
     "text": [
      "\n",
      "0: 640x640 (no detections), 84.5ms\n",
      "Speed: 8.6ms preprocess, 84.5ms inference, 0.0ms postprocess per image at shape (1, 3, 640, 640)\n"
     ]
    }
   ],
   "source": [
    "# Chemin du dossier contenant les images\n",
    "image_folder = \"C:\\ECE\\Inge_3\\S1\\IR\\Traffic\\\\archive1\\\\train\\images\"  # Remplace par le chemin de ton dossier\n",
    "\n",
    "# Vérifier si le dossier existe et contient des images\n",
    "if not os.path.exists(image_folder):\n",
    "    print(\"Erreur : Le dossier d'images n'existe pas.\")\n",
    "    exit()\n",
    "\n",
    "image_files = [f for f in os.listdir(image_folder) if f.endswith(('.jpg', '.png', '.jpeg'))]\n",
    "\n",
    "if not image_files:\n",
    "    print(\"Erreur : Aucun fichier image trouvé dans le dossier.\")\n",
    "    exit()\n",
    "\n",
    "# Sélectionner une image aléatoire\n",
    "random_image_path = os.path.join(image_folder, random.choice(image_files))\n",
    "\n",
    "# Charger l'image avec OpenCV\n",
    "image = cv2.imread(random_image_path)\n",
    "\n",
    "# Vérifier si l'image a été correctement chargée\n",
    "if image is None:\n",
    "    print(f\"Erreur : Impossible de charger l'image {random_image_path}.\")\n",
    "    exit()\n",
    "\n",
    "# Appliquer le modèle YOLOv8 sur l'image\n",
    "results = model(image)\n",
    "\n",
    "# Annoter l'image avec les résultats\n",
    "annotated_image = results[0].plot()\n",
    "vehicle_classes = [2, 3, 5, 7]\n",
    "showing_classes = [0, 2, 3, 5, 7]\n",
    "# Extraire les objets détectés\n",
    "detected_vehicles = 0\n",
    "detected_persons = 0\n",
    "\n",
    "# Créer une copie des résultats pour filtrer uniquement les véhicules\n",
    "filtered_boxes = []\n",
    "\n",
    "for box in results[0].boxes:\n",
    "    class_id = int(box.cls)  # ID de la classe détectée\n",
    "    if class_id in showing_classes:  # Si la classe est un véhicule\n",
    "        filtered_boxes.append(box)\n",
    "\n",
    "# Annoter uniquement les bounding boxes des véhicules sur l'image\n",
    "annotated_image = image.copy()  # Crée une copie pour annoter\n",
    "\n",
    "for box in filtered_boxes:\n",
    "    # Extraire les coordonnées et le score\n",
    "    x1, y1, x2, y2 = map(int, box.xyxy[0])  # Coordonnées de la bounding box\n",
    "    confidence = box.conf[0]  # Confiance\n",
    "    class_id = int(box.cls)  # ID de la classe\n",
    "    if class_id == 0:\n",
    "        color = (255, 0, 0)\n",
    "        detected_persons+=1\n",
    "    else:\n",
    "        color = (0, 255, 0)\n",
    "        detected_vehicles+=1\n",
    "\n",
    "    # Dessiner la bounding box et le label\n",
    "    label = f\"{results[0].names[class_id]} {confidence:.2f}\"\n",
    "    cv2.rectangle(annotated_image, (x1, y1), (x2, y2), color, 2)  # Bounding box\n",
    "    cv2.putText(annotated_image, label, (x1, y1 - 10), cv2.FONT_HERSHEY_SIMPLEX, 0.5, color, 2)\n",
    "\n",
    "cv2.putText(annotated_image, f\"nbr car: {detected_vehicles}\", (50, 50), cv2.FONT_HERSHEY_SIMPLEX, 1, (0, 0, 255), 2,\n",
    "            cv2.LINE_AA)\n",
    "cv2.putText(annotated_image, f\"nbr pers: {detected_persons}\", (50, 150), cv2.FONT_HERSHEY_SIMPLEX, 1, (0, 0, 255), 2,\n",
    "            cv2.LINE_AA)\n",
    "# Afficher l'image annotée\n",
    "cv2.imshow(\"YOLOv8 Detection\", annotated_image)\n",
    "cv2.waitKey(0)\n",
    "cv2.destroyAllWindows()\n"
   ],
   "metadata": {
    "collapsed": false
   }
  },
  {
   "cell_type": "code",
   "execution_count": 138,
   "outputs": [],
   "source": [
    "\n"
   ],
   "metadata": {
    "collapsed": false
   }
  },
  {
   "cell_type": "code",
   "execution_count": 162,
   "outputs": [
    {
     "name": "stdout",
     "output_type": "stream",
     "text": [
      "\n",
      "0: 384x640 1 car, 65.4ms\n",
      "Speed: 0.0ms preprocess, 65.4ms inference, 8.4ms postprocess per image at shape (1, 3, 384, 640)\n",
      "\n",
      "0: 384x640 1 car, 54.5ms\n",
      "Speed: 0.0ms preprocess, 54.5ms inference, 0.0ms postprocess per image at shape (1, 3, 384, 640)\n",
      "\n",
      "0: 384x640 1 car, 54.0ms\n",
      "Speed: 3.8ms preprocess, 54.0ms inference, 0.0ms postprocess per image at shape (1, 3, 384, 640)\n",
      "\n",
      "0: 384x640 1 car, 49.2ms\n",
      "Speed: 8.0ms preprocess, 49.2ms inference, 0.0ms postprocess per image at shape (1, 3, 384, 640)\n",
      "\n",
      "0: 384x640 2 cars, 48.6ms\n",
      "Speed: 0.0ms preprocess, 48.6ms inference, 0.0ms postprocess per image at shape (1, 3, 384, 640)\n",
      "\n",
      "0: 384x640 2 cars, 47.9ms\n",
      "Speed: 1.5ms preprocess, 47.9ms inference, 0.0ms postprocess per image at shape (1, 3, 384, 640)\n",
      "\n",
      "0: 384x640 2 cars, 41.7ms\n",
      "Speed: 0.0ms preprocess, 41.7ms inference, 0.0ms postprocess per image at shape (1, 3, 384, 640)\n",
      "\n",
      "0: 384x640 2 cars, 42.9ms\n",
      "Speed: 0.0ms preprocess, 42.9ms inference, 0.0ms postprocess per image at shape (1, 3, 384, 640)\n",
      "\n",
      "0: 384x640 2 cars, 41.5ms\n",
      "Speed: 0.0ms preprocess, 41.5ms inference, 0.0ms postprocess per image at shape (1, 3, 384, 640)\n",
      "\n",
      "0: 384x640 2 cars, 46.2ms\n",
      "Speed: 3.0ms preprocess, 46.2ms inference, 0.0ms postprocess per image at shape (1, 3, 384, 640)\n",
      "\n",
      "0: 384x640 2 cars, 48.8ms\n",
      "Speed: 0.0ms preprocess, 48.8ms inference, 0.0ms postprocess per image at shape (1, 3, 384, 640)\n",
      "\n",
      "0: 384x640 2 cars, 51.5ms\n",
      "Speed: 8.0ms preprocess, 51.5ms inference, 0.0ms postprocess per image at shape (1, 3, 384, 640)\n",
      "\n",
      "0: 384x640 3 cars, 40.7ms\n",
      "Speed: 8.2ms preprocess, 40.7ms inference, 0.0ms postprocess per image at shape (1, 3, 384, 640)\n",
      "\n",
      "0: 384x640 3 cars, 49.8ms\n",
      "Speed: 0.0ms preprocess, 49.8ms inference, 0.0ms postprocess per image at shape (1, 3, 384, 640)\n",
      "\n",
      "0: 384x640 3 cars, 1 truck, 49.3ms\n",
      "Speed: 0.0ms preprocess, 49.3ms inference, 0.0ms postprocess per image at shape (1, 3, 384, 640)\n",
      "\n",
      "0: 384x640 3 cars, 48.9ms\n",
      "Speed: 0.0ms preprocess, 48.9ms inference, 0.0ms postprocess per image at shape (1, 3, 384, 640)\n",
      "\n",
      "0: 384x640 3 cars, 52.5ms\n",
      "Speed: 0.0ms preprocess, 52.5ms inference, 0.0ms postprocess per image at shape (1, 3, 384, 640)\n",
      "\n",
      "0: 384x640 2 cars, 43.2ms\n",
      "Speed: 0.0ms preprocess, 43.2ms inference, 8.0ms postprocess per image at shape (1, 3, 384, 640)\n",
      "\n",
      "0: 384x640 2 cars, 48.8ms\n",
      "Speed: 0.0ms preprocess, 48.8ms inference, 0.1ms postprocess per image at shape (1, 3, 384, 640)\n",
      "\n",
      "0: 384x640 2 cars, 44.3ms\n",
      "Speed: 5.3ms preprocess, 44.3ms inference, 0.0ms postprocess per image at shape (1, 3, 384, 640)\n",
      "\n",
      "0: 384x640 3 cars, 49.0ms\n",
      "Speed: 0.0ms preprocess, 49.0ms inference, 0.0ms postprocess per image at shape (1, 3, 384, 640)\n",
      "\n",
      "0: 384x640 4 cars, 40.8ms\n",
      "Speed: 8.0ms preprocess, 40.8ms inference, 0.0ms postprocess per image at shape (1, 3, 384, 640)\n",
      "\n",
      "0: 384x640 4 cars, 41.8ms\n",
      "Speed: 0.0ms preprocess, 41.8ms inference, 0.0ms postprocess per image at shape (1, 3, 384, 640)\n",
      "\n",
      "0: 384x640 2 cars, 40.7ms\n",
      "Speed: 0.0ms preprocess, 40.7ms inference, 0.0ms postprocess per image at shape (1, 3, 384, 640)\n",
      "\n",
      "0: 384x640 2 cars, 45.8ms\n",
      "Speed: 2.0ms preprocess, 45.8ms inference, 0.0ms postprocess per image at shape (1, 3, 384, 640)\n",
      "\n",
      "0: 384x640 4 cars, 40.9ms\n",
      "Speed: 8.2ms preprocess, 40.9ms inference, 0.0ms postprocess per image at shape (1, 3, 384, 640)\n",
      "\n",
      "0: 384x640 3 cars, 40.0ms\n",
      "Speed: 0.7ms preprocess, 40.0ms inference, 0.0ms postprocess per image at shape (1, 3, 384, 640)\n",
      "\n",
      "0: 384x640 3 cars, 40.8ms\n",
      "Speed: 0.0ms preprocess, 40.8ms inference, 8.1ms postprocess per image at shape (1, 3, 384, 640)\n",
      "\n",
      "0: 384x640 2 cars, 46.9ms\n",
      "Speed: 0.0ms preprocess, 46.9ms inference, 0.0ms postprocess per image at shape (1, 3, 384, 640)\n",
      "\n",
      "0: 384x640 2 cars, 57.6ms\n",
      "Speed: 0.0ms preprocess, 57.6ms inference, 0.4ms postprocess per image at shape (1, 3, 384, 640)\n",
      "\n",
      "0: 384x640 2 cars, 47.9ms\n",
      "Speed: 0.0ms preprocess, 47.9ms inference, 0.0ms postprocess per image at shape (1, 3, 384, 640)\n",
      "Interruption par l'utilisateur.\n"
     ]
    }
   ],
   "source": [
    "# Chemin de la vidéo\n",
    "video_path = \"C:\\ECE\\Inge_3\\S1\\IR\\Traffic\\\\archive (1)\\Vehicle_Detection_Image_Dataset\\sample_video.mp4\"\n",
    "\n",
    "# Vérifier si la vidéo existe\n",
    "if not os.path.exists(video_path):\n",
    "    print(\"Erreur : Le fichier vidéo n'existe pas.\")\n",
    "    exit()\n",
    "\n",
    "# Charger la vidéo\n",
    "cap = cv2.VideoCapture(video_path)\n",
    "\n",
    "# Vérifier si la vidéo a été correctement ouverte\n",
    "if not cap.isOpened():\n",
    "    print(\"Erreur : Impossible d'ouvrir la vidéo.\")\n",
    "    exit()\n",
    "\n",
    "# Obtenir les dimensions de la vidéo pour les annotations\n",
    "frame_width = int(cap.get(cv2.CAP_PROP_FRAME_WIDTH))\n",
    "frame_height = int(cap.get(cv2.CAP_PROP_FRAME_HEIGHT))\n",
    "fps = int(cap.get(cv2.CAP_PROP_FPS))\n",
    "\n",
    "# Optionnel : Créer une vidéo annotée en sortie\n",
    "output_video = cv2.VideoWriter('annotated_video.mp4', cv2.VideoWriter_fourcc(*'mp4v'), fps, (frame_width, frame_height))\n",
    "\n",
    "while True:\n",
    "    # Lire une frame de la vidéo\n",
    "    ret, frame = cap.read()\n",
    "\n",
    "    if not ret:  # Si la vidéo est terminée ou erreur\n",
    "        print(\"Fin de la vidéo.\")\n",
    "        break\n",
    "\n",
    "    # Appliquer le modèle YOLOv8 sur la frame\n",
    "    results = model(frame)\n",
    "\n",
    "    detected_vehicles = 0\n",
    "    detected_persons = 0\n",
    "\n",
    "    # Annoter uniquement les objets pertinents (personnes et véhicules, par exemple)\n",
    "    annotated_frame = frame.copy()  # Crée une copie pour annoter\n",
    "    for box in results[0].boxes:\n",
    "        class_id = int(box.cls)  # ID de la classe détectée\n",
    "        x1, y1, x2, y2 = map(int, box.xyxy[0])  # Coordonnées de la bounding box\n",
    "        confidence = box.conf[0]  # Confiance\n",
    "\n",
    "        # Définir les couleurs selon la classe\n",
    "        if class_id == 0:  # Classe \"personnes\"\n",
    "            color = (255, 0, 0)  # Bleu\n",
    "            detected_persons+=1\n",
    "        elif class_id in [2, 3, 5, 7]:  # Classes véhicules\n",
    "            color = (0, 255, 0)  # Vert\n",
    "            detected_vehicles+=1\n",
    "        else:\n",
    "            continue  # Ignorer les autres classes\n",
    "\n",
    "        # Dessiner la bounding box et afficher le label\n",
    "        label = f\"{results[0].names[class_id]} {confidence:.2f}\"\n",
    "        cv2.rectangle(annotated_frame, (x1, y1), (x2, y2), color, 2)\n",
    "        cv2.putText(annotated_frame, label, (x1, y1 - 10), cv2.FONT_HERSHEY_SIMPLEX, 0.5, color, 2)\n",
    "\n",
    "    cv2.putText(annotated_frame, f\"nbr car: {detected_vehicles}\", (50, 50), cv2.FONT_HERSHEY_SIMPLEX, 1, (0, 0, 255), 2, cv2.LINE_AA)\n",
    "    cv2.putText(annotated_frame, f\"nbr pers: {detected_persons}\", (50, 150), cv2.FONT_HERSHEY_SIMPLEX, 1, (0, 0, 255), 2, cv2.LINE_AA)\n",
    "\n",
    "    # Afficher la vidéo annotée\n",
    "    cv2.imshow(\"YOLOv8 Detection\", annotated_frame)\n",
    "\n",
    "    # Enregistrer la frame annotée dans la vidéo de sortie\n",
    "    output_video.write(annotated_frame)\n",
    "\n",
    "    # Appuyer sur 'q' pour quitter\n",
    "    if cv2.waitKey(1) & 0xFF == ord('q'):\n",
    "        print(\"Interruption par l'utilisateur.\")\n",
    "        break\n",
    "\n",
    "# Libérer les ressources\n",
    "cap.release()\n",
    "output_video.release()\n",
    "cv2.destroyAllWindows()"
   ],
   "metadata": {
    "collapsed": false
   }
  },
  {
   "cell_type": "code",
   "execution_count": 80,
   "outputs": [],
   "source": [],
   "metadata": {
    "collapsed": false
   }
  },
  {
   "cell_type": "code",
   "execution_count": 80,
   "outputs": [],
   "source": [],
   "metadata": {
    "collapsed": false
   }
  },
  {
   "cell_type": "code",
   "execution_count": 163,
   "outputs": [],
   "source": [
    "video1_path = \"C:\\ECE\\Inge_3\\S1\\IR\\Traffic1\\Test Video.mp4\"\n",
    "video2_path = \"C:\\ECE\\Inge_3\\S1\\IR\\Traffic1\\Traffic1\\\\archive (1)\\Vehicle_Detection_Image_Dataset\\sample_video.mp4\""
   ],
   "metadata": {
    "collapsed": false
   }
  },
  {
   "cell_type": "code",
   "execution_count": 164,
   "outputs": [
    {
     "name": "stdout",
     "output_type": "stream",
     "text": [
      "\n",
      "0: 384x640 4 cars, 49.2ms\n",
      "Speed: 0.0ms preprocess, 49.2ms inference, 0.0ms postprocess per image at shape (1, 3, 384, 640)\n",
      "\n",
      "0: 384x640 1 car, 66.7ms\n",
      "Speed: 0.0ms preprocess, 66.7ms inference, 0.0ms postprocess per image at shape (1, 3, 384, 640)\n",
      "\n",
      "0: 384x640 1 car, 59.2ms\n",
      "Speed: 2.3ms preprocess, 59.2ms inference, 8.8ms postprocess per image at shape (1, 3, 384, 640)\n",
      "\n",
      "0: 384x640 1 car, 49.5ms\n",
      "Speed: 8.0ms preprocess, 49.5ms inference, 0.0ms postprocess per image at shape (1, 3, 384, 640)\n",
      "\n",
      "0: 384x640 1 car, 48.8ms\n",
      "Speed: 0.0ms preprocess, 48.8ms inference, 0.0ms postprocess per image at shape (1, 3, 384, 640)\n",
      "\n",
      "0: 384x640 2 cars, 48.7ms\n",
      "Speed: 0.0ms preprocess, 48.7ms inference, 0.0ms postprocess per image at shape (1, 3, 384, 640)\n",
      "\n",
      "0: 384x640 2 cars, 49.6ms\n",
      "Speed: 0.0ms preprocess, 49.6ms inference, 0.0ms postprocess per image at shape (1, 3, 384, 640)\n",
      "\n",
      "0: 384x640 2 cars, 50.0ms\n",
      "Speed: 0.1ms preprocess, 50.0ms inference, 0.0ms postprocess per image at shape (1, 3, 384, 640)\n",
      "\n",
      "0: 384x640 2 cars, 48.5ms\n",
      "Speed: 0.0ms preprocess, 48.5ms inference, 0.0ms postprocess per image at shape (1, 3, 384, 640)\n",
      "\n",
      "0: 384x640 2 cars, 39.7ms\n",
      "Speed: 0.0ms preprocess, 39.7ms inference, 8.2ms postprocess per image at shape (1, 3, 384, 640)\n",
      "\n",
      "0: 384x640 2 cars, 48.4ms\n",
      "Speed: 0.8ms preprocess, 48.4ms inference, 0.0ms postprocess per image at shape (1, 3, 384, 640)\n",
      "\n",
      "0: 384x640 2 cars, 41.4ms\n",
      "Speed: 0.0ms preprocess, 41.4ms inference, 8.2ms postprocess per image at shape (1, 3, 384, 640)\n",
      "\n",
      "0: 384x640 2 cars, 41.4ms\n",
      "Speed: 0.0ms preprocess, 41.4ms inference, 0.0ms postprocess per image at shape (1, 3, 384, 640)\n",
      "\n",
      "0: 384x640 3 cars, 40.8ms\n",
      "Speed: 0.0ms preprocess, 40.8ms inference, 0.0ms postprocess per image at shape (1, 3, 384, 640)\n",
      "\n",
      "0: 384x640 3 cars, 41.1ms\n",
      "Speed: 0.0ms preprocess, 41.1ms inference, 0.0ms postprocess per image at shape (1, 3, 384, 640)\n",
      "\n",
      "0: 384x640 3 cars, 1 truck, 44.4ms\n",
      "Speed: 0.0ms preprocess, 44.4ms inference, 0.0ms postprocess per image at shape (1, 3, 384, 640)\n",
      "\n",
      "0: 384x640 3 cars, 46.2ms\n",
      "Speed: 0.0ms preprocess, 46.2ms inference, 0.0ms postprocess per image at shape (1, 3, 384, 640)\n",
      "\n",
      "0: 384x640 3 cars, 42.2ms\n",
      "Speed: 0.0ms preprocess, 42.2ms inference, 7.2ms postprocess per image at shape (1, 3, 384, 640)\n",
      "\n",
      "0: 384x640 2 cars, 40.8ms\n",
      "Speed: 7.7ms preprocess, 40.8ms inference, 0.0ms postprocess per image at shape (1, 3, 384, 640)\n",
      "\n",
      "0: 384x640 2 cars, 49.3ms\n",
      "Speed: 0.0ms preprocess, 49.3ms inference, 0.0ms postprocess per image at shape (1, 3, 384, 640)\n",
      "\n",
      "0: 384x640 2 cars, 57.7ms\n",
      "Speed: 0.0ms preprocess, 57.7ms inference, 0.0ms postprocess per image at shape (1, 3, 384, 640)\n",
      "\n",
      "0: 384x640 3 cars, 73.5ms\n",
      "Speed: 0.0ms preprocess, 73.5ms inference, 0.0ms postprocess per image at shape (1, 3, 384, 640)\n",
      "\n",
      "0: 384x640 4 cars, 65.8ms\n",
      "Speed: 0.0ms preprocess, 65.8ms inference, 0.0ms postprocess per image at shape (1, 3, 384, 640)\n",
      "\n",
      "0: 384x640 4 cars, 48.6ms\n",
      "Speed: 0.0ms preprocess, 48.6ms inference, 0.0ms postprocess per image at shape (1, 3, 384, 640)\n",
      "\n",
      "0: 384x640 2 cars, 48.2ms\n",
      "Speed: 2.1ms preprocess, 48.2ms inference, 0.0ms postprocess per image at shape (1, 3, 384, 640)\n",
      "\n",
      "0: 384x640 2 cars, 49.3ms\n",
      "Speed: 0.0ms preprocess, 49.3ms inference, 0.0ms postprocess per image at shape (1, 3, 384, 640)\n",
      "\n",
      "0: 384x640 4 cars, 41.1ms\n",
      "Speed: 0.0ms preprocess, 41.1ms inference, 7.7ms postprocess per image at shape (1, 3, 384, 640)\n",
      "\n",
      "0: 384x640 3 cars, 41.1ms\n",
      "Speed: 0.2ms preprocess, 41.1ms inference, 0.0ms postprocess per image at shape (1, 3, 384, 640)\n",
      "\n",
      "0: 384x640 3 cars, 40.9ms\n",
      "Speed: 8.5ms preprocess, 40.9ms inference, 0.0ms postprocess per image at shape (1, 3, 384, 640)\n",
      "\n",
      "0: 384x640 2 cars, 48.9ms\n",
      "Speed: 0.0ms preprocess, 48.9ms inference, 0.0ms postprocess per image at shape (1, 3, 384, 640)\n",
      "\n",
      "0: 384x640 2 cars, 49.4ms\n",
      "Speed: 0.0ms preprocess, 49.4ms inference, 0.0ms postprocess per image at shape (1, 3, 384, 640)\n",
      "\n",
      "0: 384x640 2 cars, 52.9ms\n",
      "Speed: 0.0ms preprocess, 52.9ms inference, 0.0ms postprocess per image at shape (1, 3, 384, 640)\n",
      "\n",
      "0: 384x640 3 cars, 46.1ms\n",
      "Speed: 0.0ms preprocess, 46.1ms inference, 0.0ms postprocess per image at shape (1, 3, 384, 640)\n",
      "\n",
      "0: 384x640 4 cars, 41.8ms\n",
      "Speed: 0.0ms preprocess, 41.8ms inference, 7.6ms postprocess per image at shape (1, 3, 384, 640)\n",
      "\n",
      "0: 384x640 4 cars, 41.3ms\n",
      "Speed: 8.0ms preprocess, 41.3ms inference, 0.0ms postprocess per image at shape (1, 3, 384, 640)\n",
      "\n",
      "0: 384x640 2 cars, 50.3ms\n",
      "Speed: 0.0ms preprocess, 50.3ms inference, 0.0ms postprocess per image at shape (1, 3, 384, 640)\n",
      "\n",
      "0: 384x640 3 cars, 48.3ms\n",
      "Speed: 0.0ms preprocess, 48.3ms inference, 0.2ms postprocess per image at shape (1, 3, 384, 640)\n",
      "\n",
      "0: 384x640 2 cars, 40.8ms\n",
      "Speed: 0.2ms preprocess, 40.8ms inference, 0.0ms postprocess per image at shape (1, 3, 384, 640)\n",
      "\n",
      "0: 384x640 3 cars, 49.2ms\n",
      "Speed: 0.0ms preprocess, 49.2ms inference, 0.0ms postprocess per image at shape (1, 3, 384, 640)\n",
      "\n",
      "0: 384x640 3 cars, 40.9ms\n",
      "Speed: 0.0ms preprocess, 40.9ms inference, 8.6ms postprocess per image at shape (1, 3, 384, 640)\n",
      "\n",
      "0: 384x640 3 cars, 47.4ms\n",
      "Speed: 5.9ms preprocess, 47.4ms inference, 0.2ms postprocess per image at shape (1, 3, 384, 640)\n",
      "\n",
      "0: 384x640 4 cars, 48.8ms\n",
      "Speed: 0.0ms preprocess, 48.8ms inference, 0.0ms postprocess per image at shape (1, 3, 384, 640)\n",
      "\n",
      "0: 384x640 6 cars, 41.1ms\n",
      "Speed: 8.2ms preprocess, 41.1ms inference, 0.0ms postprocess per image at shape (1, 3, 384, 640)\n",
      "\n",
      "0: 384x640 6 cars, 40.9ms\n",
      "Speed: 7.8ms preprocess, 40.9ms inference, 0.0ms postprocess per image at shape (1, 3, 384, 640)\n",
      "\n",
      "0: 384x640 6 cars, 48.5ms\n",
      "Speed: 0.0ms preprocess, 48.5ms inference, 0.0ms postprocess per image at shape (1, 3, 384, 640)\n",
      "\n",
      "0: 384x640 4 cars, 49.2ms\n",
      "Speed: 0.0ms preprocess, 49.2ms inference, 0.0ms postprocess per image at shape (1, 3, 384, 640)\n",
      "\n",
      "0: 384x640 6 cars, 40.2ms\n",
      "Speed: 0.0ms preprocess, 40.2ms inference, 0.0ms postprocess per image at shape (1, 3, 384, 640)\n",
      "\n",
      "0: 384x640 4 cars, 49.6ms\n",
      "Speed: 8.2ms preprocess, 49.6ms inference, 2.1ms postprocess per image at shape (1, 3, 384, 640)\n",
      "\n",
      "0: 384x640 4 cars, 41.3ms\n",
      "Speed: 0.0ms preprocess, 41.3ms inference, 0.0ms postprocess per image at shape (1, 3, 384, 640)\n",
      "\n",
      "0: 384x640 4 cars, 41.0ms\n",
      "Speed: 8.1ms preprocess, 41.0ms inference, 0.0ms postprocess per image at shape (1, 3, 384, 640)\n",
      "\n",
      "0: 384x640 7 cars, 49.2ms\n",
      "Speed: 0.0ms preprocess, 49.2ms inference, 0.1ms postprocess per image at shape (1, 3, 384, 640)\n",
      "\n",
      "0: 384x640 6 cars, 41.1ms\n",
      "Speed: 0.0ms preprocess, 41.1ms inference, 0.0ms postprocess per image at shape (1, 3, 384, 640)\n",
      "\n",
      "0: 384x640 5 cars, 49.3ms\n",
      "Speed: 0.0ms preprocess, 49.3ms inference, 0.0ms postprocess per image at shape (1, 3, 384, 640)\n",
      "\n",
      "0: 384x640 4 cars, 41.2ms\n",
      "Speed: 0.0ms preprocess, 41.2ms inference, 7.5ms postprocess per image at shape (1, 3, 384, 640)\n",
      "\n",
      "0: 384x640 4 cars, 40.7ms\n",
      "Speed: 8.2ms preprocess, 40.7ms inference, 0.0ms postprocess per image at shape (1, 3, 384, 640)\n",
      "\n",
      "0: 384x640 3 cars, 49.2ms\n",
      "Speed: 0.0ms preprocess, 49.2ms inference, 0.0ms postprocess per image at shape (1, 3, 384, 640)\n",
      "\n",
      "0: 384x640 5 cars, 53.0ms\n",
      "Speed: 5.5ms preprocess, 53.0ms inference, 0.0ms postprocess per image at shape (1, 3, 384, 640)\n",
      "\n",
      "0: 384x640 4 cars, 56.7ms\n",
      "Speed: 0.0ms preprocess, 56.7ms inference, 0.8ms postprocess per image at shape (1, 3, 384, 640)\n",
      "\n",
      "0: 384x640 4 cars, 55.7ms\n",
      "Speed: 0.0ms preprocess, 55.7ms inference, 0.0ms postprocess per image at shape (1, 3, 384, 640)\n",
      "\n",
      "0: 384x640 4 cars, 59.5ms\n",
      "Speed: 0.0ms preprocess, 59.5ms inference, 0.0ms postprocess per image at shape (1, 3, 384, 640)\n",
      "\n",
      "0: 384x640 4 cars, 60.0ms\n",
      "Speed: 0.0ms preprocess, 60.0ms inference, 3.1ms postprocess per image at shape (1, 3, 384, 640)\n",
      "\n",
      "0: 384x640 4 cars, 49.3ms\n",
      "Speed: 3.9ms preprocess, 49.3ms inference, 0.0ms postprocess per image at shape (1, 3, 384, 640)\n",
      "\n",
      "0: 384x640 5 cars, 46.1ms\n",
      "Speed: 0.7ms preprocess, 46.1ms inference, 0.0ms postprocess per image at shape (1, 3, 384, 640)\n",
      "\n",
      "0: 384x640 5 cars, 49.3ms\n",
      "Speed: 2.5ms preprocess, 49.3ms inference, 0.0ms postprocess per image at shape (1, 3, 384, 640)\n",
      "\n",
      "0: 384x640 5 cars, 70.8ms\n",
      "Speed: 0.0ms preprocess, 70.8ms inference, 0.0ms postprocess per image at shape (1, 3, 384, 640)\n",
      "\n",
      "0: 384x640 5 cars, 78.5ms\n",
      "Speed: 0.0ms preprocess, 78.5ms inference, 1.2ms postprocess per image at shape (1, 3, 384, 640)\n",
      "\n",
      "0: 384x640 4 cars, 67.5ms\n",
      "Speed: 0.0ms preprocess, 67.5ms inference, 0.0ms postprocess per image at shape (1, 3, 384, 640)\n",
      "\n",
      "0: 384x640 4 cars, 41.3ms\n",
      "Speed: 8.0ms preprocess, 41.3ms inference, 0.0ms postprocess per image at shape (1, 3, 384, 640)\n",
      "\n",
      "0: 384x640 5 cars, 40.8ms\n",
      "Speed: 8.0ms preprocess, 40.8ms inference, 6.5ms postprocess per image at shape (1, 3, 384, 640)\n",
      "\n",
      "0: 384x640 5 cars, 45.6ms\n",
      "Speed: 8.0ms preprocess, 45.6ms inference, 0.0ms postprocess per image at shape (1, 3, 384, 640)\n",
      "\n",
      "0: 384x640 4 cars, 49.4ms\n",
      "Speed: 0.0ms preprocess, 49.4ms inference, 0.0ms postprocess per image at shape (1, 3, 384, 640)\n",
      "\n",
      "0: 384x640 5 cars, 52.5ms\n",
      "Speed: 0.0ms preprocess, 52.5ms inference, 0.0ms postprocess per image at shape (1, 3, 384, 640)\n",
      "\n",
      "0: 384x640 6 cars, 49.1ms\n",
      "Speed: 0.0ms preprocess, 49.1ms inference, 0.2ms postprocess per image at shape (1, 3, 384, 640)\n",
      "\n",
      "0: 384x640 5 cars, 40.5ms\n",
      "Speed: 8.1ms preprocess, 40.5ms inference, 0.0ms postprocess per image at shape (1, 3, 384, 640)\n",
      "\n",
      "0: 384x640 6 cars, 49.6ms\n",
      "Speed: 0.0ms preprocess, 49.6ms inference, 0.0ms postprocess per image at shape (1, 3, 384, 640)\n",
      "\n",
      "0: 384x640 7 cars, 40.8ms\n",
      "Speed: 0.0ms preprocess, 40.8ms inference, 0.0ms postprocess per image at shape (1, 3, 384, 640)\n",
      "2.4949970960617067\n",
      "\n",
      "0: 384x640 5 cars, 40.8ms\n",
      "Speed: 4.5ms preprocess, 40.8ms inference, 0.0ms postprocess per image at shape (1, 3, 384, 640)\n",
      "\n",
      "0: 384x640 4 cars, 41.7ms\n",
      "Speed: 7.5ms preprocess, 41.7ms inference, 0.0ms postprocess per image at shape (1, 3, 384, 640)\n",
      "\n",
      "0: 384x640 6 cars, 40.1ms\n",
      "Speed: 9.2ms preprocess, 40.1ms inference, 8.0ms postprocess per image at shape (1, 3, 384, 640)\n",
      "\n",
      "0: 384x640 6 cars, 49.4ms\n",
      "Speed: 0.0ms preprocess, 49.4ms inference, 0.0ms postprocess per image at shape (1, 3, 384, 640)\n",
      "\n",
      "0: 384x640 2 cars, 49.1ms\n",
      "Speed: 0.0ms preprocess, 49.1ms inference, 0.0ms postprocess per image at shape (1, 3, 384, 640)\n",
      "\n",
      "0: 384x640 3 cars, 49.5ms\n",
      "Speed: 0.0ms preprocess, 49.5ms inference, 0.0ms postprocess per image at shape (1, 3, 384, 640)\n",
      "\n",
      "0: 384x640 3 cars, 1 bus, 41.4ms\n",
      "Speed: 8.0ms preprocess, 41.4ms inference, 0.0ms postprocess per image at shape (1, 3, 384, 640)\n",
      "\n",
      "0: 384x640 3 cars, 1 bus, 40.6ms\n",
      "Speed: 0.6ms preprocess, 40.6ms inference, 0.0ms postprocess per image at shape (1, 3, 384, 640)\n",
      "\n",
      "0: 384x640 2 cars, 40.7ms\n",
      "Speed: 0.0ms preprocess, 40.7ms inference, 0.0ms postprocess per image at shape (1, 3, 384, 640)\n",
      "\n",
      "0: 384x640 2 cars, 49.5ms\n",
      "Speed: 0.1ms preprocess, 49.5ms inference, 0.0ms postprocess per image at shape (1, 3, 384, 640)\n",
      "\n",
      "0: 384x640 2 cars, 40.5ms\n",
      "Speed: 7.3ms preprocess, 40.5ms inference, 0.0ms postprocess per image at shape (1, 3, 384, 640)\n",
      "\n",
      "0: 384x640 2 cars, 41.0ms\n",
      "Speed: 0.0ms preprocess, 41.0ms inference, 0.0ms postprocess per image at shape (1, 3, 384, 640)\n",
      "\n",
      "0: 384x640 4 cars, 41.0ms\n",
      "Speed: 0.0ms preprocess, 41.0ms inference, 0.0ms postprocess per image at shape (1, 3, 384, 640)\n",
      "\n",
      "0: 384x640 3 cars, 1 bus, 47.1ms\n",
      "Speed: 0.0ms preprocess, 47.1ms inference, 2.0ms postprocess per image at shape (1, 3, 384, 640)\n",
      "\n",
      "0: 384x640 3 cars, 1 bus, 48.1ms\n",
      "Speed: 0.0ms preprocess, 48.1ms inference, 0.0ms postprocess per image at shape (1, 3, 384, 640)\n",
      "\n",
      "0: 384x640 3 cars, 41.1ms\n",
      "Speed: 8.4ms preprocess, 41.1ms inference, 0.0ms postprocess per image at shape (1, 3, 384, 640)\n",
      "\n",
      "0: 384x640 3 cars, 44.3ms\n",
      "Speed: 1.6ms preprocess, 44.3ms inference, 0.0ms postprocess per image at shape (1, 3, 384, 640)\n",
      "\n",
      "0: 384x640 3 cars, 49.2ms\n",
      "Speed: 8.0ms preprocess, 49.2ms inference, 0.0ms postprocess per image at shape (1, 3, 384, 640)\n",
      "\n",
      "0: 384x640 3 cars, 49.4ms\n",
      "Speed: 0.0ms preprocess, 49.4ms inference, 0.0ms postprocess per image at shape (1, 3, 384, 640)\n",
      "\n",
      "0: 384x640 3 cars, 48.2ms\n",
      "Speed: 0.0ms preprocess, 48.2ms inference, 0.0ms postprocess per image at shape (1, 3, 384, 640)\n",
      "\n",
      "0: 384x640 3 cars, 40.4ms\n",
      "Speed: 7.1ms preprocess, 40.4ms inference, 0.0ms postprocess per image at shape (1, 3, 384, 640)\n",
      "\n",
      "0: 384x640 3 cars, 40.6ms\n",
      "Speed: 0.0ms preprocess, 40.6ms inference, 0.0ms postprocess per image at shape (1, 3, 384, 640)\n",
      "\n",
      "0: 384x640 3 cars, 40.9ms\n",
      "Speed: 0.0ms preprocess, 40.9ms inference, 0.0ms postprocess per image at shape (1, 3, 384, 640)\n",
      "\n",
      "0: 384x640 3 cars, 65.7ms\n",
      "Speed: 0.0ms preprocess, 65.7ms inference, 0.0ms postprocess per image at shape (1, 3, 384, 640)\n",
      "\n",
      "0: 384x640 3 cars, 49.9ms\n",
      "Speed: 0.0ms preprocess, 49.9ms inference, 0.0ms postprocess per image at shape (1, 3, 384, 640)\n",
      "\n",
      "0: 384x640 3 cars, 50.0ms\n",
      "Speed: 0.0ms preprocess, 50.0ms inference, 0.0ms postprocess per image at shape (1, 3, 384, 640)\n",
      "\n",
      "0: 384x640 2 cars, 1 bus, 48.8ms\n",
      "Speed: 0.0ms preprocess, 48.8ms inference, 0.0ms postprocess per image at shape (1, 3, 384, 640)\n",
      "\n",
      "0: 384x640 2 cars, 1 bus, 57.7ms\n",
      "Speed: 0.0ms preprocess, 57.7ms inference, 0.0ms postprocess per image at shape (1, 3, 384, 640)\n",
      "\n",
      "0: 384x640 4 cars, 61.7ms\n",
      "Speed: 8.0ms preprocess, 61.7ms inference, 0.0ms postprocess per image at shape (1, 3, 384, 640)\n",
      "\n",
      "0: 384x640 4 cars, 1 bus, 61.8ms\n",
      "Speed: 2.7ms preprocess, 61.8ms inference, 1.5ms postprocess per image at shape (1, 3, 384, 640)\n",
      "\n",
      "0: 384x640 3 cars, 1 bus, 100.7ms\n",
      "Speed: 0.0ms preprocess, 100.7ms inference, 0.4ms postprocess per image at shape (1, 3, 384, 640)\n",
      "\n",
      "0: 384x640 4 cars, 2 buss, 55.8ms\n",
      "Speed: 1.0ms preprocess, 55.8ms inference, 0.0ms postprocess per image at shape (1, 3, 384, 640)\n",
      "\n",
      "0: 384x640 3 cars, 1 bus, 61.5ms\n",
      "Speed: 1.5ms preprocess, 61.5ms inference, 0.0ms postprocess per image at shape (1, 3, 384, 640)\n",
      "\n",
      "0: 384x640 4 cars, 1 bus, 1 truck, 57.5ms\n",
      "Speed: 7.0ms preprocess, 57.5ms inference, 0.3ms postprocess per image at shape (1, 3, 384, 640)\n",
      "\n",
      "0: 384x640 3 cars, 1 bus, 1 truck, 49.3ms\n",
      "Speed: 0.0ms preprocess, 49.3ms inference, 0.0ms postprocess per image at shape (1, 3, 384, 640)\n",
      "\n",
      "0: 384x640 2 cars, 1 bus, 1 truck, 48.4ms\n",
      "Speed: 0.0ms preprocess, 48.4ms inference, 0.0ms postprocess per image at shape (1, 3, 384, 640)\n",
      "\n",
      "0: 384x640 2 cars, 1 bus, 1 truck, 49.3ms\n",
      "Speed: 0.0ms preprocess, 49.3ms inference, 0.0ms postprocess per image at shape (1, 3, 384, 640)\n",
      "\n",
      "0: 384x640 2 cars, 2 buss, 49.0ms\n",
      "Speed: 0.0ms preprocess, 49.0ms inference, 0.0ms postprocess per image at shape (1, 3, 384, 640)\n",
      "\n",
      "0: 384x640 2 cars, 2 buss, 49.0ms\n",
      "Speed: 0.0ms preprocess, 49.0ms inference, 0.0ms postprocess per image at shape (1, 3, 384, 640)\n",
      "\n",
      "0: 384x640 2 cars, 2 buss, 42.8ms\n",
      "Speed: 5.5ms preprocess, 42.8ms inference, 0.0ms postprocess per image at shape (1, 3, 384, 640)\n",
      "\n",
      "0: 384x640 2 cars, 2 buss, 1 truck, 50.0ms\n",
      "Speed: 0.7ms preprocess, 50.0ms inference, 0.0ms postprocess per image at shape (1, 3, 384, 640)\n",
      "\n",
      "0: 384x640 2 cars, 2 buss, 1 truck, 53.5ms\n",
      "Speed: 4.5ms preprocess, 53.5ms inference, 0.0ms postprocess per image at shape (1, 3, 384, 640)\n",
      "\n",
      "0: 384x640 3 cars, 2 buss, 1 truck, 49.0ms\n",
      "Speed: 7.9ms preprocess, 49.0ms inference, 0.0ms postprocess per image at shape (1, 3, 384, 640)\n",
      "\n",
      "0: 384x640 1 car, 3 buss, 54.2ms\n",
      "Speed: 0.0ms preprocess, 54.2ms inference, 0.0ms postprocess per image at shape (1, 3, 384, 640)\n",
      "\n",
      "0: 384x640 1 car, 3 buss, 49.5ms\n",
      "Speed: 7.6ms preprocess, 49.5ms inference, 0.0ms postprocess per image at shape (1, 3, 384, 640)\n",
      "\n",
      "0: 384x640 2 cars, 2 buss, 49.8ms\n",
      "Speed: 8.0ms preprocess, 49.8ms inference, 0.0ms postprocess per image at shape (1, 3, 384, 640)\n",
      "\n",
      "0: 384x640 2 cars, 2 buss, 53.0ms\n",
      "Speed: 1.1ms preprocess, 53.0ms inference, 0.0ms postprocess per image at shape (1, 3, 384, 640)\n",
      "\n",
      "0: 384x640 2 cars, 1 bus, 50.1ms\n",
      "Speed: 2.7ms preprocess, 50.1ms inference, 5.0ms postprocess per image at shape (1, 3, 384, 640)\n",
      "\n",
      "0: 384x640 1 car, 3 buss, 46.7ms\n",
      "Speed: 3.3ms preprocess, 46.7ms inference, 7.2ms postprocess per image at shape (1, 3, 384, 640)\n",
      "\n",
      "0: 384x640 1 car, 2 buss, 49.0ms\n",
      "Speed: 0.0ms preprocess, 49.0ms inference, 0.0ms postprocess per image at shape (1, 3, 384, 640)\n",
      "\n",
      "0: 384x640 1 car, 2 buss, 48.0ms\n",
      "Speed: 1.4ms preprocess, 48.0ms inference, 0.0ms postprocess per image at shape (1, 3, 384, 640)\n",
      "\n",
      "0: 384x640 1 car, 2 buss, 1 truck, 43.0ms\n",
      "Speed: 1.1ms preprocess, 43.0ms inference, 8.0ms postprocess per image at shape (1, 3, 384, 640)\n",
      "\n",
      "0: 384x640 2 cars, 1 bus, 1 truck, 49.6ms\n",
      "Speed: 0.0ms preprocess, 49.6ms inference, 0.0ms postprocess per image at shape (1, 3, 384, 640)\n",
      "\n",
      "0: 384x640 2 cars, 1 bus, 1 truck, 49.0ms\n",
      "Speed: 0.0ms preprocess, 49.0ms inference, 0.0ms postprocess per image at shape (1, 3, 384, 640)\n",
      "\n",
      "0: 384x640 2 cars, 1 bus, 1 truck, 40.4ms\n",
      "Speed: 8.4ms preprocess, 40.4ms inference, 0.0ms postprocess per image at shape (1, 3, 384, 640)\n",
      "\n",
      "0: 384x640 2 cars, 1 bus, 1 truck, 44.3ms\n",
      "Speed: 7.0ms preprocess, 44.3ms inference, 0.0ms postprocess per image at shape (1, 3, 384, 640)\n",
      "\n",
      "0: 384x640 1 car, 2 buss, 1 truck, 44.8ms\n",
      "Speed: 4.3ms preprocess, 44.8ms inference, 0.0ms postprocess per image at shape (1, 3, 384, 640)\n",
      "\n",
      "0: 384x640 1 car, 1 bus, 40.8ms\n",
      "Speed: 0.0ms preprocess, 40.8ms inference, 8.3ms postprocess per image at shape (1, 3, 384, 640)\n",
      "\n",
      "0: 384x640 2 cars, 49.6ms\n",
      "Speed: 0.0ms preprocess, 49.6ms inference, 0.0ms postprocess per image at shape (1, 3, 384, 640)\n",
      "\n",
      "0: 384x640 2 cars, 1 bus, 49.6ms\n",
      "Speed: 0.0ms preprocess, 49.6ms inference, 0.0ms postprocess per image at shape (1, 3, 384, 640)\n",
      "\n",
      "0: 384x640 4 cars, 2 buss, 1 truck, 48.5ms\n",
      "Speed: 0.0ms preprocess, 48.5ms inference, 0.0ms postprocess per image at shape (1, 3, 384, 640)\n",
      "\n",
      "0: 384x640 2 cars, 2 buss, 1 truck, 49.5ms\n",
      "Speed: 0.0ms preprocess, 49.5ms inference, 0.0ms postprocess per image at shape (1, 3, 384, 640)\n",
      "\n",
      "0: 384x640 2 cars, 2 buss, 41.9ms\n",
      "Speed: 7.6ms preprocess, 41.9ms inference, 7.0ms postprocess per image at shape (1, 3, 384, 640)\n",
      "\n",
      "0: 384x640 2 cars, 2 buss, 50.2ms\n",
      "Speed: 0.0ms preprocess, 50.2ms inference, 0.0ms postprocess per image at shape (1, 3, 384, 640)\n",
      "\n",
      "0: 384x640 2 cars, 1 bus, 49.7ms\n",
      "Speed: 8.0ms preprocess, 49.7ms inference, 0.0ms postprocess per image at shape (1, 3, 384, 640)\n",
      "\n",
      "0: 384x640 2 cars, 1 bus, 48.6ms\n",
      "Speed: 0.0ms preprocess, 48.6ms inference, 0.0ms postprocess per image at shape (1, 3, 384, 640)\n",
      "\n",
      "0: 384x640 2 cars, 2 buss, 1 truck, 41.4ms\n",
      "Speed: 7.3ms preprocess, 41.4ms inference, 8.1ms postprocess per image at shape (1, 3, 384, 640)\n",
      "\n",
      "0: 384x640 1 car, 1 bus, 1 truck, 49.3ms\n",
      "Speed: 0.0ms preprocess, 49.3ms inference, 0.0ms postprocess per image at shape (1, 3, 384, 640)\n",
      "\n",
      "0: 384x640 1 car, 1 bus, 1 truck, 49.5ms\n",
      "Speed: 0.0ms preprocess, 49.5ms inference, 0.0ms postprocess per image at shape (1, 3, 384, 640)\n",
      "\n",
      "0: 384x640 1 car, 1 bus, 1 truck, 56.5ms\n",
      "Speed: 2.7ms preprocess, 56.5ms inference, 0.0ms postprocess per image at shape (1, 3, 384, 640)\n",
      "\n",
      "0: 384x640 1 car, 1 bus, 1 truck, 49.6ms\n",
      "Speed: 0.0ms preprocess, 49.6ms inference, 8.2ms postprocess per image at shape (1, 3, 384, 640)\n",
      "\n",
      "0: 384x640 1 car, 1 bus, 1 truck, 49.2ms\n",
      "Speed: 0.0ms preprocess, 49.2ms inference, 0.0ms postprocess per image at shape (1, 3, 384, 640)\n",
      "\n",
      "0: 384x640 3 cars, 1 bus, 1 truck, 49.5ms\n",
      "Speed: 2.2ms preprocess, 49.5ms inference, 0.0ms postprocess per image at shape (1, 3, 384, 640)\n",
      "\n",
      "0: 384x640 3 cars, 1 bus, 1 truck, 53.5ms\n",
      "Speed: 0.0ms preprocess, 53.5ms inference, 2.7ms postprocess per image at shape (1, 3, 384, 640)\n",
      "\n",
      "0: 384x640 1 car, 2 buss, 1 truck, 49.7ms\n",
      "Speed: 1.8ms preprocess, 49.7ms inference, 0.0ms postprocess per image at shape (1, 3, 384, 640)\n",
      "\n",
      "0: 384x640 2 cars, 2 buss, 48.6ms\n",
      "Speed: 0.7ms preprocess, 48.6ms inference, 0.0ms postprocess per image at shape (1, 3, 384, 640)\n",
      "\n",
      "0: 384x640 1 car, 1 bus, 1 truck, 53.4ms\n",
      "Speed: 0.0ms preprocess, 53.4ms inference, 0.0ms postprocess per image at shape (1, 3, 384, 640)\n",
      "\n",
      "0: 384x640 1 car, 1 bus, 1 truck, 48.8ms\n",
      "Speed: 0.0ms preprocess, 48.8ms inference, 0.3ms postprocess per image at shape (1, 3, 384, 640)\n",
      "\n",
      "0: 384x640 1 car, 1 truck, 49.3ms\n",
      "Speed: 0.0ms preprocess, 49.3ms inference, 0.0ms postprocess per image at shape (1, 3, 384, 640)\n",
      "\n",
      "0: 384x640 2 cars, 1 bus, 1 truck, 61.1ms\n",
      "Speed: 0.0ms preprocess, 61.1ms inference, 0.0ms postprocess per image at shape (1, 3, 384, 640)\n",
      "\n",
      "0: 384x640 1 car, 1 truck, 46.7ms\n",
      "Speed: 0.0ms preprocess, 46.7ms inference, 0.0ms postprocess per image at shape (1, 3, 384, 640)\n",
      "-3.503712272644043\n",
      "\n",
      "0: 384x640 2 cars, 1 truck, 41.2ms\n",
      "Speed: 0.0ms preprocess, 41.2ms inference, 0.0ms postprocess per image at shape (1, 3, 384, 640)\n",
      "\n",
      "0: 384x640 5 cars, 41.1ms\n",
      "Speed: 0.1ms preprocess, 41.1ms inference, 0.0ms postprocess per image at shape (1, 3, 384, 640)\n",
      "\n",
      "0: 384x640 5 cars, 49.6ms\n",
      "Speed: 0.0ms preprocess, 49.6ms inference, 0.0ms postprocess per image at shape (1, 3, 384, 640)\n",
      "\n",
      "0: 384x640 5 cars, 49.6ms\n",
      "Speed: 0.0ms preprocess, 49.6ms inference, 0.0ms postprocess per image at shape (1, 3, 384, 640)\n",
      "\n",
      "0: 384x640 6 cars, 1 truck, 45.9ms\n",
      "Speed: 3.0ms preprocess, 45.9ms inference, 0.0ms postprocess per image at shape (1, 3, 384, 640)\n",
      "\n",
      "0: 384x640 6 cars, 40.7ms\n",
      "Speed: 0.0ms preprocess, 40.7ms inference, 0.0ms postprocess per image at shape (1, 3, 384, 640)\n",
      "\n",
      "0: 384x640 6 cars, 49.3ms\n",
      "Speed: 0.0ms preprocess, 49.3ms inference, 0.0ms postprocess per image at shape (1, 3, 384, 640)\n",
      "\n",
      "0: 384x640 6 cars, 70.0ms\n",
      "Speed: 0.0ms preprocess, 70.0ms inference, 0.9ms postprocess per image at shape (1, 3, 384, 640)\n",
      "\n",
      "0: 384x640 5 cars, 56.2ms\n",
      "Speed: 0.8ms preprocess, 56.2ms inference, 1.0ms postprocess per image at shape (1, 3, 384, 640)\n",
      "\n",
      "0: 384x640 5 cars, 56.4ms\n",
      "Speed: 0.0ms preprocess, 56.4ms inference, 0.0ms postprocess per image at shape (1, 3, 384, 640)\n",
      "\n",
      "0: 384x640 5 cars, 55.1ms\n",
      "Speed: 0.0ms preprocess, 55.1ms inference, 1.3ms postprocess per image at shape (1, 3, 384, 640)\n",
      "\n",
      "0: 384x640 5 cars, 58.9ms\n",
      "Speed: 0.8ms preprocess, 58.9ms inference, 0.6ms postprocess per image at shape (1, 3, 384, 640)\n",
      "\n",
      "0: 384x640 5 cars, 52.4ms\n",
      "Speed: 1.6ms preprocess, 52.4ms inference, 0.0ms postprocess per image at shape (1, 3, 384, 640)\n",
      "\n",
      "0: 384x640 5 cars, 50.9ms\n",
      "Speed: 7.0ms preprocess, 50.9ms inference, 0.0ms postprocess per image at shape (1, 3, 384, 640)\n",
      "\n",
      "0: 384x640 5 cars, 50.5ms\n",
      "Speed: 2.6ms preprocess, 50.5ms inference, 0.0ms postprocess per image at shape (1, 3, 384, 640)\n",
      "\n",
      "0: 384x640 5 cars, 53.9ms\n",
      "Speed: 1.7ms preprocess, 53.9ms inference, 0.0ms postprocess per image at shape (1, 3, 384, 640)\n",
      "\n",
      "0: 384x640 6 cars, 56.1ms\n",
      "Speed: 0.0ms preprocess, 56.1ms inference, 1.2ms postprocess per image at shape (1, 3, 384, 640)\n",
      "\n",
      "0: 384x640 8 cars, 50.4ms\n",
      "Speed: 1.9ms preprocess, 50.4ms inference, 0.0ms postprocess per image at shape (1, 3, 384, 640)\n",
      "\n",
      "0: 384x640 6 cars, 53.1ms\n",
      "Speed: 1.5ms preprocess, 53.1ms inference, 0.0ms postprocess per image at shape (1, 3, 384, 640)\n",
      "\n",
      "0: 384x640 7 cars, 51.4ms\n",
      "Speed: 1.7ms preprocess, 51.4ms inference, 0.0ms postprocess per image at shape (1, 3, 384, 640)\n",
      "\n",
      "0: 384x640 6 cars, 48.6ms\n",
      "Speed: 1.8ms preprocess, 48.6ms inference, 0.0ms postprocess per image at shape (1, 3, 384, 640)\n",
      "\n",
      "0: 384x640 7 cars, 55.9ms\n",
      "Speed: 3.5ms preprocess, 55.9ms inference, 3.5ms postprocess per image at shape (1, 3, 384, 640)\n",
      "\n",
      "0: 384x640 6 cars, 52.3ms\n",
      "Speed: 0.0ms preprocess, 52.3ms inference, 0.0ms postprocess per image at shape (1, 3, 384, 640)\n",
      "\n",
      "0: 384x640 5 cars, 39.6ms\n",
      "Speed: 3.3ms preprocess, 39.6ms inference, 0.0ms postprocess per image at shape (1, 3, 384, 640)\n",
      "\n",
      "0: 384x640 4 cars, 52.7ms\n",
      "Speed: 7.5ms preprocess, 52.7ms inference, 0.0ms postprocess per image at shape (1, 3, 384, 640)\n",
      "\n",
      "0: 384x640 4 cars, 54.9ms\n",
      "Speed: 6.0ms preprocess, 54.9ms inference, 0.0ms postprocess per image at shape (1, 3, 384, 640)\n",
      "\n",
      "0: 384x640 5 cars, 59.1ms\n",
      "Speed: 0.0ms preprocess, 59.1ms inference, 0.0ms postprocess per image at shape (1, 3, 384, 640)\n",
      "\n",
      "0: 384x640 4 cars, 63.6ms\n",
      "Speed: 1.4ms preprocess, 63.6ms inference, 0.9ms postprocess per image at shape (1, 3, 384, 640)\n",
      "\n",
      "0: 384x640 4 cars, 64.3ms\n",
      "Speed: 5.1ms preprocess, 64.3ms inference, 0.0ms postprocess per image at shape (1, 3, 384, 640)\n",
      "\n",
      "0: 384x640 4 cars, 60.4ms\n",
      "Speed: 2.1ms preprocess, 60.4ms inference, 2.4ms postprocess per image at shape (1, 3, 384, 640)\n",
      "\n",
      "0: 384x640 4 cars, 64.9ms\n",
      "Speed: 1.1ms preprocess, 64.9ms inference, 0.0ms postprocess per image at shape (1, 3, 384, 640)\n",
      "\n",
      "0: 384x640 5 cars, 65.8ms\n",
      "Speed: 1.6ms preprocess, 65.8ms inference, 1.3ms postprocess per image at shape (1, 3, 384, 640)\n",
      "\n",
      "0: 384x640 4 cars, 66.0ms\n",
      "Speed: 1.2ms preprocess, 66.0ms inference, 0.0ms postprocess per image at shape (1, 3, 384, 640)\n",
      "\n",
      "0: 384x640 5 cars, 65.8ms\n",
      "Speed: 3.2ms preprocess, 65.8ms inference, 0.0ms postprocess per image at shape (1, 3, 384, 640)\n",
      "\n",
      "0: 384x640 4 cars, 59.1ms\n",
      "Speed: 2.3ms preprocess, 59.1ms inference, 0.0ms postprocess per image at shape (1, 3, 384, 640)\n",
      "\n",
      "0: 384x640 4 cars, 61.1ms\n",
      "Speed: 1.1ms preprocess, 61.1ms inference, 0.0ms postprocess per image at shape (1, 3, 384, 640)\n",
      "\n",
      "0: 384x640 3 cars, 93.6ms\n",
      "Speed: 5.8ms preprocess, 93.6ms inference, 0.0ms postprocess per image at shape (1, 3, 384, 640)\n",
      "\n",
      "0: 384x640 3 cars, 63.6ms\n",
      "Speed: 0.0ms preprocess, 63.6ms inference, 11.8ms postprocess per image at shape (1, 3, 384, 640)\n",
      "\n",
      "0: 384x640 3 cars, 62.2ms\n",
      "Speed: 2.0ms preprocess, 62.2ms inference, 0.0ms postprocess per image at shape (1, 3, 384, 640)\n",
      "\n",
      "0: 384x640 4 cars, 48.9ms\n",
      "Speed: 0.0ms preprocess, 48.9ms inference, 8.5ms postprocess per image at shape (1, 3, 384, 640)\n",
      "\n",
      "0: 384x640 4 cars, 48.7ms\n",
      "Speed: 0.0ms preprocess, 48.7ms inference, 0.0ms postprocess per image at shape (1, 3, 384, 640)\n",
      "\n",
      "0: 384x640 3 cars, 57.4ms\n",
      "Speed: 0.0ms preprocess, 57.4ms inference, 0.0ms postprocess per image at shape (1, 3, 384, 640)\n",
      "\n",
      "0: 384x640 4 cars, 48.0ms\n",
      "Speed: 0.0ms preprocess, 48.0ms inference, 0.0ms postprocess per image at shape (1, 3, 384, 640)\n",
      "\n",
      "0: 384x640 4 cars, 49.2ms\n",
      "Speed: 8.0ms preprocess, 49.2ms inference, 0.0ms postprocess per image at shape (1, 3, 384, 640)\n",
      "\n",
      "0: 384x640 6 cars, 45.9ms\n",
      "Speed: 0.0ms preprocess, 45.9ms inference, 0.0ms postprocess per image at shape (1, 3, 384, 640)\n",
      "\n",
      "0: 384x640 5 cars, 49.7ms\n",
      "Speed: 8.0ms preprocess, 49.7ms inference, 0.0ms postprocess per image at shape (1, 3, 384, 640)\n",
      "\n",
      "0: 384x640 5 cars, 49.6ms\n",
      "Speed: 0.0ms preprocess, 49.6ms inference, 0.0ms postprocess per image at shape (1, 3, 384, 640)\n",
      "\n",
      "0: 384x640 6 cars, 48.8ms\n",
      "Speed: 3.8ms preprocess, 48.8ms inference, 0.0ms postprocess per image at shape (1, 3, 384, 640)\n",
      "\n",
      "0: 384x640 6 cars, 190.1ms\n",
      "Speed: 0.0ms preprocess, 190.1ms inference, 0.0ms postprocess per image at shape (1, 3, 384, 640)\n",
      "\n",
      "0: 384x640 6 cars, 44.1ms\n",
      "Speed: 8.3ms preprocess, 44.1ms inference, 0.0ms postprocess per image at shape (1, 3, 384, 640)\n",
      "\n",
      "0: 384x640 6 cars, 53.8ms\n",
      "Speed: 0.0ms preprocess, 53.8ms inference, 1.1ms postprocess per image at shape (1, 3, 384, 640)\n",
      "\n",
      "0: 384x640 5 cars, 50.1ms\n",
      "Speed: 0.0ms preprocess, 50.1ms inference, 0.0ms postprocess per image at shape (1, 3, 384, 640)\n",
      "\n",
      "0: 384x640 6 cars, 51.2ms\n",
      "Speed: 0.0ms preprocess, 51.2ms inference, 0.0ms postprocess per image at shape (1, 3, 384, 640)\n",
      "\n",
      "0: 384x640 6 cars, 48.9ms\n",
      "Speed: 0.0ms preprocess, 48.9ms inference, 0.0ms postprocess per image at shape (1, 3, 384, 640)\n",
      "\n",
      "0: 384x640 5 cars, 41.4ms\n",
      "Speed: 0.0ms preprocess, 41.4ms inference, 0.0ms postprocess per image at shape (1, 3, 384, 640)\n",
      "\n",
      "0: 384x640 5 cars, 185.5ms\n",
      "Speed: 8.3ms preprocess, 185.5ms inference, 0.0ms postprocess per image at shape (1, 3, 384, 640)\n",
      "\n",
      "0: 384x640 4 cars, 49.4ms\n",
      "Speed: 0.0ms preprocess, 49.4ms inference, 0.0ms postprocess per image at shape (1, 3, 384, 640)\n",
      "\n",
      "0: 384x640 4 cars, 49.3ms\n",
      "Speed: 0.0ms preprocess, 49.3ms inference, 0.0ms postprocess per image at shape (1, 3, 384, 640)\n",
      "\n",
      "0: 384x640 4 cars, 48.4ms\n",
      "Speed: 0.0ms preprocess, 48.4ms inference, 0.0ms postprocess per image at shape (1, 3, 384, 640)\n",
      "\n",
      "0: 384x640 5 cars, 44.9ms\n",
      "Speed: 8.2ms preprocess, 44.9ms inference, 0.0ms postprocess per image at shape (1, 3, 384, 640)\n",
      "\n",
      "0: 384x640 4 cars, 47.3ms\n",
      "Speed: 8.0ms preprocess, 47.3ms inference, 0.0ms postprocess per image at shape (1, 3, 384, 640)\n",
      "\n",
      "0: 384x640 4 cars, 46.2ms\n",
      "Speed: 2.2ms preprocess, 46.2ms inference, 0.0ms postprocess per image at shape (1, 3, 384, 640)\n",
      "\n",
      "0: 384x640 4 cars, 47.6ms\n",
      "Speed: 1.4ms preprocess, 47.6ms inference, 1.5ms postprocess per image at shape (1, 3, 384, 640)\n",
      "\n",
      "0: 384x640 4 cars, 49.2ms\n",
      "Speed: 0.0ms preprocess, 49.2ms inference, 0.0ms postprocess per image at shape (1, 3, 384, 640)\n",
      "\n",
      "0: 384x640 4 cars, 49.5ms\n",
      "Speed: 0.0ms preprocess, 49.5ms inference, 0.0ms postprocess per image at shape (1, 3, 384, 640)\n",
      "\n",
      "0: 384x640 4 cars, 41.2ms\n",
      "Speed: 2.0ms preprocess, 41.2ms inference, 0.0ms postprocess per image at shape (1, 3, 384, 640)\n",
      "\n",
      "0: 384x640 4 cars, 49.0ms\n",
      "Speed: 0.0ms preprocess, 49.0ms inference, 0.0ms postprocess per image at shape (1, 3, 384, 640)\n",
      "0.49416668415069576\n",
      "\n",
      "0: 384x640 4 cars, 49.5ms\n",
      "Speed: 0.0ms preprocess, 49.5ms inference, 0.0ms postprocess per image at shape (1, 3, 384, 640)\n",
      "\n",
      "0: 384x640 2 cars, 1 truck, 48.4ms\n",
      "Speed: 9.6ms preprocess, 48.4ms inference, 0.0ms postprocess per image at shape (1, 3, 384, 640)\n",
      "\n",
      "0: 384x640 2 cars, 1 bus, 1 truck, 43.2ms\n",
      "Speed: 6.6ms preprocess, 43.2ms inference, 0.0ms postprocess per image at shape (1, 3, 384, 640)\n",
      "\n",
      "0: 384x640 2 cars, 1 truck, 41.1ms\n",
      "Speed: 6.0ms preprocess, 41.1ms inference, 8.0ms postprocess per image at shape (1, 3, 384, 640)\n",
      "\n",
      "0: 384x640 2 cars, 1 truck, 40.1ms\n",
      "Speed: 0.0ms preprocess, 40.1ms inference, 7.7ms postprocess per image at shape (1, 3, 384, 640)\n",
      "\n",
      "0: 384x640 2 cars, 1 bus, 1 truck, 49.1ms\n",
      "Speed: 0.0ms preprocess, 49.1ms inference, 0.0ms postprocess per image at shape (1, 3, 384, 640)\n",
      "\n",
      "0: 384x640 3 cars, 1 bus, 1 truck, 57.5ms\n",
      "Speed: 0.0ms preprocess, 57.5ms inference, 0.0ms postprocess per image at shape (1, 3, 384, 640)\n",
      "\n",
      "0: 384x640 2 cars, 1 truck, 49.4ms\n",
      "Speed: 1.2ms preprocess, 49.4ms inference, 0.0ms postprocess per image at shape (1, 3, 384, 640)\n",
      "\n",
      "0: 384x640 2 cars, 1 bus, 1 truck, 41.4ms\n",
      "Speed: 5.0ms preprocess, 41.4ms inference, 0.0ms postprocess per image at shape (1, 3, 384, 640)\n",
      "\n",
      "0: 384x640 3 cars, 1 truck, 39.7ms\n",
      "Speed: 1.2ms preprocess, 39.7ms inference, 0.0ms postprocess per image at shape (1, 3, 384, 640)\n",
      "\n",
      "0: 384x640 2 cars, 1 truck, 49.2ms\n",
      "Speed: 0.5ms preprocess, 49.2ms inference, 0.0ms postprocess per image at shape (1, 3, 384, 640)\n",
      "\n",
      "0: 384x640 1 car, 56.3ms\n",
      "Speed: 0.0ms preprocess, 56.3ms inference, 3.2ms postprocess per image at shape (1, 3, 384, 640)\n",
      "\n",
      "0: 384x640 2 cars, 53.9ms\n",
      "Speed: 6.1ms preprocess, 53.9ms inference, 0.9ms postprocess per image at shape (1, 3, 384, 640)\n",
      "\n",
      "0: 384x640 2 cars, 42.8ms\n",
      "Speed: 0.0ms preprocess, 42.8ms inference, 8.0ms postprocess per image at shape (1, 3, 384, 640)\n",
      "\n",
      "0: 384x640 2 cars, 49.1ms\n",
      "Speed: 0.0ms preprocess, 49.1ms inference, 0.0ms postprocess per image at shape (1, 3, 384, 640)\n",
      "\n",
      "0: 384x640 2 cars, 46.2ms\n",
      "Speed: 0.0ms preprocess, 46.2ms inference, 0.0ms postprocess per image at shape (1, 3, 384, 640)\n",
      "\n",
      "0: 384x640 2 cars, 41.3ms\n",
      "Speed: 8.4ms preprocess, 41.3ms inference, 0.0ms postprocess per image at shape (1, 3, 384, 640)\n",
      "\n",
      "0: 384x640 2 cars, 40.8ms\n",
      "Speed: 0.0ms preprocess, 40.8ms inference, 0.0ms postprocess per image at shape (1, 3, 384, 640)\n",
      "\n",
      "0: 384x640 2 cars, 41.0ms\n",
      "Speed: 0.0ms preprocess, 41.0ms inference, 0.0ms postprocess per image at shape (1, 3, 384, 640)\n",
      "\n",
      "0: 384x640 3 cars, 46.1ms\n",
      "Speed: 8.5ms preprocess, 46.1ms inference, 0.0ms postprocess per image at shape (1, 3, 384, 640)\n",
      "\n",
      "0: 384x640 3 cars, 41.0ms\n",
      "Speed: 0.0ms preprocess, 41.0ms inference, 0.0ms postprocess per image at shape (1, 3, 384, 640)\n",
      "\n",
      "0: 384x640 3 cars, 40.5ms\n",
      "Speed: 0.0ms preprocess, 40.5ms inference, 0.0ms postprocess per image at shape (1, 3, 384, 640)\n",
      "\n",
      "0: 384x640 3 cars, 49.3ms\n",
      "Speed: 0.0ms preprocess, 49.3ms inference, 0.0ms postprocess per image at shape (1, 3, 384, 640)\n",
      "\n",
      "0: 384x640 3 cars, 49.8ms\n",
      "Speed: 0.0ms preprocess, 49.8ms inference, 0.0ms postprocess per image at shape (1, 3, 384, 640)\n",
      "\n",
      "0: 384x640 3 cars, 42.1ms\n",
      "Speed: 0.0ms preprocess, 42.1ms inference, 7.0ms postprocess per image at shape (1, 3, 384, 640)\n",
      "\n",
      "0: 384x640 3 cars, 40.8ms\n",
      "Speed: 0.0ms preprocess, 40.8ms inference, 8.3ms postprocess per image at shape (1, 3, 384, 640)\n",
      "\n",
      "0: 384x640 3 cars, 49.2ms\n",
      "Speed: 0.0ms preprocess, 49.2ms inference, 0.0ms postprocess per image at shape (1, 3, 384, 640)\n",
      "\n",
      "0: 384x640 4 cars, 41.9ms\n",
      "Speed: 0.0ms preprocess, 41.9ms inference, 7.7ms postprocess per image at shape (1, 3, 384, 640)\n",
      "\n",
      "0: 384x640 3 cars, 41.7ms\n",
      "Speed: 0.0ms preprocess, 41.7ms inference, 7.5ms postprocess per image at shape (1, 3, 384, 640)\n",
      "\n",
      "0: 384x640 3 cars, 50.7ms\n",
      "Speed: 0.0ms preprocess, 50.7ms inference, 2.0ms postprocess per image at shape (1, 3, 384, 640)\n",
      "\n",
      "0: 384x640 4 cars, 48.2ms\n",
      "Speed: 0.0ms preprocess, 48.2ms inference, 0.0ms postprocess per image at shape (1, 3, 384, 640)\n",
      "\n",
      "0: 384x640 2 cars, 41.1ms\n",
      "Speed: 8.0ms preprocess, 41.1ms inference, 0.0ms postprocess per image at shape (1, 3, 384, 640)\n",
      "\n",
      "0: 384x640 2 cars, 41.1ms\n",
      "Speed: 6.5ms preprocess, 41.1ms inference, 0.0ms postprocess per image at shape (1, 3, 384, 640)\n",
      "\n",
      "0: 384x640 2 cars, 41.3ms\n",
      "Speed: 0.0ms preprocess, 41.3ms inference, 0.0ms postprocess per image at shape (1, 3, 384, 640)\n",
      "\n",
      "0: 384x640 3 cars, 1 truck, 40.9ms\n",
      "Speed: 0.0ms preprocess, 40.9ms inference, 7.6ms postprocess per image at shape (1, 3, 384, 640)\n",
      "\n",
      "0: 384x640 3 cars, 48.5ms\n",
      "Speed: 0.0ms preprocess, 48.5ms inference, 0.3ms postprocess per image at shape (1, 3, 384, 640)\n",
      "\n",
      "0: 384x640 2 cars, 48.9ms\n",
      "Speed: 0.0ms preprocess, 48.9ms inference, 0.0ms postprocess per image at shape (1, 3, 384, 640)\n",
      "\n",
      "0: 384x640 2 cars, 41.5ms\n",
      "Speed: 0.0ms preprocess, 41.5ms inference, 7.7ms postprocess per image at shape (1, 3, 384, 640)\n",
      "\n",
      "0: 384x640 3 cars, 40.6ms\n",
      "Speed: 0.0ms preprocess, 40.6ms inference, 8.1ms postprocess per image at shape (1, 3, 384, 640)\n",
      "\n",
      "0: 384x640 3 cars, 49.7ms\n",
      "Speed: 0.0ms preprocess, 49.7ms inference, 0.0ms postprocess per image at shape (1, 3, 384, 640)\n",
      "\n",
      "0: 384x640 3 cars, 49.4ms\n",
      "Speed: 0.0ms preprocess, 49.4ms inference, 0.0ms postprocess per image at shape (1, 3, 384, 640)\n",
      "\n",
      "0: 384x640 3 cars, 1 truck, 49.2ms\n",
      "Speed: 0.0ms preprocess, 49.2ms inference, 0.0ms postprocess per image at shape (1, 3, 384, 640)\n",
      "\n",
      "0: 384x640 3 cars, 49.2ms\n",
      "Speed: 0.0ms preprocess, 49.2ms inference, 0.0ms postprocess per image at shape (1, 3, 384, 640)\n",
      "\n",
      "0: 384x640 4 cars, 48.8ms\n",
      "Speed: 0.0ms preprocess, 48.8ms inference, 0.3ms postprocess per image at shape (1, 3, 384, 640)\n",
      "\n",
      "0: 384x640 4 cars, 48.0ms\n",
      "Speed: 0.0ms preprocess, 48.0ms inference, 0.0ms postprocess per image at shape (1, 3, 384, 640)\n",
      "\n",
      "0: 384x640 4 cars, 41.5ms\n",
      "Speed: 0.0ms preprocess, 41.5ms inference, 0.0ms postprocess per image at shape (1, 3, 384, 640)\n",
      "\n",
      "0: 384x640 4 cars, 1 truck, 41.7ms\n",
      "Speed: 0.0ms preprocess, 41.7ms inference, 0.0ms postprocess per image at shape (1, 3, 384, 640)\n",
      "\n",
      "0: 384x640 3 cars, 48.6ms\n",
      "Speed: 0.0ms preprocess, 48.6ms inference, 0.1ms postprocess per image at shape (1, 3, 384, 640)\n",
      "\n",
      "0: 384x640 3 cars, 1 truck, 39.4ms\n",
      "Speed: 2.9ms preprocess, 39.4ms inference, 6.7ms postprocess per image at shape (1, 3, 384, 640)\n",
      "\n",
      "0: 384x640 3 cars, 1 truck, 48.8ms\n",
      "Speed: 0.0ms preprocess, 48.8ms inference, 0.0ms postprocess per image at shape (1, 3, 384, 640)\n",
      "\n",
      "0: 384x640 4 cars, 1 truck, 40.5ms\n",
      "Speed: 8.6ms preprocess, 40.5ms inference, 0.0ms postprocess per image at shape (1, 3, 384, 640)\n",
      "\n",
      "0: 384x640 4 cars, 40.2ms\n",
      "Speed: 4.0ms preprocess, 40.2ms inference, 0.0ms postprocess per image at shape (1, 3, 384, 640)\n",
      "\n",
      "0: 384x640 3 cars, 1 truck, 40.7ms\n",
      "Speed: 0.0ms preprocess, 40.7ms inference, 0.0ms postprocess per image at shape (1, 3, 384, 640)\n",
      "\n",
      "0: 384x640 4 cars, 1 truck, 40.8ms\n",
      "Speed: 0.0ms preprocess, 40.8ms inference, 0.0ms postprocess per image at shape (1, 3, 384, 640)\n",
      "\n",
      "0: 384x640 6 cars, 1 truck, 41.1ms\n",
      "Speed: 0.0ms preprocess, 41.1ms inference, 0.0ms postprocess per image at shape (1, 3, 384, 640)\n",
      "\n",
      "0: 384x640 4 cars, 1 truck, 41.3ms\n",
      "Speed: 0.0ms preprocess, 41.3ms inference, 0.0ms postprocess per image at shape (1, 3, 384, 640)\n",
      "\n",
      "0: 384x640 4 cars, 1 truck, 49.3ms\n",
      "Speed: 0.9ms preprocess, 49.3ms inference, 0.0ms postprocess per image at shape (1, 3, 384, 640)\n",
      "\n",
      "0: 384x640 4 cars, 44.1ms\n",
      "Speed: 8.3ms preprocess, 44.1ms inference, 0.0ms postprocess per image at shape (1, 3, 384, 640)\n",
      "\n",
      "0: 384x640 5 cars, 40.4ms\n",
      "Speed: 8.5ms preprocess, 40.4ms inference, 0.0ms postprocess per image at shape (1, 3, 384, 640)\n",
      "\n",
      "0: 384x640 6 cars, 41.1ms\n",
      "Speed: 8.0ms preprocess, 41.1ms inference, 0.0ms postprocess per image at shape (1, 3, 384, 640)\n",
      "\n",
      "0: 384x640 6 cars, 1 truck, 48.7ms\n",
      "Speed: 0.0ms preprocess, 48.7ms inference, 0.0ms postprocess per image at shape (1, 3, 384, 640)\n",
      "\n",
      "0: 384x640 7 cars, 49.3ms\n",
      "Speed: 0.0ms preprocess, 49.3ms inference, 0.0ms postprocess per image at shape (1, 3, 384, 640)\n",
      "\n",
      "0: 384x640 5 cars, 49.3ms\n",
      "Speed: 0.0ms preprocess, 49.3ms inference, 0.0ms postprocess per image at shape (1, 3, 384, 640)\n",
      "\n",
      "0: 384x640 4 cars, 49.6ms\n",
      "Speed: 0.0ms preprocess, 49.6ms inference, 0.0ms postprocess per image at shape (1, 3, 384, 640)\n",
      "\n",
      "0: 384x640 6 cars, 50.5ms\n",
      "Speed: 0.0ms preprocess, 50.5ms inference, 0.0ms postprocess per image at shape (1, 3, 384, 640)\n",
      "\n",
      "0: 384x640 6 cars, 51.4ms\n",
      "Speed: 0.0ms preprocess, 51.4ms inference, 0.0ms postprocess per image at shape (1, 3, 384, 640)\n",
      "\n",
      "0: 384x640 6 cars, 41.9ms\n",
      "Speed: 6.5ms preprocess, 41.9ms inference, 0.0ms postprocess per image at shape (1, 3, 384, 640)\n",
      "\n",
      "0: 384x640 5 cars, 40.7ms\n",
      "Speed: 7.8ms preprocess, 40.7ms inference, 0.0ms postprocess per image at shape (1, 3, 384, 640)\n",
      "\n",
      "0: 384x640 5 cars, 49.0ms\n",
      "Speed: 8.0ms preprocess, 49.0ms inference, 0.0ms postprocess per image at shape (1, 3, 384, 640)\n",
      "\n",
      "0: 384x640 6 cars, 1 truck, 49.1ms\n",
      "Speed: 0.0ms preprocess, 49.1ms inference, 0.0ms postprocess per image at shape (1, 3, 384, 640)\n",
      "\n",
      "0: 384x640 5 cars, 49.1ms\n",
      "Speed: 0.0ms preprocess, 49.1ms inference, 0.0ms postprocess per image at shape (1, 3, 384, 640)\n",
      "\n",
      "0: 384x640 6 cars, 49.2ms\n",
      "Speed: 0.0ms preprocess, 49.2ms inference, 0.0ms postprocess per image at shape (1, 3, 384, 640)\n",
      "\n",
      "0: 384x640 5 cars, 1 truck, 48.9ms\n",
      "Speed: 0.0ms preprocess, 48.9ms inference, 0.0ms postprocess per image at shape (1, 3, 384, 640)\n",
      "\n",
      "0: 384x640 5 cars, 1 truck, 52.1ms\n",
      "Speed: 0.0ms preprocess, 52.1ms inference, 0.0ms postprocess per image at shape (1, 3, 384, 640)\n",
      "\n",
      "0: 384x640 6 cars, 40.8ms\n",
      "Speed: 6.0ms preprocess, 40.8ms inference, 0.0ms postprocess per image at shape (1, 3, 384, 640)\n",
      "\n",
      "0: 384x640 6 cars, 1 truck, 40.9ms\n",
      "Speed: 0.0ms preprocess, 40.9ms inference, 0.0ms postprocess per image at shape (1, 3, 384, 640)\n",
      "\n",
      "0: 384x640 5 cars, 1 truck, 47.1ms\n",
      "Speed: 0.0ms preprocess, 47.1ms inference, 0.0ms postprocess per image at shape (1, 3, 384, 640)\n",
      "\n",
      "0: 384x640 5 cars, 41.6ms\n",
      "Speed: 0.0ms preprocess, 41.6ms inference, 0.0ms postprocess per image at shape (1, 3, 384, 640)\n",
      "\n",
      "0: 384x640 5 cars, 1 truck, 41.1ms\n",
      "Speed: 8.7ms preprocess, 41.1ms inference, 0.0ms postprocess per image at shape (1, 3, 384, 640)\n",
      "\n",
      "0: 384x640 5 cars, 40.8ms\n",
      "Speed: 0.0ms preprocess, 40.8ms inference, 0.0ms postprocess per image at shape (1, 3, 384, 640)\n",
      "\n",
      "0: 384x640 5 cars, 49.5ms\n",
      "Speed: 7.7ms preprocess, 49.5ms inference, 0.0ms postprocess per image at shape (1, 3, 384, 640)\n",
      "\n",
      "0: 384x640 7 cars, 49.4ms\n",
      "Speed: 0.0ms preprocess, 49.4ms inference, 0.0ms postprocess per image at shape (1, 3, 384, 640)\n",
      "\n",
      "0: 384x640 6 cars, 1 truck, 47.3ms\n",
      "Speed: 0.0ms preprocess, 47.3ms inference, 0.0ms postprocess per image at shape (1, 3, 384, 640)\n",
      "\n",
      "0: 384x640 8 cars, 40.5ms\n",
      "Speed: 7.7ms preprocess, 40.5ms inference, 0.0ms postprocess per image at shape (1, 3, 384, 640)\n",
      "\n",
      "0: 384x640 5 cars, 49.4ms\n",
      "Speed: 0.0ms preprocess, 49.4ms inference, 7.5ms postprocess per image at shape (1, 3, 384, 640)\n",
      "\n",
      "0: 384x640 6 cars, 1 bus, 41.2ms\n",
      "Speed: 0.0ms preprocess, 41.2ms inference, 0.0ms postprocess per image at shape (1, 3, 384, 640)\n",
      "\n",
      "0: 384x640 6 cars, 1 bus, 53.2ms\n",
      "Speed: 0.1ms preprocess, 53.2ms inference, 3.5ms postprocess per image at shape (1, 3, 384, 640)\n",
      "2.493423080444336\n",
      "\n",
      "0: 384x640 7 cars, 52.0ms\n",
      "Speed: 1.0ms preprocess, 52.0ms inference, 4.5ms postprocess per image at shape (1, 3, 384, 640)\n",
      "2.486033535003662\n",
      "\n",
      "0: 384x640 6 cars, 55.7ms\n",
      "Speed: 0.0ms preprocess, 55.7ms inference, 1.5ms postprocess per image at shape (1, 3, 384, 640)\n",
      "1.4799282550811768\n",
      "\n",
      "0: 384x640 7 cars, 49.7ms\n",
      "Speed: 0.0ms preprocess, 49.7ms inference, 0.0ms postprocess per image at shape (1, 3, 384, 640)\n",
      "2.473610687255859\n",
      "\n",
      "0: 384x640 8 cars, 61.4ms\n",
      "Speed: 0.0ms preprocess, 61.4ms inference, 4.0ms postprocess per image at shape (1, 3, 384, 640)\n",
      "3.4654834270477295\n",
      "\n",
      "0: 384x640 6 cars, 68.0ms\n",
      "Speed: 2.4ms preprocess, 68.0ms inference, 0.0ms postprocess per image at shape (1, 3, 384, 640)\n",
      "1.4567137002944945\n",
      "\n",
      "0: 384x640 6 cars, 48.3ms\n",
      "Speed: 0.0ms preprocess, 48.3ms inference, 8.3ms postprocess per image at shape (1, 3, 384, 640)\n",
      "1.4506839275360108\n",
      "\n",
      "0: 384x640 7 cars, 1 bus, 49.3ms\n",
      "Speed: 0.0ms preprocess, 49.3ms inference, 0.0ms postprocess per image at shape (1, 3, 384, 640)\n",
      "3.444104313850403\n",
      "\n",
      "0: 384x640 6 cars, 49.6ms\n",
      "Speed: 0.0ms preprocess, 49.6ms inference, 0.0ms postprocess per image at shape (1, 3, 384, 640)\n",
      "1.4382714986801148\n",
      "\n",
      "0: 384x640 5 cars, 46.0ms\n",
      "Speed: 0.4ms preprocess, 46.0ms inference, 3.5ms postprocess per image at shape (1, 3, 384, 640)\n",
      "0.4322094678878784\n",
      "\n",
      "0: 384x640 5 cars, 1 bus, 57.4ms\n",
      "Speed: 0.0ms preprocess, 57.4ms inference, 4.9ms postprocess per image at shape (1, 3, 384, 640)\n",
      "1.4249316453933716\n",
      "\n",
      "0: 384x640 5 cars, 1 bus, 49.0ms\n",
      "Speed: 0.0ms preprocess, 49.0ms inference, 0.0ms postprocess per image at shape (1, 3, 384, 640)\n",
      "1.418418049812317\n",
      "\n",
      "0: 384x640 5 cars, 1 bus, 55.5ms\n",
      "Speed: 0.0ms preprocess, 55.5ms inference, 0.2ms postprocess per image at shape (1, 3, 384, 640)\n",
      "1.4120537281036376\n",
      "\n",
      "0: 384x640 5 cars, 1 bus, 49.5ms\n",
      "Speed: 0.0ms preprocess, 49.5ms inference, 0.0ms postprocess per image at shape (1, 3, 384, 640)\n",
      "1.406343936920166\n",
      "\n",
      "0: 384x640 6 cars, 1 bus, 40.9ms\n",
      "Speed: 8.0ms preprocess, 40.9ms inference, 0.0ms postprocess per image at shape (1, 3, 384, 640)\n",
      "2.4005207061767577\n",
      "\n",
      "0: 384x640 6 cars, 1 bus, 40.8ms\n",
      "Speed: 0.0ms preprocess, 40.8ms inference, 0.0ms postprocess per image at shape (1, 3, 384, 640)\n",
      "2.3946840524673463\n",
      "\n",
      "0: 384x640 6 cars, 40.3ms\n",
      "Speed: 0.8ms preprocess, 40.3ms inference, 0.0ms postprocess per image at shape (1, 3, 384, 640)\n",
      "1.3890906810760497\n",
      "\n",
      "0: 384x640 6 cars, 48.9ms\n",
      "Speed: 0.0ms preprocess, 48.9ms inference, 0.0ms postprocess per image at shape (1, 3, 384, 640)\n",
      "1.3825283765792846\n",
      "\n",
      "0: 384x640 6 cars, 49.5ms\n",
      "Speed: 0.0ms preprocess, 49.5ms inference, 0.0ms postprocess per image at shape (1, 3, 384, 640)\n",
      "1.3767645359039307\n",
      "\n",
      "0: 384x640 6 cars, 44.5ms\n",
      "Speed: 5.4ms preprocess, 44.5ms inference, 0.0ms postprocess per image at shape (1, 3, 384, 640)\n",
      "1.3707616329193115\n",
      "\n",
      "0: 384x640 6 cars, 47.3ms\n",
      "Speed: 0.0ms preprocess, 47.3ms inference, 7.5ms postprocess per image at shape (1, 3, 384, 640)\n",
      "1.3649646043777466\n",
      "\n",
      "0: 384x640 6 cars, 41.0ms\n",
      "Speed: 0.0ms preprocess, 41.0ms inference, 0.0ms postprocess per image at shape (1, 3, 384, 640)\n",
      "1.3595499515533447\n",
      "\n",
      "0: 384x640 6 cars, 49.3ms\n",
      "Speed: 0.0ms preprocess, 49.3ms inference, 0.0ms postprocess per image at shape (1, 3, 384, 640)\n",
      "1.3528997182846068\n",
      "\n",
      "0: 384x640 6 cars, 48.5ms\n",
      "Speed: 0.0ms preprocess, 48.5ms inference, 0.0ms postprocess per image at shape (1, 3, 384, 640)\n",
      "1.3471860170364378\n",
      "\n",
      "0: 384x640 7 cars, 49.3ms\n",
      "Speed: 7.5ms preprocess, 49.3ms inference, 0.0ms postprocess per image at shape (1, 3, 384, 640)\n",
      "2.3406794548034666\n",
      "\n",
      "0: 384x640 5 cars, 49.6ms\n",
      "Speed: 0.0ms preprocess, 49.6ms inference, 0.0ms postprocess per image at shape (1, 3, 384, 640)\n",
      "0.3349097251892089\n",
      "\n",
      "0: 384x640 6 cars, 49.4ms\n",
      "Speed: 0.0ms preprocess, 49.4ms inference, 0.0ms postprocess per image at shape (1, 3, 384, 640)\n",
      "1.32917377948761\n",
      "\n",
      "0: 384x640 7 cars, 49.0ms\n",
      "Speed: 0.0ms preprocess, 49.0ms inference, 0.0ms postprocess per image at shape (1, 3, 384, 640)\n",
      "2.323436808586121\n",
      "\n",
      "0: 384x640 7 cars, 41.3ms\n",
      "Speed: 1.2ms preprocess, 41.3ms inference, 0.0ms postprocess per image at shape (1, 3, 384, 640)\n",
      "2.3175172805786133\n",
      "\n",
      "0: 384x640 6 cars, 49.9ms\n",
      "Speed: 0.0ms preprocess, 49.9ms inference, 0.0ms postprocess per image at shape (1, 3, 384, 640)\n",
      "1.3110507726669312\n",
      "\n",
      "0: 384x640 6 cars, 49.4ms\n",
      "Speed: 0.0ms preprocess, 49.4ms inference, 0.0ms postprocess per image at shape (1, 3, 384, 640)\n",
      "1.3048940181732176\n",
      "\n",
      "0: 384x640 7 cars, 46.9ms\n",
      "Speed: 2.6ms preprocess, 46.9ms inference, 0.0ms postprocess per image at shape (1, 3, 384, 640)\n",
      "2.298731207847595\n",
      "\n",
      "0: 384x640 6 cars, 49.5ms\n",
      "Speed: 0.0ms preprocess, 49.5ms inference, 0.0ms postprocess per image at shape (1, 3, 384, 640)\n",
      "1.292815637588501\n",
      "\n",
      "0: 384x640 6 cars, 47.8ms\n",
      "Speed: 0.0ms preprocess, 47.8ms inference, 0.0ms postprocess per image at shape (1, 3, 384, 640)\n",
      "1.287203001976013\n",
      "\n",
      "0: 384x640 5 cars, 49.4ms\n",
      "Speed: 8.0ms preprocess, 49.4ms inference, 0.0ms postprocess per image at shape (1, 3, 384, 640)\n",
      "0.28058869838714595\n",
      "\n",
      "0: 384x640 5 cars, 42.3ms\n",
      "Speed: 2.3ms preprocess, 42.3ms inference, 8.1ms postprocess per image at shape (1, 3, 384, 640)\n",
      "0.27453737258911126\n",
      "\n",
      "0: 384x640 6 cars, 56.6ms\n",
      "Speed: 7.5ms preprocess, 56.6ms inference, 0.2ms postprocess per image at shape (1, 3, 384, 640)\n",
      "1.2673144340515137\n",
      "\n",
      "0: 384x640 8 cars, 56.3ms\n",
      "Speed: 0.0ms preprocess, 56.3ms inference, 0.0ms postprocess per image at shape (1, 3, 384, 640)\n",
      "3.2607054710388184\n",
      "\n",
      "0: 384x640 8 cars, 48.8ms\n",
      "Speed: 0.0ms preprocess, 48.8ms inference, 0.0ms postprocess per image at shape (1, 3, 384, 640)\n",
      "3.2549920797348024\n",
      "\n",
      "0: 384x640 7 cars, 48.9ms\n",
      "Speed: 0.0ms preprocess, 48.9ms inference, 0.0ms postprocess per image at shape (1, 3, 384, 640)\n",
      "2.248453211784363\n",
      "\n",
      "0: 384x640 7 cars, 49.2ms\n",
      "Speed: 0.0ms preprocess, 49.2ms inference, 0.0ms postprocess per image at shape (1, 3, 384, 640)\n",
      "2.242762541770935\n",
      "\n",
      "0: 384x640 7 cars, 41.3ms\n",
      "Speed: 0.0ms preprocess, 41.3ms inference, 0.0ms postprocess per image at shape (1, 3, 384, 640)\n",
      "2.236841154098511\n",
      "\n",
      "0: 384x640 7 cars, 48.7ms\n",
      "Speed: 0.0ms preprocess, 48.7ms inference, 0.0ms postprocess per image at shape (1, 3, 384, 640)\n",
      "2.230475735664368\n",
      "\n",
      "0: 384x640 6 cars, 50.2ms\n",
      "Speed: 0.0ms preprocess, 50.2ms inference, 0.0ms postprocess per image at shape (1, 3, 384, 640)\n",
      "1.2244835138320922\n",
      "\n",
      "0: 384x640 6 cars, 41.4ms\n",
      "Speed: 1.2ms preprocess, 41.4ms inference, 7.3ms postprocess per image at shape (1, 3, 384, 640)\n",
      "1.218551015853882\n",
      "\n",
      "0: 384x640 6 cars, 49.6ms\n",
      "Speed: 0.0ms preprocess, 49.6ms inference, 0.0ms postprocess per image at shape (1, 3, 384, 640)\n",
      "1.2122674465179442\n",
      "\n",
      "0: 384x640 6 cars, 49.0ms\n",
      "Speed: 0.0ms preprocess, 49.0ms inference, 0.0ms postprocess per image at shape (1, 3, 384, 640)\n",
      "1.2065034627914428\n",
      "\n",
      "0: 384x640 6 cars, 40.9ms\n",
      "Speed: 8.8ms preprocess, 40.9ms inference, 7.6ms postprocess per image at shape (1, 3, 384, 640)\n",
      "1.1999589443206786\n",
      "\n",
      "0: 384x640 6 cars, 49.4ms\n",
      "Speed: 0.0ms preprocess, 49.4ms inference, 0.0ms postprocess per image at shape (1, 3, 384, 640)\n",
      "1.1941858530044556\n",
      "\n",
      "0: 384x640 6 cars, 45.7ms\n",
      "Speed: 0.0ms preprocess, 45.7ms inference, 0.0ms postprocess per image at shape (1, 3, 384, 640)\n",
      "1.1884823560714721\n",
      "\n",
      "0: 384x640 6 cars, 48.7ms\n",
      "Speed: 8.7ms preprocess, 48.7ms inference, 0.0ms postprocess per image at shape (1, 3, 384, 640)\n",
      "1.1819268226623536\n",
      "\n",
      "0: 384x640 6 cars, 49.2ms\n",
      "Speed: 0.0ms preprocess, 49.2ms inference, 0.0ms postprocess per image at shape (1, 3, 384, 640)\n",
      "1.176174783706665\n",
      "\n",
      "0: 384x640 6 cars, 49.5ms\n",
      "Speed: 0.0ms preprocess, 49.5ms inference, 0.0ms postprocess per image at shape (1, 3, 384, 640)\n",
      "1.169660973548889\n",
      "\n",
      "0: 384x640 5 cars, 49.5ms\n",
      "Speed: 0.0ms preprocess, 49.5ms inference, 0.0ms postprocess per image at shape (1, 3, 384, 640)\n",
      "0.16387310028076163\n",
      "\n",
      "0: 384x640 5 cars, 49.3ms\n",
      "Speed: 0.0ms preprocess, 49.3ms inference, 0.0ms postprocess per image at shape (1, 3, 384, 640)\n",
      "0.15801048278808594\n",
      "\n",
      "0: 384x640 6 cars, 45.0ms\n",
      "Speed: 8.1ms preprocess, 45.0ms inference, 0.0ms postprocess per image at shape (1, 3, 384, 640)\n",
      "1.1523016452789308\n",
      "\n",
      "0: 384x640 6 cars, 40.6ms\n",
      "Speed: 8.6ms preprocess, 40.6ms inference, 0.0ms postprocess per image at shape (1, 3, 384, 640)\n",
      "1.1465465784072877\n",
      "\n",
      "0: 384x640 6 cars, 48.9ms\n",
      "Speed: 0.0ms preprocess, 48.9ms inference, 0.3ms postprocess per image at shape (1, 3, 384, 640)\n",
      "1.1399815320968627\n",
      "\n",
      "0: 384x640 6 cars, 49.1ms\n",
      "Speed: 0.0ms preprocess, 49.1ms inference, 0.0ms postprocess per image at shape (1, 3, 384, 640)\n",
      "1.1342031717300416\n",
      "\n",
      "0: 384x640 6 cars, 43.6ms\n",
      "Speed: 4.7ms preprocess, 43.6ms inference, 0.0ms postprocess per image at shape (1, 3, 384, 640)\n",
      "1.1285152196884156\n",
      "\n",
      "0: 384x640 6 cars, 58.5ms\n",
      "Speed: 0.0ms preprocess, 58.5ms inference, 0.0ms postprocess per image at shape (1, 3, 384, 640)\n",
      "1.1218668699264525\n",
      "\n",
      "0: 384x640 6 cars, 48.9ms\n",
      "Speed: 0.0ms preprocess, 48.9ms inference, 0.0ms postprocess per image at shape (1, 3, 384, 640)\n",
      "1.11622154712677\n",
      "\n",
      "0: 384x640 5 cars, 48.9ms\n",
      "Speed: 0.6ms preprocess, 48.9ms inference, 0.0ms postprocess per image at shape (1, 3, 384, 640)\n",
      "0.1096308469772338\n",
      "\n",
      "0: 384x640 6 cars, 49.8ms\n",
      "Speed: 0.0ms preprocess, 49.8ms inference, 0.0ms postprocess per image at shape (1, 3, 384, 640)\n",
      "1.103840398788452\n",
      "\n",
      "0: 384x640 6 cars, 48.6ms\n",
      "Speed: 8.9ms preprocess, 48.6ms inference, 0.0ms postprocess per image at shape (1, 3, 384, 640)\n",
      "1.0971905469894407\n",
      "\n",
      "0: 384x640 7 cars, 41.4ms\n",
      "Speed: 0.0ms preprocess, 41.4ms inference, 0.0ms postprocess per image at shape (1, 3, 384, 640)\n",
      "2.091450047492981\n",
      "\n",
      "0: 384x640 6 cars, 47.9ms\n",
      "Speed: 1.0ms preprocess, 47.9ms inference, 0.0ms postprocess per image at shape (1, 3, 384, 640)\n",
      "1.0848064899444578\n",
      "\n",
      "0: 384x640 8 cars, 49.5ms\n",
      "Speed: 0.2ms preprocess, 49.5ms inference, 0.0ms postprocess per image at shape (1, 3, 384, 640)\n",
      "3.078335499763489\n",
      "\n",
      "0: 384x640 6 cars, 45.8ms\n",
      "Speed: 0.0ms preprocess, 45.8ms inference, 0.0ms postprocess per image at shape (1, 3, 384, 640)\n",
      "1.0725862503051757\n",
      "\n",
      "0: 384x640 7 cars, 49.5ms\n",
      "Speed: 8.0ms preprocess, 49.5ms inference, 0.0ms postprocess per image at shape (1, 3, 384, 640)\n",
      "2.0660258531570435\n",
      "\n",
      "0: 384x640 7 cars, 49.7ms\n",
      "Speed: 0.0ms preprocess, 49.7ms inference, 0.0ms postprocess per image at shape (1, 3, 384, 640)\n",
      "2.060253214836121\n",
      "\n",
      "0: 384x640 8 cars, 41.3ms\n",
      "Speed: 8.2ms preprocess, 41.3ms inference, 0.0ms postprocess per image at shape (1, 3, 384, 640)\n",
      "3.054045629501343\n",
      "\n",
      "0: 384x640 6 cars, 82.9ms\n",
      "Speed: 1.0ms preprocess, 82.9ms inference, 1.5ms postprocess per image at shape (1, 3, 384, 640)\n",
      "1.0445271015167235\n",
      "\n",
      "0: 384x640 7 cars, 65.8ms\n",
      "Speed: 3.3ms preprocess, 65.8ms inference, 0.0ms postprocess per image at shape (1, 3, 384, 640)\n",
      "2.0367538928985596\n",
      "\n",
      "0: 384x640 7 cars, 57.4ms\n",
      "Speed: 1.0ms preprocess, 57.4ms inference, 0.0ms postprocess per image at shape (1, 3, 384, 640)\n",
      "2.028645324707031\n",
      "\n",
      "0: 384x640 7 cars, 66.1ms\n",
      "Speed: 2.2ms preprocess, 66.1ms inference, 0.0ms postprocess per image at shape (1, 3, 384, 640)\n",
      "2.0206398487091066\n",
      "\n",
      "0: 384x640 7 cars, 58.5ms\n",
      "Speed: 0.0ms preprocess, 58.5ms inference, 0.0ms postprocess per image at shape (1, 3, 384, 640)\n",
      "2.0138672828674316\n",
      "\n",
      "0: 384x640 7 cars, 56.7ms\n",
      "Speed: 0.0ms preprocess, 56.7ms inference, 0.7ms postprocess per image at shape (1, 3, 384, 640)\n",
      "2.0068016767501833\n",
      "\n",
      "0: 384x640 6 cars, 57.5ms\n",
      "Speed: 0.0ms preprocess, 57.5ms inference, 0.9ms postprocess per image at shape (1, 3, 384, 640)\n",
      "1.000203776359558\n",
      "\n",
      "0: 384x640 6 cars, 81.2ms\n",
      "Speed: 0.0ms preprocess, 81.2ms inference, 0.0ms postprocess per image at shape (1, 3, 384, 640)\n",
      "0.9913124322891236\n",
      "\n",
      "0: 384x640 6 cars, 57.2ms\n",
      "Speed: 9.2ms preprocess, 57.2ms inference, 4.1ms postprocess per image at shape (1, 3, 384, 640)\n",
      "0.9837884187698365\n",
      "\n",
      "0: 384x640 6 cars, 41.5ms\n",
      "Speed: 8.0ms preprocess, 41.5ms inference, 7.3ms postprocess per image at shape (1, 3, 384, 640)\n",
      "0.9781029939651489\n",
      "\n",
      "0: 384x640 6 cars, 49.5ms\n",
      "Speed: 0.0ms preprocess, 49.5ms inference, 0.0ms postprocess per image at shape (1, 3, 384, 640)\n",
      "0.9714582204818725\n",
      "\n",
      "0: 384x640 5 cars, 49.2ms\n",
      "Speed: 0.6ms preprocess, 49.2ms inference, 0.0ms postprocess per image at shape (1, 3, 384, 640)\n",
      "-0.035213589668273926\n",
      "\n",
      "0: 384x640 6 cars, 130.5ms\n",
      "Speed: 0.0ms preprocess, 130.5ms inference, 0.0ms postprocess per image at shape (1, 3, 384, 640)\n",
      "\n",
      "0: 384x640 4 cars, 129.1ms\n",
      "Speed: 1.7ms preprocess, 129.1ms inference, 0.0ms postprocess per image at shape (1, 3, 384, 640)\n",
      "\n",
      "0: 384x640 3 cars, 139.0ms\n",
      "Speed: 0.0ms preprocess, 139.0ms inference, 0.0ms postprocess per image at shape (1, 3, 384, 640)\n",
      "\n",
      "0: 384x640 3 cars, 133.3ms\n",
      "Speed: 5.1ms preprocess, 133.3ms inference, 0.0ms postprocess per image at shape (1, 3, 384, 640)\n",
      "\n",
      "0: 384x640 3 cars, 124.7ms\n",
      "Speed: 7.5ms preprocess, 124.7ms inference, 0.0ms postprocess per image at shape (1, 3, 384, 640)\n",
      "\n",
      "0: 384x640 3 cars, 139.6ms\n",
      "Speed: 0.0ms preprocess, 139.6ms inference, 0.0ms postprocess per image at shape (1, 3, 384, 640)\n",
      "\n",
      "0: 384x640 4 cars, 131.6ms\n",
      "Speed: 5.2ms preprocess, 131.6ms inference, 0.5ms postprocess per image at shape (1, 3, 384, 640)\n",
      "\n",
      "0: 384x640 4 cars, 129.4ms\n",
      "Speed: 9.8ms preprocess, 129.4ms inference, 4.2ms postprocess per image at shape (1, 3, 384, 640)\n",
      "\n",
      "0: 384x640 4 cars, 135.5ms\n",
      "Speed: 3.4ms preprocess, 135.5ms inference, 0.0ms postprocess per image at shape (1, 3, 384, 640)\n",
      "\n",
      "0: 384x640 3 cars, 138.5ms\n",
      "Speed: 0.0ms preprocess, 138.5ms inference, 1.1ms postprocess per image at shape (1, 3, 384, 640)\n",
      "\n",
      "0: 384x640 4 cars, 130.7ms\n",
      "Speed: 8.0ms preprocess, 130.7ms inference, 0.8ms postprocess per image at shape (1, 3, 384, 640)\n",
      "\n",
      "0: 384x640 4 cars, 131.8ms\n",
      "Speed: 0.0ms preprocess, 131.8ms inference, 0.0ms postprocess per image at shape (1, 3, 384, 640)\n",
      "\n",
      "0: 384x640 3 cars, 130.3ms\n",
      "Speed: 4.3ms preprocess, 130.3ms inference, 3.3ms postprocess per image at shape (1, 3, 384, 640)\n",
      "\n",
      "0: 384x640 3 cars, 130.4ms\n",
      "Speed: 3.3ms preprocess, 130.4ms inference, 0.0ms postprocess per image at shape (1, 3, 384, 640)\n",
      "\n",
      "0: 384x640 3 cars, 139.0ms\n",
      "Speed: 0.5ms preprocess, 139.0ms inference, 0.0ms postprocess per image at shape (1, 3, 384, 640)\n",
      "\n",
      "0: 384x640 4 cars, 132.3ms\n",
      "Speed: 3.6ms preprocess, 132.3ms inference, 5.7ms postprocess per image at shape (1, 3, 384, 640)\n",
      "\n",
      "0: 384x640 4 cars, 129.6ms\n",
      "Speed: 6.5ms preprocess, 129.6ms inference, 0.9ms postprocess per image at shape (1, 3, 384, 640)\n",
      "\n",
      "0: 384x640 4 cars, 121.5ms\n",
      "Speed: 8.7ms preprocess, 121.5ms inference, 8.8ms postprocess per image at shape (1, 3, 384, 640)\n",
      "\n",
      "0: 384x640 4 cars, 136.7ms\n",
      "Speed: 0.0ms preprocess, 136.7ms inference, 0.0ms postprocess per image at shape (1, 3, 384, 640)\n",
      "\n",
      "0: 384x640 4 cars, 129.9ms\n",
      "Speed: 8.1ms preprocess, 129.9ms inference, 8.0ms postprocess per image at shape (1, 3, 384, 640)\n",
      "\n",
      "0: 384x640 4 cars, 131.8ms\n",
      "Speed: 0.0ms preprocess, 131.8ms inference, 7.8ms postprocess per image at shape (1, 3, 384, 640)\n",
      "\n",
      "0: 384x640 4 cars, 132.1ms\n",
      "Speed: 7.5ms preprocess, 132.1ms inference, 0.0ms postprocess per image at shape (1, 3, 384, 640)\n",
      "\n",
      "0: 384x640 3 cars, 138.5ms\n",
      "Speed: 0.0ms preprocess, 138.5ms inference, 0.0ms postprocess per image at shape (1, 3, 384, 640)\n",
      "\n",
      "0: 384x640 3 cars, 130.5ms\n",
      "Speed: 7.9ms preprocess, 130.5ms inference, 0.0ms postprocess per image at shape (1, 3, 384, 640)\n",
      "\n",
      "0: 384x640 4 cars, 135.7ms\n",
      "Speed: 2.4ms preprocess, 135.7ms inference, 2.6ms postprocess per image at shape (1, 3, 384, 640)\n",
      "\n",
      "0: 384x640 4 cars, 143.6ms\n",
      "Speed: 0.0ms preprocess, 143.6ms inference, 0.0ms postprocess per image at shape (1, 3, 384, 640)\n",
      "\n",
      "0: 384x640 3 cars, 73.9ms\n",
      "Speed: 7.5ms preprocess, 73.9ms inference, 0.0ms postprocess per image at shape (1, 3, 384, 640)\n",
      "\n",
      "0: 384x640 3 cars, 59.4ms\n",
      "Speed: 0.7ms preprocess, 59.4ms inference, 3.5ms postprocess per image at shape (1, 3, 384, 640)\n",
      "\n",
      "0: 384x640 3 cars, 48.9ms\n",
      "Speed: 1.4ms preprocess, 48.9ms inference, 0.0ms postprocess per image at shape (1, 3, 384, 640)\n",
      "\n",
      "0: 384x640 4 cars, 55.8ms\n",
      "Speed: 1.6ms preprocess, 55.8ms inference, 3.1ms postprocess per image at shape (1, 3, 384, 640)\n",
      "\n",
      "0: 384x640 4 cars, 53.2ms\n",
      "Speed: 3.0ms preprocess, 53.2ms inference, 4.0ms postprocess per image at shape (1, 3, 384, 640)\n",
      "\n",
      "0: 384x640 5 cars, 47.4ms\n",
      "Speed: 0.0ms preprocess, 47.4ms inference, 0.0ms postprocess per image at shape (1, 3, 384, 640)\n",
      "\n",
      "0: 384x640 4 cars, 47.0ms\n",
      "Speed: 3.1ms preprocess, 47.0ms inference, 5.5ms postprocess per image at shape (1, 3, 384, 640)\n",
      "-2.5041069746017457\n",
      "\n",
      "0: 384x640 4 cars, 60.8ms\n",
      "Speed: 1.8ms preprocess, 60.8ms inference, 1.1ms postprocess per image at shape (1, 3, 384, 640)\n",
      "-2.5122208118438722\n",
      "\n",
      "0: 384x640 3 cars, 63.3ms\n",
      "Speed: 4.1ms preprocess, 63.3ms inference, 0.7ms postprocess per image at shape (1, 3, 384, 640)\n",
      "-3.5205482244491577\n",
      "\n",
      "0: 384x640 3 cars, 65.4ms\n",
      "Speed: 0.9ms preprocess, 65.4ms inference, 4.0ms postprocess per image at shape (1, 3, 384, 640)\n",
      "-3.529322123527527\n",
      "\n",
      "0: 384x640 3 cars, 50.4ms\n",
      "Speed: 0.9ms preprocess, 50.4ms inference, 0.0ms postprocess per image at shape (1, 3, 384, 640)\n",
      "-3.5365206480026243\n",
      "\n",
      "0: 384x640 3 cars, 51.4ms\n",
      "Speed: 0.0ms preprocess, 51.4ms inference, 1.8ms postprocess per image at shape (1, 3, 384, 640)\n",
      "-3.5440524101257322\n",
      "\n",
      "0: 384x640 3 cars, 52.0ms\n",
      "Speed: 1.4ms preprocess, 52.0ms inference, 0.0ms postprocess per image at shape (1, 3, 384, 640)\n",
      "-3.5505890607833863\n",
      "\n",
      "0: 384x640 3 cars, 53.2ms\n",
      "Speed: 2.5ms preprocess, 53.2ms inference, 0.0ms postprocess per image at shape (1, 3, 384, 640)\n",
      "-3.557938575744629\n",
      "\n",
      "0: 384x640 3 cars, 55.8ms\n",
      "Speed: 0.0ms preprocess, 55.8ms inference, 0.0ms postprocess per image at shape (1, 3, 384, 640)\n",
      "-3.5652467727661135\n",
      "\n",
      "0: 384x640 3 cars, 48.6ms\n",
      "Speed: 0.0ms preprocess, 48.6ms inference, 0.0ms postprocess per image at shape (1, 3, 384, 640)\n",
      "-3.5725236415863035\n",
      "\n",
      "0: 384x640 3 cars, 48.5ms\n",
      "Speed: 8.6ms preprocess, 48.5ms inference, 0.0ms postprocess per image at shape (1, 3, 384, 640)\n",
      "-3.579899454116821\n",
      "\n",
      "0: 384x640 3 cars, 56.1ms\n",
      "Speed: 0.0ms preprocess, 56.1ms inference, 0.0ms postprocess per image at shape (1, 3, 384, 640)\n",
      "-3.586409068107605\n",
      "\n",
      "0: 384x640 3 cars, 41.5ms\n",
      "Speed: 0.0ms preprocess, 41.5ms inference, 7.7ms postprocess per image at shape (1, 3, 384, 640)\n",
      "-3.5929644107818604\n",
      "\n",
      "0: 384x640 3 cars, 41.2ms\n",
      "Speed: 0.0ms preprocess, 41.2ms inference, 8.2ms postprocess per image at shape (1, 3, 384, 640)\n",
      "-3.59951651096344\n",
      "\n",
      "0: 384x640 3 cars, 40.1ms\n",
      "Speed: 9.1ms preprocess, 40.1ms inference, 0.0ms postprocess per image at shape (1, 3, 384, 640)\n",
      "-3.6060877561569216\n",
      "\n",
      "0: 384x640 4 cars, 57.6ms\n",
      "Speed: 0.0ms preprocess, 57.6ms inference, 0.0ms postprocess per image at shape (1, 3, 384, 640)\n",
      "-2.6125819206237795\n",
      "\n",
      "0: 384x640 3 cars, 56.6ms\n",
      "Speed: 0.2ms preprocess, 56.6ms inference, 2.1ms postprocess per image at shape (1, 3, 384, 640)\n"
     ]
    }
   ],
   "source": [
    "def detection(frame):\n",
    "    # Appliquer le modèle YOLOv8 sur la frame\n",
    "    results = model(frame)\n",
    "\n",
    "    detected_vehicles = 0\n",
    "    detected_persons = 0\n",
    "\n",
    "    # Annoter uniquement les objets pertinents (personnes et véhicules, par exemple)\n",
    "    annotated_frame = frame.copy()  # Crée une copie pour annoter\n",
    "    for box in results[0].boxes:\n",
    "        class_id = int(box.cls)  # ID de la classe détectée\n",
    "        x1, y1, x2, y2 = map(int, box.xyxy[0])  # Coordonnées de la bounding box\n",
    "        confidence = box.conf[0]  # Confiance\n",
    "\n",
    "        # Définir les couleurs selon la classe\n",
    "        if class_id == 0:  # Classe \"personnes\"\n",
    "            color = (255, 0, 0)  # Bleu\n",
    "            detected_persons+=1\n",
    "        elif class_id in [2, 3, 5, 7]:  # Classes véhicules\n",
    "            color = (0, 255, 0)  # Vert\n",
    "            detected_vehicles+=1\n",
    "        else:\n",
    "            continue  # Ignorer les autres classes\n",
    "\n",
    "        # Dessiner la bounding box et afficher le label\n",
    "        label = f\"{results[0].names[class_id]} {confidence:.2f}\"\n",
    "        cv2.rectangle(annotated_frame, (x1, y1), (x2, y2), color, 2)\n",
    "        cv2.putText(annotated_frame, label, (x1, y1 - 10), cv2.FONT_HERSHEY_SIMPLEX, 0.5, color, 2)\n",
    "\n",
    "    cv2.putText(annotated_frame, f\"nbr car: {detected_vehicles}\", (50, 50), cv2.FONT_HERSHEY_SIMPLEX, 1, (0, 0, 255), 2, cv2.LINE_AA)\n",
    "\n",
    "    return annotated_frame, detected_vehicles\n",
    "\n",
    "cap1 = cv2.VideoCapture(video1_path)\n",
    "cap2 = cv2.VideoCapture(video2_path)\n",
    "\n",
    "pause_video1 = False\n",
    "pause_video2 = False\n",
    "\n",
    "tpause = time.time()\n",
    "vpause = 0\n",
    "\n",
    "car1 = 0\n",
    "car2 = 0\n",
    "\n",
    "\n",
    "while True:\n",
    "    temps_vid = time.time()\n",
    "    # Lecture de la vidéo 1\n",
    "    if temps_vid-tpause > 5:\n",
    "        if vpause==2:\n",
    "            val_p = (car1 - car2) - 0.1 * (temps_vid - tpause)\n",
    "        if vpause==1:\n",
    "            val_p = (car2 - car1) - 0.1 * (temps_vid - tpause)\n",
    "        print(val_p)\n",
    "\n",
    "\n",
    "\n",
    "    if not pause_video1:\n",
    "        ret1, frame1 = cap1.read()\n",
    "\n",
    "        if ret1:\n",
    "            frame1, car1 = detection(frame1)\n",
    "            if vpause == 2 and val_p > 0:\n",
    "                cv2.putText(frame1, \"green light\", (50, 150), cv2.FONT_HERSHEY_SIMPLEX, 1, (0, 0, 255), 2, cv2.LINE_AA)\n",
    "            else:\n",
    "                cv2.putText(frame1, \"red light\", (50, 150), cv2.FONT_HERSHEY_SIMPLEX, 1, (0, 0, 255), 2, cv2.LINE_AA)\n",
    "            cv2.imshow(\"Video 1\", frame1)\n",
    "        else:\n",
    "            print(\"Fin de la vidéo 1.\")\n",
    "            break\n",
    "\n",
    "    # Lecture de la vidéo 2\n",
    "    if not pause_video2:\n",
    "        ret2, frame2 = cap2.read()\n",
    "        if vpause == 1 and val_p > 0:\n",
    "            cv2.putText(frame2, \"red light\", (50, 150), cv2.FONT_HERSHEY_SIMPLEX, 1, (0, 0, 255), 2, cv2.LINE_AA)\n",
    "        else:\n",
    "            cv2.putText(frame2, \"green light\", (50, 150), cv2.FONT_HERSHEY_SIMPLEX, 1, (0, 0, 255), 2, cv2.LINE_AA)\n",
    "        cv2.imshow(\"Video 1\", frame1)\n",
    "        if ret2:\n",
    "            frame2, car2 = detection(frame2)\n",
    "            cv2.imshow(\"Video 2\", frame2)\n",
    "        else:\n",
    "            print(\"Fin de la vidéo 2.\")\n",
    "            break\n",
    "\n",
    "\n",
    "    if vpause == 0:\n",
    "        vpause =2\n",
    "\n",
    "    if val_p > 0 and vpause == 1:\n",
    "        pause_video1 = False\n",
    "        pause_video2 = True\n",
    "        tpause = time.time()\n",
    "        vpause=2\n",
    "    if val_p < 0 and vpause == 2:\n",
    "        pause_video1 = True\n",
    "        pause_video2 = False\n",
    "        tpause = time.time()\n",
    "        vpause = 1\n",
    "\n",
    "\n",
    "    # Gérer les touches\n",
    "    key = cv2.waitKey(1) & 0xFF\n",
    "    if key == ord('q'):  # Quitter\n",
    "        break\n",
    "\n",
    "cap1.release()\n",
    "cap2.release()\n",
    "cv2.destroyAllWindows()\n"
   ],
   "metadata": {
    "collapsed": false
   }
  },
  {
   "cell_type": "code",
   "execution_count": null,
   "outputs": [],
   "source": [],
   "metadata": {
    "collapsed": false
   }
  }
 ],
 "metadata": {
  "kernelspec": {
   "display_name": "Python 3",
   "language": "python",
   "name": "python3"
  },
  "language_info": {
   "codemirror_mode": {
    "name": "ipython",
    "version": 2
   },
   "file_extension": ".py",
   "mimetype": "text/x-python",
   "name": "python",
   "nbconvert_exporter": "python",
   "pygments_lexer": "ipython2",
   "version": "2.7.6"
  }
 },
 "nbformat": 4,
 "nbformat_minor": 0
}
